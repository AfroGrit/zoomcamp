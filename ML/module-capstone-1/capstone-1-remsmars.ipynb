{
 "cells": [
  {
   "cell_type": "markdown",
   "metadata": {},
   "source": [
    "#### 0. project discription"
   ]
  },
  {
   "cell_type": "markdown",
   "metadata": {},
   "source": [
    "Mars Rover Environmental Monitoring Station Data\n",
    "\n",
    "Objective - UV Radiation classification\n"
   ]
  },
  {
   "cell_type": "markdown",
   "metadata": {},
   "source": [
    "#### 01. load libraries"
   ]
  },
  {
   "cell_type": "code",
   "execution_count": 1,
   "metadata": {},
   "outputs": [],
   "source": [
    "import pandas as pd\n",
    "import numpy as np\n",
    "import random\n",
    "\n",
    "from sklearn.model_selection import train_test_split\n",
    "\n",
    "from sklearn.tree import DecisionTreeClassifier\n",
    "from sklearn.ensemble import RandomForestClassifier\n",
    "import xgboost as xgb\n",
    "\n",
    "from sklearn.feature_extraction import DictVectorizer\n",
    "from sklearn.metrics import roc_auc_score\n",
    "from sklearn.tree import export_text\n",
    "\n",
    "import bentoml\n",
    "\n",
    "import seaborn as sns\n",
    "from matplotlib import pyplot as plt\n",
    "%matplotlib inline\n"
   ]
  },
  {
   "cell_type": "code",
   "execution_count": 3,
   "metadata": {},
   "outputs": [],
   "source": [
    "df = pd.read_csv('REMS_Mars_Dataset.csv')\n",
    "df.columns = df.columns.str.lower()"
   ]
  },
  {
   "cell_type": "code",
   "execution_count": 4,
   "metadata": {},
   "outputs": [
    {
     "data": {
      "text/html": [
       "<div>\n",
       "<style scoped>\n",
       "    .dataframe tbody tr th:only-of-type {\n",
       "        vertical-align: middle;\n",
       "    }\n",
       "\n",
       "    .dataframe tbody tr th {\n",
       "        vertical-align: top;\n",
       "    }\n",
       "\n",
       "    .dataframe thead th {\n",
       "        text-align: right;\n",
       "    }\n",
       "</style>\n",
       "<table border=\"1\" class=\"dataframe\">\n",
       "  <thead>\n",
       "    <tr style=\"text-align: right;\">\n",
       "      <th></th>\n",
       "      <th>0</th>\n",
       "      <th>1</th>\n",
       "      <th>2</th>\n",
       "      <th>3</th>\n",
       "      <th>4</th>\n",
       "    </tr>\n",
       "  </thead>\n",
       "  <tbody>\n",
       "    <tr>\n",
       "      <th>earth_date_time</th>\n",
       "      <td>Earth, 2022-01-26 UTC</td>\n",
       "      <td>Earth, 2022-01-25 UTC</td>\n",
       "      <td>Earth, 2022-01-24 UTC</td>\n",
       "      <td>Earth, 2022-01-23 UTC</td>\n",
       "      <td>Earth, 2022-01-22 UTC</td>\n",
       "    </tr>\n",
       "    <tr>\n",
       "      <th>mars_date_time</th>\n",
       "      <td>Mars, Month 6 - LS 163°</td>\n",
       "      <td>Mars, Month 6 - LS 163°</td>\n",
       "      <td>Mars, Month 6 - LS 162°</td>\n",
       "      <td>Mars, Month 6 - LS 162°</td>\n",
       "      <td>Mars, Month 6 - LS 161°</td>\n",
       "    </tr>\n",
       "    <tr>\n",
       "      <th>sol_number</th>\n",
       "      <td>Sol 3368</td>\n",
       "      <td>Sol 3367</td>\n",
       "      <td>Sol 3366</td>\n",
       "      <td>Sol 3365</td>\n",
       "      <td>Sol 3364</td>\n",
       "    </tr>\n",
       "    <tr>\n",
       "      <th>max_ground_temp(°c)</th>\n",
       "      <td>-3</td>\n",
       "      <td>-3</td>\n",
       "      <td>-4</td>\n",
       "      <td>-6</td>\n",
       "      <td>-7</td>\n",
       "    </tr>\n",
       "    <tr>\n",
       "      <th>min_ground_temp(°c)</th>\n",
       "      <td>-71</td>\n",
       "      <td>-72</td>\n",
       "      <td>-70</td>\n",
       "      <td>-70</td>\n",
       "      <td>-71</td>\n",
       "    </tr>\n",
       "    <tr>\n",
       "      <th>max_air_temp(°c)</th>\n",
       "      <td>10</td>\n",
       "      <td>10</td>\n",
       "      <td>8</td>\n",
       "      <td>9</td>\n",
       "      <td>8</td>\n",
       "    </tr>\n",
       "    <tr>\n",
       "      <th>min_air_temp(°c)</th>\n",
       "      <td>-84</td>\n",
       "      <td>-87</td>\n",
       "      <td>-81</td>\n",
       "      <td>-91</td>\n",
       "      <td>-92</td>\n",
       "    </tr>\n",
       "    <tr>\n",
       "      <th>mean_pressure(pa)</th>\n",
       "      <td>707</td>\n",
       "      <td>707</td>\n",
       "      <td>708</td>\n",
       "      <td>707</td>\n",
       "      <td>708</td>\n",
       "    </tr>\n",
       "    <tr>\n",
       "      <th>wind_speed(m/h)</th>\n",
       "      <td>Value not available</td>\n",
       "      <td>Value not available</td>\n",
       "      <td>Value not available</td>\n",
       "      <td>Value not available</td>\n",
       "      <td>Value not available</td>\n",
       "    </tr>\n",
       "    <tr>\n",
       "      <th>humidity(%)</th>\n",
       "      <td>Value not available</td>\n",
       "      <td>Value not available</td>\n",
       "      <td>Value not available</td>\n",
       "      <td>Value not available</td>\n",
       "      <td>Value not available</td>\n",
       "    </tr>\n",
       "    <tr>\n",
       "      <th>sunrise</th>\n",
       "      <td>05:25</td>\n",
       "      <td>05:25</td>\n",
       "      <td>05:25</td>\n",
       "      <td>05:26</td>\n",
       "      <td>05:26</td>\n",
       "    </tr>\n",
       "    <tr>\n",
       "      <th>sunset</th>\n",
       "      <td>17:20</td>\n",
       "      <td>17:20</td>\n",
       "      <td>17:21</td>\n",
       "      <td>17:21</td>\n",
       "      <td>17:21</td>\n",
       "    </tr>\n",
       "    <tr>\n",
       "      <th>uv_radiation</th>\n",
       "      <td>moderate</td>\n",
       "      <td>moderate</td>\n",
       "      <td>moderate</td>\n",
       "      <td>moderate</td>\n",
       "      <td>moderate</td>\n",
       "    </tr>\n",
       "    <tr>\n",
       "      <th>weather</th>\n",
       "      <td>Sunny</td>\n",
       "      <td>Sunny</td>\n",
       "      <td>Sunny</td>\n",
       "      <td>Sunny</td>\n",
       "      <td>Sunny</td>\n",
       "    </tr>\n",
       "  </tbody>\n",
       "</table>\n",
       "</div>"
      ],
      "text/plain": [
       "                                           0                        1  \\\n",
       "earth_date_time        Earth, 2022-01-26 UTC    Earth, 2022-01-25 UTC   \n",
       "mars_date_time       Mars, Month 6 - LS 163°  Mars, Month 6 - LS 163°   \n",
       "sol_number                          Sol 3368                 Sol 3367   \n",
       "max_ground_temp(°c)                       -3                       -3   \n",
       "min_ground_temp(°c)                      -71                      -72   \n",
       "max_air_temp(°c)                          10                       10   \n",
       "min_air_temp(°c)                         -84                      -87   \n",
       "mean_pressure(pa)                        707                      707   \n",
       "wind_speed(m/h)          Value not available      Value not available   \n",
       "humidity(%)              Value not available      Value not available   \n",
       "sunrise                                05:25                    05:25   \n",
       "sunset                                 17:20                    17:20   \n",
       "uv_radiation                        moderate                 moderate   \n",
       "weather                                Sunny                    Sunny   \n",
       "\n",
       "                                           2                        3  \\\n",
       "earth_date_time        Earth, 2022-01-24 UTC    Earth, 2022-01-23 UTC   \n",
       "mars_date_time       Mars, Month 6 - LS 162°  Mars, Month 6 - LS 162°   \n",
       "sol_number                          Sol 3366                 Sol 3365   \n",
       "max_ground_temp(°c)                       -4                       -6   \n",
       "min_ground_temp(°c)                      -70                      -70   \n",
       "max_air_temp(°c)                           8                        9   \n",
       "min_air_temp(°c)                         -81                      -91   \n",
       "mean_pressure(pa)                        708                      707   \n",
       "wind_speed(m/h)          Value not available      Value not available   \n",
       "humidity(%)              Value not available      Value not available   \n",
       "sunrise                                05:25                    05:26   \n",
       "sunset                                 17:21                    17:21   \n",
       "uv_radiation                        moderate                 moderate   \n",
       "weather                                Sunny                    Sunny   \n",
       "\n",
       "                                           4  \n",
       "earth_date_time        Earth, 2022-01-22 UTC  \n",
       "mars_date_time       Mars, Month 6 - LS 161°  \n",
       "sol_number                          Sol 3364  \n",
       "max_ground_temp(°c)                       -7  \n",
       "min_ground_temp(°c)                      -71  \n",
       "max_air_temp(°c)                           8  \n",
       "min_air_temp(°c)                         -92  \n",
       "mean_pressure(pa)                        708  \n",
       "wind_speed(m/h)          Value not available  \n",
       "humidity(%)              Value not available  \n",
       "sunrise                                05:26  \n",
       "sunset                                 17:21  \n",
       "uv_radiation                        moderate  \n",
       "weather                                Sunny  "
      ]
     },
     "execution_count": 4,
     "metadata": {},
     "output_type": "execute_result"
    }
   ],
   "source": [
    "df.head().T"
   ]
  },
  {
   "cell_type": "code",
   "execution_count": 5,
   "metadata": {},
   "outputs": [
    {
     "data": {
      "text/html": [
       "<div>\n",
       "<style scoped>\n",
       "    .dataframe tbody tr th:only-of-type {\n",
       "        vertical-align: middle;\n",
       "    }\n",
       "\n",
       "    .dataframe tbody tr th {\n",
       "        vertical-align: top;\n",
       "    }\n",
       "\n",
       "    .dataframe thead th {\n",
       "        text-align: right;\n",
       "    }\n",
       "</style>\n",
       "<table border=\"1\" class=\"dataframe\">\n",
       "  <thead>\n",
       "    <tr style=\"text-align: right;\">\n",
       "      <th></th>\n",
       "      <th>earth_date_time</th>\n",
       "      <th>mars_date_time</th>\n",
       "      <th>sol_number</th>\n",
       "      <th>max_ground_temp(°c)</th>\n",
       "      <th>min_ground_temp(°c)</th>\n",
       "      <th>max_air_temp(°c)</th>\n",
       "      <th>min_air_temp(°c)</th>\n",
       "      <th>mean_pressure(pa)</th>\n",
       "      <th>wind_speed(m/h)</th>\n",
       "      <th>humidity(%)</th>\n",
       "      <th>sunrise</th>\n",
       "      <th>sunset</th>\n",
       "      <th>uv_radiation</th>\n",
       "      <th>weather</th>\n",
       "    </tr>\n",
       "  </thead>\n",
       "  <tbody>\n",
       "    <tr>\n",
       "      <th>count</th>\n",
       "      <td>3197</td>\n",
       "      <td>3197</td>\n",
       "      <td>3197</td>\n",
       "      <td>3197</td>\n",
       "      <td>3197</td>\n",
       "      <td>3197</td>\n",
       "      <td>3197</td>\n",
       "      <td>3197</td>\n",
       "      <td>3197</td>\n",
       "      <td>3197</td>\n",
       "      <td>3197</td>\n",
       "      <td>3197</td>\n",
       "      <td>3170</td>\n",
       "      <td>3197</td>\n",
       "    </tr>\n",
       "    <tr>\n",
       "      <th>unique</th>\n",
       "      <td>3197</td>\n",
       "      <td>360</td>\n",
       "      <td>3197</td>\n",
       "      <td>52</td>\n",
       "      <td>40</td>\n",
       "      <td>51</td>\n",
       "      <td>78</td>\n",
       "      <td>224</td>\n",
       "      <td>1</td>\n",
       "      <td>1</td>\n",
       "      <td>90</td>\n",
       "      <td>96</td>\n",
       "      <td>4</td>\n",
       "      <td>2</td>\n",
       "    </tr>\n",
       "    <tr>\n",
       "      <th>top</th>\n",
       "      <td>Earth, 2022-01-26 UTC</td>\n",
       "      <td>Mars, Month 3 - LS 86°</td>\n",
       "      <td>Sol 3368</td>\n",
       "      <td>-6</td>\n",
       "      <td>-79</td>\n",
       "      <td>14</td>\n",
       "      <td>-78</td>\n",
       "      <td>873</td>\n",
       "      <td>Value not available</td>\n",
       "      <td>Value not available</td>\n",
       "      <td>05:18</td>\n",
       "      <td>17:20</td>\n",
       "      <td>moderate</td>\n",
       "      <td>Sunny</td>\n",
       "    </tr>\n",
       "    <tr>\n",
       "      <th>freq</th>\n",
       "      <td>1</td>\n",
       "      <td>12</td>\n",
       "      <td>1</td>\n",
       "      <td>130</td>\n",
       "      <td>221</td>\n",
       "      <td>154</td>\n",
       "      <td>165</td>\n",
       "      <td>47</td>\n",
       "      <td>3197</td>\n",
       "      <td>3197</td>\n",
       "      <td>170</td>\n",
       "      <td>199</td>\n",
       "      <td>1450</td>\n",
       "      <td>3194</td>\n",
       "    </tr>\n",
       "  </tbody>\n",
       "</table>\n",
       "</div>"
      ],
      "text/plain": [
       "              earth_date_time          mars_date_time sol_number  \\\n",
       "count                    3197                    3197       3197   \n",
       "unique                   3197                     360       3197   \n",
       "top     Earth, 2022-01-26 UTC  Mars, Month 3 - LS 86°   Sol 3368   \n",
       "freq                        1                      12          1   \n",
       "\n",
       "       max_ground_temp(°c) min_ground_temp(°c) max_air_temp(°c)  \\\n",
       "count                 3197                3197             3197   \n",
       "unique                  52                  40               51   \n",
       "top                     -6                 -79               14   \n",
       "freq                   130                 221              154   \n",
       "\n",
       "       min_air_temp(°c) mean_pressure(pa)      wind_speed(m/h)  \\\n",
       "count              3197              3197                 3197   \n",
       "unique               78               224                    1   \n",
       "top                 -78               873  Value not available   \n",
       "freq                165                47                 3197   \n",
       "\n",
       "                humidity(%) sunrise sunset uv_radiation weather  \n",
       "count                  3197    3197   3197         3170    3197  \n",
       "unique                    1      90     96            4       2  \n",
       "top     Value not available   05:18  17:20     moderate   Sunny  \n",
       "freq                   3197     170    199         1450    3194  "
      ]
     },
     "execution_count": 5,
     "metadata": {},
     "output_type": "execute_result"
    }
   ],
   "source": [
    "df.describe().round()"
   ]
  },
  {
   "cell_type": "code",
   "execution_count": 6,
   "metadata": {},
   "outputs": [],
   "source": [
    "df = df.replace(r'Value not available', np.NaN, regex=True)"
   ]
  },
  {
   "cell_type": "code",
   "execution_count": 7,
   "metadata": {},
   "outputs": [
    {
     "name": "stdout",
     "output_type": "stream",
     "text": [
      "<class 'pandas.core.frame.DataFrame'>\n",
      "RangeIndex: 3197 entries, 0 to 3196\n",
      "Data columns (total 14 columns):\n",
      " #   Column               Non-Null Count  Dtype  \n",
      "---  ------               --------------  -----  \n",
      " 0   earth_date_time      3197 non-null   object \n",
      " 1   mars_date_time       3197 non-null   object \n",
      " 2   sol_number           3197 non-null   object \n",
      " 3   max_ground_temp(°c)  3169 non-null   object \n",
      " 4   min_ground_temp(°c)  3169 non-null   object \n",
      " 5   max_air_temp(°c)     3168 non-null   object \n",
      " 6   min_air_temp(°c)     3168 non-null   object \n",
      " 7   mean_pressure(pa)    3170 non-null   object \n",
      " 8   wind_speed(m/h)      0 non-null      float64\n",
      " 9   humidity(%)          0 non-null      float64\n",
      " 10  sunrise              3197 non-null   object \n",
      " 11  sunset               3197 non-null   object \n",
      " 12  uv_radiation         3170 non-null   object \n",
      " 13  weather              3194 non-null   object \n",
      "dtypes: float64(2), object(12)\n",
      "memory usage: 349.8+ KB\n"
     ]
    }
   ],
   "source": [
    "df.info()"
   ]
  },
  {
   "cell_type": "code",
   "execution_count": 8,
   "metadata": {},
   "outputs": [
    {
     "name": "stdout",
     "output_type": "stream",
     "text": [
      "<class 'pandas.core.frame.DataFrame'>\n",
      "RangeIndex: 3197 entries, 0 to 3196\n",
      "Data columns (total 14 columns):\n",
      " #   Column           Non-Null Count  Dtype  \n",
      "---  ------           --------------  -----  \n",
      " 0   earth_date_time  3197 non-null   object \n",
      " 1   mars_date_time   3197 non-null   object \n",
      " 2   sol_number       3197 non-null   object \n",
      " 3   max_ground_temp  3169 non-null   object \n",
      " 4   min_ground_temp  3169 non-null   object \n",
      " 5   max_air_temp     3168 non-null   object \n",
      " 6   min_air_temp     3168 non-null   object \n",
      " 7   mean_pressure    3170 non-null   object \n",
      " 8   wind_speed       0 non-null      float64\n",
      " 9   humidity         0 non-null      float64\n",
      " 10  sunrise          3197 non-null   object \n",
      " 11  sunset           3197 non-null   object \n",
      " 12  uv_radiation     3170 non-null   object \n",
      " 13  weather          3194 non-null   object \n",
      "dtypes: float64(2), object(12)\n",
      "memory usage: 349.8+ KB\n"
     ]
    }
   ],
   "source": [
    "df = df.rename(columns={\n",
    "  'max_ground_temp(°c)': 'max_ground_temp', \n",
    "  'min_ground_temp(°c)': 'min_ground_temp',\n",
    "  'max_air_temp(°c)': 'max_air_temp',\n",
    "  'min_air_temp(°c)': 'min_air_temp',\n",
    "  'mean_pressure(pa)': 'mean_pressure',\n",
    "  'wind_speed(m/h)': 'wind_speed',\n",
    "  'humidity(%)': 'humidity',\n",
    "\n",
    "  })\n",
    "\n",
    "df.info()"
   ]
  },
  {
   "cell_type": "markdown",
   "metadata": {},
   "source": [
    "#### 02. E.D.A"
   ]
  },
  {
   "cell_type": "code",
   "execution_count": 9,
   "metadata": {},
   "outputs": [
    {
     "data": {
      "text/html": [
       "<div>\n",
       "<style scoped>\n",
       "    .dataframe tbody tr th:only-of-type {\n",
       "        vertical-align: middle;\n",
       "    }\n",
       "\n",
       "    .dataframe tbody tr th {\n",
       "        vertical-align: top;\n",
       "    }\n",
       "\n",
       "    .dataframe thead th {\n",
       "        text-align: right;\n",
       "    }\n",
       "</style>\n",
       "<table border=\"1\" class=\"dataframe\">\n",
       "  <thead>\n",
       "    <tr style=\"text-align: right;\">\n",
       "      <th></th>\n",
       "      <th>0</th>\n",
       "      <th>1</th>\n",
       "      <th>2</th>\n",
       "      <th>3</th>\n",
       "      <th>4</th>\n",
       "    </tr>\n",
       "  </thead>\n",
       "  <tbody>\n",
       "    <tr>\n",
       "      <th>earth_date_time</th>\n",
       "      <td>Earth, 2022-01-26 UTC</td>\n",
       "      <td>Earth, 2022-01-25 UTC</td>\n",
       "      <td>Earth, 2022-01-24 UTC</td>\n",
       "      <td>Earth, 2022-01-23 UTC</td>\n",
       "      <td>Earth, 2022-01-22 UTC</td>\n",
       "    </tr>\n",
       "    <tr>\n",
       "      <th>mars_date_time</th>\n",
       "      <td>Mars, Month 6 - LS 163°</td>\n",
       "      <td>Mars, Month 6 - LS 163°</td>\n",
       "      <td>Mars, Month 6 - LS 162°</td>\n",
       "      <td>Mars, Month 6 - LS 162°</td>\n",
       "      <td>Mars, Month 6 - LS 161°</td>\n",
       "    </tr>\n",
       "    <tr>\n",
       "      <th>sol_number</th>\n",
       "      <td>Sol 3368</td>\n",
       "      <td>Sol 3367</td>\n",
       "      <td>Sol 3366</td>\n",
       "      <td>Sol 3365</td>\n",
       "      <td>Sol 3364</td>\n",
       "    </tr>\n",
       "    <tr>\n",
       "      <th>max_ground_temp</th>\n",
       "      <td>-3</td>\n",
       "      <td>-3</td>\n",
       "      <td>-4</td>\n",
       "      <td>-6</td>\n",
       "      <td>-7</td>\n",
       "    </tr>\n",
       "    <tr>\n",
       "      <th>min_ground_temp</th>\n",
       "      <td>-71</td>\n",
       "      <td>-72</td>\n",
       "      <td>-70</td>\n",
       "      <td>-70</td>\n",
       "      <td>-71</td>\n",
       "    </tr>\n",
       "    <tr>\n",
       "      <th>max_air_temp</th>\n",
       "      <td>10</td>\n",
       "      <td>10</td>\n",
       "      <td>8</td>\n",
       "      <td>9</td>\n",
       "      <td>8</td>\n",
       "    </tr>\n",
       "    <tr>\n",
       "      <th>min_air_temp</th>\n",
       "      <td>-84</td>\n",
       "      <td>-87</td>\n",
       "      <td>-81</td>\n",
       "      <td>-91</td>\n",
       "      <td>-92</td>\n",
       "    </tr>\n",
       "    <tr>\n",
       "      <th>mean_pressure</th>\n",
       "      <td>707</td>\n",
       "      <td>707</td>\n",
       "      <td>708</td>\n",
       "      <td>707</td>\n",
       "      <td>708</td>\n",
       "    </tr>\n",
       "    <tr>\n",
       "      <th>wind_speed</th>\n",
       "      <td>NaN</td>\n",
       "      <td>NaN</td>\n",
       "      <td>NaN</td>\n",
       "      <td>NaN</td>\n",
       "      <td>NaN</td>\n",
       "    </tr>\n",
       "    <tr>\n",
       "      <th>humidity</th>\n",
       "      <td>NaN</td>\n",
       "      <td>NaN</td>\n",
       "      <td>NaN</td>\n",
       "      <td>NaN</td>\n",
       "      <td>NaN</td>\n",
       "    </tr>\n",
       "    <tr>\n",
       "      <th>sunrise</th>\n",
       "      <td>05:25</td>\n",
       "      <td>05:25</td>\n",
       "      <td>05:25</td>\n",
       "      <td>05:26</td>\n",
       "      <td>05:26</td>\n",
       "    </tr>\n",
       "    <tr>\n",
       "      <th>sunset</th>\n",
       "      <td>17:20</td>\n",
       "      <td>17:20</td>\n",
       "      <td>17:21</td>\n",
       "      <td>17:21</td>\n",
       "      <td>17:21</td>\n",
       "    </tr>\n",
       "    <tr>\n",
       "      <th>uv_radiation</th>\n",
       "      <td>moderate</td>\n",
       "      <td>moderate</td>\n",
       "      <td>moderate</td>\n",
       "      <td>moderate</td>\n",
       "      <td>moderate</td>\n",
       "    </tr>\n",
       "    <tr>\n",
       "      <th>weather</th>\n",
       "      <td>Sunny</td>\n",
       "      <td>Sunny</td>\n",
       "      <td>Sunny</td>\n",
       "      <td>Sunny</td>\n",
       "      <td>Sunny</td>\n",
       "    </tr>\n",
       "  </tbody>\n",
       "</table>\n",
       "</div>"
      ],
      "text/plain": [
       "                                       0                        1  \\\n",
       "earth_date_time    Earth, 2022-01-26 UTC    Earth, 2022-01-25 UTC   \n",
       "mars_date_time   Mars, Month 6 - LS 163°  Mars, Month 6 - LS 163°   \n",
       "sol_number                      Sol 3368                 Sol 3367   \n",
       "max_ground_temp                       -3                       -3   \n",
       "min_ground_temp                      -71                      -72   \n",
       "max_air_temp                          10                       10   \n",
       "min_air_temp                         -84                      -87   \n",
       "mean_pressure                        707                      707   \n",
       "wind_speed                           NaN                      NaN   \n",
       "humidity                             NaN                      NaN   \n",
       "sunrise                            05:25                    05:25   \n",
       "sunset                             17:20                    17:20   \n",
       "uv_radiation                    moderate                 moderate   \n",
       "weather                            Sunny                    Sunny   \n",
       "\n",
       "                                       2                        3  \\\n",
       "earth_date_time    Earth, 2022-01-24 UTC    Earth, 2022-01-23 UTC   \n",
       "mars_date_time   Mars, Month 6 - LS 162°  Mars, Month 6 - LS 162°   \n",
       "sol_number                      Sol 3366                 Sol 3365   \n",
       "max_ground_temp                       -4                       -6   \n",
       "min_ground_temp                      -70                      -70   \n",
       "max_air_temp                           8                        9   \n",
       "min_air_temp                         -81                      -91   \n",
       "mean_pressure                        708                      707   \n",
       "wind_speed                           NaN                      NaN   \n",
       "humidity                             NaN                      NaN   \n",
       "sunrise                            05:25                    05:26   \n",
       "sunset                             17:21                    17:21   \n",
       "uv_radiation                    moderate                 moderate   \n",
       "weather                            Sunny                    Sunny   \n",
       "\n",
       "                                       4  \n",
       "earth_date_time    Earth, 2022-01-22 UTC  \n",
       "mars_date_time   Mars, Month 6 - LS 161°  \n",
       "sol_number                      Sol 3364  \n",
       "max_ground_temp                       -7  \n",
       "min_ground_temp                      -71  \n",
       "max_air_temp                           8  \n",
       "min_air_temp                         -92  \n",
       "mean_pressure                        708  \n",
       "wind_speed                           NaN  \n",
       "humidity                             NaN  \n",
       "sunrise                            05:26  \n",
       "sunset                             17:21  \n",
       "uv_radiation                    moderate  \n",
       "weather                            Sunny  "
      ]
     },
     "execution_count": 9,
     "metadata": {},
     "output_type": "execute_result"
    }
   ],
   "source": [
    "df.head().T"
   ]
  },
  {
   "cell_type": "code",
   "execution_count": 10,
   "metadata": {},
   "outputs": [
    {
     "name": "stdout",
     "output_type": "stream",
     "text": [
      "<class 'pandas.core.frame.DataFrame'>\n",
      "RangeIndex: 3197 entries, 0 to 3196\n",
      "Data columns (total 14 columns):\n",
      " #   Column           Non-Null Count  Dtype  \n",
      "---  ------           --------------  -----  \n",
      " 0   earth_date_time  3197 non-null   object \n",
      " 1   mars_date_time   3197 non-null   object \n",
      " 2   sol_number       3197 non-null   object \n",
      " 3   max_ground_temp  3169 non-null   float64\n",
      " 4   min_ground_temp  3169 non-null   float64\n",
      " 5   max_air_temp     3168 non-null   float64\n",
      " 6   min_air_temp     3168 non-null   float64\n",
      " 7   mean_pressure    3170 non-null   float64\n",
      " 8   wind_speed       0 non-null      float64\n",
      " 9   humidity         0 non-null      float64\n",
      " 10  sunrise          3197 non-null   object \n",
      " 11  sunset           3197 non-null   object \n",
      " 12  uv_radiation     3170 non-null   object \n",
      " 13  weather          3194 non-null   object \n",
      "dtypes: float64(7), object(7)\n",
      "memory usage: 349.8+ KB\n"
     ]
    }
   ],
   "source": [
    "float_measurements = ['max_ground_temp', 'min_ground_temp', 'max_air_temp', 'min_air_temp', 'mean_pressure', 'wind_speed','humidity']\n",
    "df[float_measurements] = df[float_measurements].astype(float)\n",
    "\n",
    "df.info()"
   ]
  },
  {
   "cell_type": "code",
   "execution_count": 11,
   "metadata": {},
   "outputs": [
    {
     "data": {
      "text/html": [
       "<div>\n",
       "<style scoped>\n",
       "    .dataframe tbody tr th:only-of-type {\n",
       "        vertical-align: middle;\n",
       "    }\n",
       "\n",
       "    .dataframe tbody tr th {\n",
       "        vertical-align: top;\n",
       "    }\n",
       "\n",
       "    .dataframe thead th {\n",
       "        text-align: right;\n",
       "    }\n",
       "</style>\n",
       "<table border=\"1\" class=\"dataframe\">\n",
       "  <thead>\n",
       "    <tr style=\"text-align: right;\">\n",
       "      <th></th>\n",
       "      <th>max_ground_temp</th>\n",
       "      <th>min_ground_temp</th>\n",
       "      <th>max_air_temp</th>\n",
       "      <th>min_air_temp</th>\n",
       "      <th>mean_pressure</th>\n",
       "      <th>wind_speed</th>\n",
       "      <th>humidity</th>\n",
       "    </tr>\n",
       "  </thead>\n",
       "  <tbody>\n",
       "    <tr>\n",
       "      <th>count</th>\n",
       "      <td>3169.000000</td>\n",
       "      <td>3169.000000</td>\n",
       "      <td>3168.000000</td>\n",
       "      <td>3168.000000</td>\n",
       "      <td>3170.000000</td>\n",
       "      <td>0.0</td>\n",
       "      <td>0.0</td>\n",
       "    </tr>\n",
       "    <tr>\n",
       "      <th>mean</th>\n",
       "      <td>-13.209214</td>\n",
       "      <td>-75.016409</td>\n",
       "      <td>2.010732</td>\n",
       "      <td>-80.317551</td>\n",
       "      <td>828.792429</td>\n",
       "      <td>NaN</td>\n",
       "      <td>NaN</td>\n",
       "    </tr>\n",
       "    <tr>\n",
       "      <th>std</th>\n",
       "      <td>10.493719</td>\n",
       "      <td>5.529282</td>\n",
       "      <td>9.401705</td>\n",
       "      <td>8.845239</td>\n",
       "      <td>57.119649</td>\n",
       "      <td>NaN</td>\n",
       "      <td>NaN</td>\n",
       "    </tr>\n",
       "    <tr>\n",
       "      <th>min</th>\n",
       "      <td>-67.000000</td>\n",
       "      <td>-100.000000</td>\n",
       "      <td>-61.000000</td>\n",
       "      <td>-136.000000</td>\n",
       "      <td>702.000000</td>\n",
       "      <td>NaN</td>\n",
       "      <td>NaN</td>\n",
       "    </tr>\n",
       "    <tr>\n",
       "      <th>25%</th>\n",
       "      <td>-23.000000</td>\n",
       "      <td>-79.000000</td>\n",
       "      <td>-6.000000</td>\n",
       "      <td>-86.000000</td>\n",
       "      <td>785.000000</td>\n",
       "      <td>NaN</td>\n",
       "      <td>NaN</td>\n",
       "    </tr>\n",
       "    <tr>\n",
       "      <th>50%</th>\n",
       "      <td>-12.000000</td>\n",
       "      <td>-75.000000</td>\n",
       "      <td>3.000000</td>\n",
       "      <td>-80.000000</td>\n",
       "      <td>843.000000</td>\n",
       "      <td>NaN</td>\n",
       "      <td>NaN</td>\n",
       "    </tr>\n",
       "    <tr>\n",
       "      <th>75%</th>\n",
       "      <td>-4.000000</td>\n",
       "      <td>-71.000000</td>\n",
       "      <td>10.000000</td>\n",
       "      <td>-75.000000</td>\n",
       "      <td>873.000000</td>\n",
       "      <td>NaN</td>\n",
       "      <td>NaN</td>\n",
       "    </tr>\n",
       "    <tr>\n",
       "      <th>max</th>\n",
       "      <td>11.000000</td>\n",
       "      <td>-52.000000</td>\n",
       "      <td>24.000000</td>\n",
       "      <td>-8.000000</td>\n",
       "      <td>925.000000</td>\n",
       "      <td>NaN</td>\n",
       "      <td>NaN</td>\n",
       "    </tr>\n",
       "  </tbody>\n",
       "</table>\n",
       "</div>"
      ],
      "text/plain": [
       "       max_ground_temp  min_ground_temp  max_air_temp  min_air_temp  \\\n",
       "count      3169.000000      3169.000000   3168.000000   3168.000000   \n",
       "mean        -13.209214       -75.016409      2.010732    -80.317551   \n",
       "std          10.493719         5.529282      9.401705      8.845239   \n",
       "min         -67.000000      -100.000000    -61.000000   -136.000000   \n",
       "25%         -23.000000       -79.000000     -6.000000    -86.000000   \n",
       "50%         -12.000000       -75.000000      3.000000    -80.000000   \n",
       "75%          -4.000000       -71.000000     10.000000    -75.000000   \n",
       "max          11.000000       -52.000000     24.000000     -8.000000   \n",
       "\n",
       "       mean_pressure  wind_speed  humidity  \n",
       "count    3170.000000         0.0       0.0  \n",
       "mean      828.792429         NaN       NaN  \n",
       "std        57.119649         NaN       NaN  \n",
       "min       702.000000         NaN       NaN  \n",
       "25%       785.000000         NaN       NaN  \n",
       "50%       843.000000         NaN       NaN  \n",
       "75%       873.000000         NaN       NaN  \n",
       "max       925.000000         NaN       NaN  "
      ]
     },
     "execution_count": 11,
     "metadata": {},
     "output_type": "execute_result"
    }
   ],
   "source": [
    "df.describe()"
   ]
  },
  {
   "cell_type": "code",
   "execution_count": 12,
   "metadata": {},
   "outputs": [
    {
     "data": {
      "text/plain": [
       "earth_date_time     0\n",
       "mars_date_time      0\n",
       "sol_number          0\n",
       "max_ground_temp    28\n",
       "min_ground_temp    28\n",
       "max_air_temp       29\n",
       "min_air_temp       29\n",
       "mean_pressure      27\n",
       "sunrise             0\n",
       "sunset              0\n",
       "uv_radiation       27\n",
       "weather             3\n",
       "dtype: int64"
      ]
     },
     "execution_count": 12,
     "metadata": {},
     "output_type": "execute_result"
    }
   ],
   "source": [
    "df.drop(['wind_speed', 'humidity'], axis = 1, inplace = True)\n",
    "df.isnull().sum(axis = 0)"
   ]
  },
  {
   "cell_type": "code",
   "execution_count": 13,
   "metadata": {},
   "outputs": [
    {
     "data": {
      "text/plain": [
       "moderate     1450\n",
       "high         1352\n",
       "very_high     284\n",
       "low            84\n",
       "Name: uv_radiation, dtype: int64"
      ]
     },
     "execution_count": 13,
     "metadata": {},
     "output_type": "execute_result"
    }
   ],
   "source": [
    "df['uv_radiation'].value_counts()\n",
    "# try multiclass classification"
   ]
  },
  {
   "cell_type": "code",
   "execution_count": 14,
   "metadata": {},
   "outputs": [],
   "source": [
    "df['uv_radiation'] = df['uv_radiation'].replace(r'very_high', 'high', regex=True)\n",
    "df['uv_radiation'] = df['uv_radiation'].replace(r'moderate', 'low', regex=True)\n",
    "# df['uv_radiation'].value_counts().sum()\n"
   ]
  },
  {
   "cell_type": "code",
   "execution_count": 15,
   "metadata": {},
   "outputs": [
    {
     "name": "stderr",
     "output_type": "stream",
     "text": [
      "/var/folders/ts/4n4696j93m3gbfdw1gxpvf880000gn/T/ipykernel_70160/543879950.py:1: FutureWarning: The default value of numeric_only in DataFrame.corr is deprecated. In a future version, it will default to False. Select only valid columns or specify the value of numeric_only to silence this warning.\n",
      "  df.corr().style.background_gradient(cmap='coolwarm')\n"
     ]
    },
    {
     "data": {
      "text/html": [
       "<style type=\"text/css\">\n",
       "#T_c612c_row0_col0, #T_c612c_row1_col1, #T_c612c_row2_col2, #T_c612c_row3_col3, #T_c612c_row4_col4 {\n",
       "  background-color: #b40426;\n",
       "  color: #f1f1f1;\n",
       "}\n",
       "#T_c612c_row0_col1 {\n",
       "  background-color: #f7b497;\n",
       "  color: #000000;\n",
       "}\n",
       "#T_c612c_row0_col2 {\n",
       "  background-color: #e67259;\n",
       "  color: #f1f1f1;\n",
       "}\n",
       "#T_c612c_row0_col3 {\n",
       "  background-color: #d6dce4;\n",
       "  color: #000000;\n",
       "}\n",
       "#T_c612c_row0_col4 {\n",
       "  background-color: #4358cb;\n",
       "  color: #f1f1f1;\n",
       "}\n",
       "#T_c612c_row1_col0 {\n",
       "  background-color: #f7af91;\n",
       "  color: #000000;\n",
       "}\n",
       "#T_c612c_row1_col2 {\n",
       "  background-color: #f2c9b4;\n",
       "  color: #000000;\n",
       "}\n",
       "#T_c612c_row1_col3 {\n",
       "  background-color: #f5c1a9;\n",
       "  color: #000000;\n",
       "}\n",
       "#T_c612c_row1_col4 {\n",
       "  background-color: #516ddb;\n",
       "  color: #f1f1f1;\n",
       "}\n",
       "#T_c612c_row2_col0 {\n",
       "  background-color: #e8765c;\n",
       "  color: #f1f1f1;\n",
       "}\n",
       "#T_c612c_row2_col1 {\n",
       "  background-color: #edd1c2;\n",
       "  color: #000000;\n",
       "}\n",
       "#T_c612c_row2_col3 {\n",
       "  background-color: #8badfd;\n",
       "  color: #000000;\n",
       "}\n",
       "#T_c612c_row2_col4, #T_c612c_row4_col0, #T_c612c_row4_col1, #T_c612c_row4_col2, #T_c612c_row4_col3 {\n",
       "  background-color: #3b4cc0;\n",
       "  color: #f1f1f1;\n",
       "}\n",
       "#T_c612c_row3_col0 {\n",
       "  background-color: #e1dad6;\n",
       "  color: #000000;\n",
       "}\n",
       "#T_c612c_row3_col1 {\n",
       "  background-color: #f6bda2;\n",
       "  color: #000000;\n",
       "}\n",
       "#T_c612c_row3_col2 {\n",
       "  background-color: #a7c5fe;\n",
       "  color: #000000;\n",
       "}\n",
       "#T_c612c_row3_col4 {\n",
       "  background-color: #5d7ce6;\n",
       "  color: #f1f1f1;\n",
       "}\n",
       "</style>\n",
       "<table id=\"T_c612c\">\n",
       "  <thead>\n",
       "    <tr>\n",
       "      <th class=\"blank level0\" >&nbsp;</th>\n",
       "      <th id=\"T_c612c_level0_col0\" class=\"col_heading level0 col0\" >max_ground_temp</th>\n",
       "      <th id=\"T_c612c_level0_col1\" class=\"col_heading level0 col1\" >min_ground_temp</th>\n",
       "      <th id=\"T_c612c_level0_col2\" class=\"col_heading level0 col2\" >max_air_temp</th>\n",
       "      <th id=\"T_c612c_level0_col3\" class=\"col_heading level0 col3\" >min_air_temp</th>\n",
       "      <th id=\"T_c612c_level0_col4\" class=\"col_heading level0 col4\" >mean_pressure</th>\n",
       "    </tr>\n",
       "  </thead>\n",
       "  <tbody>\n",
       "    <tr>\n",
       "      <th id=\"T_c612c_level0_row0\" class=\"row_heading level0 row0\" >max_ground_temp</th>\n",
       "      <td id=\"T_c612c_row0_col0\" class=\"data row0 col0\" >1.000000</td>\n",
       "      <td id=\"T_c612c_row0_col1\" class=\"data row0 col1\" >0.675214</td>\n",
       "      <td id=\"T_c612c_row0_col2\" class=\"data row0 col2\" >0.822246</td>\n",
       "      <td id=\"T_c612c_row0_col3\" class=\"data row0 col3\" >0.489733</td>\n",
       "      <td id=\"T_c612c_row0_col4\" class=\"data row0 col4\" >-0.055342</td>\n",
       "    </tr>\n",
       "    <tr>\n",
       "      <th id=\"T_c612c_level0_row1\" class=\"row_heading level0 row1\" >min_ground_temp</th>\n",
       "      <td id=\"T_c612c_row1_col0\" class=\"data row1 col0\" >0.675214</td>\n",
       "      <td id=\"T_c612c_row1_col1\" class=\"data row1 col1\" >1.000000</td>\n",
       "      <td id=\"T_c612c_row1_col2\" class=\"data row1 col2\" >0.570791</td>\n",
       "      <td id=\"T_c612c_row1_col3\" class=\"data row1 col3\" >0.646849</td>\n",
       "      <td id=\"T_c612c_row1_col4\" class=\"data row1 col4\" >-0.005307</td>\n",
       "    </tr>\n",
       "    <tr>\n",
       "      <th id=\"T_c612c_level0_row2\" class=\"row_heading level0 row2\" >max_air_temp</th>\n",
       "      <td id=\"T_c612c_row2_col0\" class=\"data row2 col0\" >0.822246</td>\n",
       "      <td id=\"T_c612c_row2_col1\" class=\"data row2 col1\" >0.570791</td>\n",
       "      <td id=\"T_c612c_row2_col2\" class=\"data row2 col2\" >1.000000</td>\n",
       "      <td id=\"T_c612c_row2_col3\" class=\"data row2 col3\" >0.268380</td>\n",
       "      <td id=\"T_c612c_row2_col4\" class=\"data row2 col4\" >-0.088271</td>\n",
       "    </tr>\n",
       "    <tr>\n",
       "      <th id=\"T_c612c_level0_row3\" class=\"row_heading level0 row3\" >min_air_temp</th>\n",
       "      <td id=\"T_c612c_row3_col0\" class=\"data row3 col0\" >0.489733</td>\n",
       "      <td id=\"T_c612c_row3_col1\" class=\"data row3 col1\" >0.646849</td>\n",
       "      <td id=\"T_c612c_row3_col2\" class=\"data row3 col2\" >0.268380</td>\n",
       "      <td id=\"T_c612c_row3_col3\" class=\"data row3 col3\" >1.000000</td>\n",
       "      <td id=\"T_c612c_row3_col4\" class=\"data row3 col4\" >0.032279</td>\n",
       "    </tr>\n",
       "    <tr>\n",
       "      <th id=\"T_c612c_level0_row4\" class=\"row_heading level0 row4\" >mean_pressure</th>\n",
       "      <td id=\"T_c612c_row4_col0\" class=\"data row4 col0\" >-0.055342</td>\n",
       "      <td id=\"T_c612c_row4_col1\" class=\"data row4 col1\" >-0.005307</td>\n",
       "      <td id=\"T_c612c_row4_col2\" class=\"data row4 col2\" >-0.088271</td>\n",
       "      <td id=\"T_c612c_row4_col3\" class=\"data row4 col3\" >0.032279</td>\n",
       "      <td id=\"T_c612c_row4_col4\" class=\"data row4 col4\" >1.000000</td>\n",
       "    </tr>\n",
       "  </tbody>\n",
       "</table>\n"
      ],
      "text/plain": [
       "<pandas.io.formats.style.Styler at 0x16446a340>"
      ]
     },
     "execution_count": 15,
     "metadata": {},
     "output_type": "execute_result"
    }
   ],
   "source": [
    "df.corr().style.background_gradient(cmap='coolwarm')"
   ]
  },
  {
   "cell_type": "code",
   "execution_count": 16,
   "metadata": {},
   "outputs": [
    {
     "data": {
      "text/plain": [
       "3197"
      ]
     },
     "execution_count": 16,
     "metadata": {},
     "output_type": "execute_result"
    }
   ],
   "source": [
    "df.shape[0]"
   ]
  },
  {
   "cell_type": "markdown",
   "metadata": {},
   "source": [
    "#### 03. modelling"
   ]
  },
  {
   "cell_type": "code",
   "execution_count": null,
   "metadata": {},
   "outputs": [],
   "source": []
  },
  {
   "cell_type": "code",
   "execution_count": 17,
   "metadata": {},
   "outputs": [],
   "source": [
    "\n",
    "df_full_train, df_test = train_test_split(df, test_size=0.2, random_state=11)\n",
    "df_train, df_val = train_test_split(df_full_train, test_size=0.25, random_state=11)"
   ]
  },
  {
   "cell_type": "code",
   "execution_count": 18,
   "metadata": {},
   "outputs": [],
   "source": [
    "df_train = df_train.reset_index(drop=True)\n",
    "df_val = df_val.reset_index(drop=True)\n",
    "df_test = df_test.reset_index(drop=True)"
   ]
  },
  {
   "cell_type": "code",
   "execution_count": 19,
   "metadata": {},
   "outputs": [
    {
     "data": {
      "text/plain": [
       "array(['high', 'low', nan], dtype=object)"
      ]
     },
     "execution_count": 19,
     "metadata": {},
     "output_type": "execute_result"
    }
   ],
   "source": [
    "df_train.uv_radiation.unique()"
   ]
  },
  {
   "cell_type": "code",
   "execution_count": 20,
   "metadata": {},
   "outputs": [],
   "source": [
    "y_train = (df_train.uv_radiation == 'high').astype('int').values\n",
    "y_val = (df_val.uv_radiation == 'high').astype('int').values\n",
    "y_test = (df_test.uv_radiation == 'high').astype('int').values"
   ]
  },
  {
   "cell_type": "code",
   "execution_count": 21,
   "metadata": {},
   "outputs": [],
   "source": [
    "del df_train['uv_radiation']\n",
    "del df_val['uv_radiation']\n",
    "del df_test['uv_radiation']"
   ]
  },
  {
   "cell_type": "code",
   "execution_count": 22,
   "metadata": {},
   "outputs": [],
   "source": [
    "num_cols = df.select_dtypes(include=np.number).columns.tolist()"
   ]
  },
  {
   "cell_type": "code",
   "execution_count": 23,
   "metadata": {},
   "outputs": [
    {
     "data": {
      "text/plain": [
       "((1917, 11), (640, 11))"
      ]
     },
     "execution_count": 23,
     "metadata": {},
     "output_type": "execute_result"
    }
   ],
   "source": [
    "df_train.shape, df_val.shape"
   ]
  },
  {
   "cell_type": "markdown",
   "metadata": {},
   "source": [
    "##### 03a. modelling - decision trees"
   ]
  },
  {
   "cell_type": "code",
   "execution_count": 24,
   "metadata": {},
   "outputs": [
    {
     "name": "stdout",
     "output_type": "stream",
     "text": [
      "<class 'pandas.core.frame.DataFrame'>\n",
      "RangeIndex: 1917 entries, 0 to 1916\n",
      "Data columns (total 11 columns):\n",
      " #   Column           Non-Null Count  Dtype  \n",
      "---  ------           --------------  -----  \n",
      " 0   earth_date_time  1917 non-null   object \n",
      " 1   mars_date_time   1917 non-null   object \n",
      " 2   sol_number       1917 non-null   object \n",
      " 3   max_ground_temp  1898 non-null   float64\n",
      " 4   min_ground_temp  1898 non-null   float64\n",
      " 5   max_air_temp     1897 non-null   float64\n",
      " 6   min_air_temp     1897 non-null   float64\n",
      " 7   mean_pressure    1899 non-null   float64\n",
      " 8   sunrise          1917 non-null   object \n",
      " 9   sunset           1917 non-null   object \n",
      " 10  weather          1916 non-null   object \n",
      "dtypes: float64(5), object(6)\n",
      "memory usage: 164.9+ KB\n"
     ]
    }
   ],
   "source": [
    "df_train.info()"
   ]
  },
  {
   "cell_type": "code",
   "execution_count": 25,
   "metadata": {},
   "outputs": [],
   "source": [
    "# df_train = df_train[ num_cols + ['weather']]\n",
    "# df_train.head().T"
   ]
  },
  {
   "cell_type": "code",
   "execution_count": 26,
   "metadata": {},
   "outputs": [],
   "source": [
    "dv = DictVectorizer(sparse=False)\n",
    "train_dicts = df_train[ num_cols + ['weather']].fillna(0).to_dict(orient='records')\n",
    "val_dicts = df_val[ num_cols + ['weather'] ].fillna(0).to_dict(orient='records')\n",
    "# train_dicts = df_train.fillna(0).to_dict(orient='records')\n",
    "# val_dicts = df_val.fillna(0).to_dict(orient='records')\n",
    "\n",
    "X_train = dv.fit_transform(train_dicts)\n",
    "X_val = dv.transform(val_dicts)\n"
   ]
  },
  {
   "cell_type": "code",
   "execution_count": 27,
   "metadata": {},
   "outputs": [
    {
     "name": "stdout",
     "output_type": "stream",
     "text": [
      "basic desicion tree (AUC): 0.813373253493014\n"
     ]
    }
   ],
   "source": [
    "dt = DecisionTreeClassifier()\n",
    "dt.fit(X_train, y_train)\n",
    "y_pred = dt.predict_proba(X_val)[:, 1]\n",
    "\n",
    "print('basic desicion tree (AUC):', roc_auc_score(y_val, y_pred))"
   ]
  },
  {
   "cell_type": "code",
   "execution_count": 28,
   "metadata": {},
   "outputs": [
    {
     "data": {
      "text/plain": [
       "DecisionTreeClassifier(max_depth=2)"
      ]
     },
     "execution_count": 28,
     "metadata": {},
     "output_type": "execute_result"
    }
   ],
   "source": [
    "dt = DecisionTreeClassifier(max_depth=2)\n",
    "dt.fit(X_train, y_train)"
   ]
  },
  {
   "cell_type": "code",
   "execution_count": 29,
   "metadata": {},
   "outputs": [
    {
     "name": "stdout",
     "output_type": "stream",
     "text": [
      "train (AUC): 0.7510907347476926\n",
      "validation (AUC): 0.7440070838714727\n"
     ]
    }
   ],
   "source": [
    "y_pred = dt.predict_proba(X_train)[:, 1]\n",
    "auc = roc_auc_score(y_train, y_pred)\n",
    "print('train (AUC):', auc)\n",
    "\n",
    "y_pred = dt.predict_proba(X_val)[:, 1]\n",
    "auc = roc_auc_score(y_val, y_pred)\n",
    "print('validation (AUC):', auc)"
   ]
  },
  {
   "cell_type": "code",
   "execution_count": 30,
   "metadata": {},
   "outputs": [
    {
     "name": "stdout",
     "output_type": "stream",
     "text": [
      "|--- max_air_temp <= 3.50\n",
      "|   |--- max_air_temp <= -5.50\n",
      "|   |   |--- class: 0\n",
      "|   |--- max_air_temp >  -5.50\n",
      "|   |   |--- class: 0\n",
      "|--- max_air_temp >  3.50\n",
      "|   |--- mean_pressure <= 713.50\n",
      "|   |   |--- class: 0\n",
      "|   |--- mean_pressure >  713.50\n",
      "|   |   |--- class: 1\n",
      "\n"
     ]
    },
    {
     "name": "stderr",
     "output_type": "stream",
     "text": [
      "/opt/anaconda3/envs/zoomcamp-ml/lib/python3.9/site-packages/sklearn/utils/deprecation.py:87: FutureWarning: Function get_feature_names is deprecated; get_feature_names is deprecated in 1.0 and will be removed in 1.2. Please use get_feature_names_out instead.\n",
      "  warnings.warn(msg, category=FutureWarning)\n"
     ]
    }
   ],
   "source": [
    "print(export_text(dt, feature_names=dv.get_feature_names()))\n",
    "# print(export_text(dt, feature_names=dv.get_feature_names_out()))"
   ]
  },
  {
   "cell_type": "markdown",
   "metadata": {},
   "source": [
    "##### 03b. parameter tunning"
   ]
  },
  {
   "cell_type": "code",
   "execution_count": 31,
   "metadata": {},
   "outputs": [
    {
     "data": {
      "text/plain": [
       "((1917, 7), (3197, 6))"
      ]
     },
     "execution_count": 31,
     "metadata": {},
     "output_type": "execute_result"
    }
   ],
   "source": [
    "X_train.shape, df[num_cols + ['weather']].shape"
   ]
  },
  {
   "cell_type": "code",
   "execution_count": 32,
   "metadata": {},
   "outputs": [
    {
     "name": "stdout",
     "output_type": "stream",
     "text": [
      "   1 -> 0.659\n",
      "   2 -> 0.744\n",
      "   3 -> 0.754\n",
      "   4 -> 0.791\n",
      "   5 -> 0.812\n",
      "   6 -> 0.827\n",
      "  10 -> 0.851\n",
      "  15 -> 0.831\n",
      "  20 -> 0.815\n",
      "None -> 0.813\n"
     ]
    }
   ],
   "source": [
    "depths = [1, 2, 3, 4, 5, 6, 10, 15, 20, None]\n",
    "\n",
    "for depth in depths: \n",
    "    dt = DecisionTreeClassifier(max_depth=depth)\n",
    "    dt.fit(X_train, y_train)\n",
    "    \n",
    "    y_pred = dt.predict_proba(X_val)[:, 1]\n",
    "    auc = roc_auc_score(y_val, y_pred)\n",
    "    \n",
    "    print('%4s -> %.3f' % (depth, auc))"
   ]
  },
  {
   "cell_type": "code",
   "execution_count": 33,
   "metadata": {},
   "outputs": [],
   "source": [
    "scores = []\n",
    "\n",
    "for depth in [4, 5, 6]:\n",
    "    for s in [1, 5, 10, 15, 20, 500, 100, 200]:\n",
    "        dt = DecisionTreeClassifier(max_depth=depth, min_samples_leaf=s)\n",
    "        dt.fit(X_train, y_train)\n",
    "\n",
    "        y_pred = dt.predict_proba(X_val)[:, 1]\n",
    "        auc = roc_auc_score(y_val, y_pred)\n",
    "        \n",
    "        scores.append((depth, s, auc))"
   ]
  },
  {
   "cell_type": "code",
   "execution_count": 34,
   "metadata": {},
   "outputs": [
    {
     "data": {
      "image/png": "[encoded data removed]",
      "text/plain": [
       "<Figure size 640x480 with 2 Axes>"
      ]
     },
     "metadata": {},
     "output_type": "display_data"
    }
   ],
   "source": [
    "columns = ['max_depth', 'min_samples_leaf', 'auc']\n",
    "df_scores = pd.DataFrame(scores, columns=columns)\n",
    "df_scores_pivot = df_scores.pivot(index='min_samples_leaf', columns=['max_depth'], values=['auc'])\n",
    "sns.heatmap(df_scores_pivot, annot=True, fmt=\".3f\");"
   ]
  },
  {
   "cell_type": "code",
   "execution_count": 35,
   "metadata": {},
   "outputs": [
    {
     "name": "stdout",
     "output_type": "stream",
     "text": [
      "Decision Tree (AUC): 0.8626912840984697\n"
     ]
    }
   ],
   "source": [
    "dt_model = DecisionTreeClassifier(max_depth=20, min_samples_leaf=7)\n",
    "dt_model.fit(X_train, y_train)\n",
    "y_pred = dt_model.predict_proba(X_val)[:, 1]\n",
    "\n",
    "print('Decision Tree (AUC):', roc_auc_score(y_val, y_pred))"
   ]
  },
  {
   "cell_type": "code",
   "execution_count": 36,
   "metadata": {},
   "outputs": [
    {
     "name": "stdout",
     "output_type": "stream",
     "text": [
      "Random Forest (AUC): 0.9125181010527965\n"
     ]
    }
   ],
   "source": [
    "rf_model = RandomForestClassifier(n_estimators=200, max_depth=10, min_samples_leaf=3, random_state=1)\n",
    "rf_model.fit(X_train, y_train)\n",
    "y_pred = rf_model.predict_proba(X_val)[:, 1]\n",
    "print('Random Forest (AUC):', roc_auc_score(y_val, y_pred))"
   ]
  },
  {
   "cell_type": "code",
   "execution_count": 37,
   "metadata": {},
   "outputs": [
    {
     "name": "stderr",
     "output_type": "stream",
     "text": [
      "/opt/anaconda3/envs/zoomcamp-ml/lib/python3.9/site-packages/sklearn/utils/deprecation.py:87: FutureWarning: Function get_feature_names is deprecated; get_feature_names is deprecated in 1.0 and will be removed in 1.2. Please use get_feature_names_out instead.\n",
      "  warnings.warn(msg, category=FutureWarning)\n"
     ]
    }
   ],
   "source": [
    "features = dv.get_feature_names()\n",
    "# dtrain = xgb.DMatrix(X_train, label=y_train, feature_names=features)\n",
    "# dval = xgb.DMatrix(X_val, label=y_val, feature_names=features)\n",
    "\n",
    "dtrain = xgb.DMatrix(X_train, label=y_train)\n",
    "dval = xgb.DMatrix(X_val, label=y_val)"
   ]
  },
  {
   "cell_type": "code",
   "execution_count": 38,
   "metadata": {},
   "outputs": [
    {
     "name": "stdout",
     "output_type": "stream",
     "text": [
      "xg boost (AUC): 0.9131345152831593\n"
     ]
    }
   ],
   "source": [
    "xgb_params = {\n",
    "    'eta': 0.1, \n",
    "    'max_depth': 3,\n",
    "    'min_child_weight': 1,\n",
    "\n",
    "    'objective': 'binary:logistic',\n",
    "    'eval_metric': 'auc',\n",
    "\n",
    "    'nthread': 8,\n",
    "    'seed': 1,\n",
    "    'verbosity': 1,\n",
    "}\n",
    "\n",
    "xgb_model = xgb.train(xgb_params, dtrain, num_boost_round=175)\n",
    "\n",
    "\n",
    "y_pred = xgb_model.predict(dval)\n",
    "print('xg boost (AUC):', roc_auc_score(y_val, y_pred))"
   ]
  },
  {
   "cell_type": "code",
   "execution_count": 39,
   "metadata": {},
   "outputs": [
    {
     "data": {
      "text/plain": [
       "array([0.69762254], dtype=float32)"
      ]
     },
     "execution_count": 39,
     "metadata": {},
     "output_type": "execute_result"
    }
   ],
   "source": [
    "sample_data = {\n",
    "  \"max_ground_temp\": -9.0,\n",
    "  \"min_ground_temp\": -77.0,\n",
    "  \"max_air_temp\": -3.0,\n",
    "  \"min_air_temp\": -81.0,\n",
    "  \"mean_pressure\": 863.0,\n",
    "  \"weather\": \"Sunny\"\n",
    "  }\n",
    "\n",
    "payload = dv.transform(sample_data)\n",
    "dpayload = xgb.DMatrix(payload, label=y_train)\n",
    "xgb_model.predict(dpayload)"
   ]
  },
  {
   "cell_type": "markdown",
   "metadata": {},
   "source": [
    "#### 04. model export: bento"
   ]
  },
  {
   "cell_type": "code",
   "execution_count": 40,
   "metadata": {},
   "outputs": [
    {
     "data": {
      "text/plain": [
       "Model(tag=\"uv_radiation_model:r2rcuddbkkapddef\", path=\"/Users/afrogrit/bentoml/models/uv_radiation_model/r2rcuddbkkapddef/\")"
      ]
     },
     "execution_count": 40,
     "metadata": {},
     "output_type": "execute_result"
    }
   ],
   "source": [
    "bentoml.xgboost.save_model(\n",
    "    'uv_radiation_model',\n",
    "    xgb_model,\n",
    "    labels={\"stage\": \"Midterm project\", },\n",
    "    custom_objects={ \"dictVectorizer\":dv }\n",
    "    )"
   ]
  },
  {
   "cell_type": "code",
   "execution_count": 41,
   "metadata": {},
   "outputs": [
    {
     "name": "stdout",
     "output_type": "stream",
     "text": [
      "\u001b[91;40mname\u001b[0m\u001b[97;40m:\u001b[0m\u001b[97;40m \u001b[0m\u001b[40muv_radiation_model\u001b[0m\u001b[40m                                                        \u001b[0m\n",
      "\u001b[91;40mversion\u001b[0m\u001b[97;40m:\u001b[0m\u001b[97;40m \u001b[0m\u001b[40mr2rcuddbkkapddef\u001b[0m\u001b[40m                                                       \u001b[0m\n",
      "\u001b[91;40mmodule\u001b[0m\u001b[97;40m:\u001b[0m\u001b[97;40m \u001b[0m\u001b[40mbentoml.xgboost\u001b[0m\u001b[40m                                                         \u001b[0m\n",
      "\u001b[91;40mlabels\u001b[0m\u001b[97;40m:\u001b[0m\u001b[97;40m \u001b[0m\u001b[40m{\u001b[0m\u001b[40m}\u001b[0m\u001b[40m                                                                      \u001b[0m\n",
      "\u001b[91;40moptions\u001b[0m\u001b[97;40m:\u001b[0m\u001b[40m                                                                        \u001b[0m\n",
      "\u001b[97;40m  \u001b[0m\u001b[91;40mmodel_class\u001b[0m\u001b[97;40m:\u001b[0m\u001b[97;40m \u001b[0m\u001b[40mBooster\u001b[0m\u001b[40m                                                          \u001b[0m\n",
      "\u001b[91;40mmetadata\u001b[0m\u001b[97;40m:\u001b[0m\u001b[97;40m \u001b[0m\u001b[40m{\u001b[0m\u001b[40m}\u001b[0m\u001b[40m                                                                    \u001b[0m\n",
      "\u001b[91;40mcontext\u001b[0m\u001b[97;40m:\u001b[0m\u001b[40m                                                                        \u001b[0m\n",
      "\u001b[97;40m  \u001b[0m\u001b[91;40mframework_name\u001b[0m\u001b[97;40m:\u001b[0m\u001b[97;40m \u001b[0m\u001b[40mxgboost\u001b[0m\u001b[40m                                                       \u001b[0m\n",
      "\u001b[97;40m  \u001b[0m\u001b[91;40mframework_versions\u001b[0m\u001b[97;40m:\u001b[0m\u001b[40m                                                           \u001b[0m\n",
      "\u001b[97;40m    \u001b[0m\u001b[91;40mxgboost\u001b[0m\u001b[97;40m:\u001b[0m\u001b[97;40m \u001b[0m\u001b[40m1.6.2\u001b[0m\u001b[40m                                                              \u001b[0m\n",
      "\u001b[97;40m  \u001b[0m\u001b[91;40mbentoml_version\u001b[0m\u001b[97;40m:\u001b[0m\u001b[97;40m \u001b[0m\u001b[40m1.0.7\u001b[0m\u001b[40m                                                        \u001b[0m\n",
      "\u001b[97;40m  \u001b[0m\u001b[91;40mpython_version\u001b[0m\u001b[97;40m:\u001b[0m\u001b[97;40m \u001b[0m\u001b[40m3.9.13\u001b[0m\u001b[40m                                                        \u001b[0m\n",
      "\u001b[91;40msignatures\u001b[0m\u001b[97;40m:\u001b[0m\u001b[40m                                                                     \u001b[0m\n",
      "\u001b[97;40m  \u001b[0m\u001b[91;40mpredict\u001b[0m\u001b[97;40m:\u001b[0m\u001b[40m                                                                      \u001b[0m\n",
      "\u001b[97;40m    \u001b[0m\u001b[91;40mbatchable\u001b[0m\u001b[97;40m:\u001b[0m\u001b[97;40m \u001b[0m\u001b[40mfalse\u001b[0m\u001b[40m                                                            \u001b[0m\n",
      "\u001b[91;40mapi_version\u001b[0m\u001b[97;40m:\u001b[0m\u001b[97;40m \u001b[0m\u001b[40mv2\u001b[0m\u001b[40m                                                                 \u001b[0m\n",
      "\u001b[91;40mcreation_time\u001b[0m\u001b[97;40m:\u001b[0m\u001b[97;40m \u001b[0m\u001b[93;40m'\u001b[0m\u001b[93;40m2022-11-10T23:51:12.657259+00:00\u001b[0m\u001b[93;40m'\u001b[0m\u001b[40m                               \u001b[0m\n",
      "\u001b[40m                                                                                \u001b[0m\n"
     ]
    }
   ],
   "source": [
    "!bentoml models get uv_radiation_model:latest\n"
   ]
  },
  {
   "cell_type": "code",
   "execution_count": 42,
   "metadata": {},
   "outputs": [
    {
     "name": "stdout",
     "output_type": "stream",
     "text": [
      "\u001b[1m \u001b[0m\u001b[1mTag                         \u001b[0m\u001b[1m \u001b[0m\u001b[1m \u001b[0m\u001b[1mModule         \u001b[0m\u001b[1m \u001b[0m\u001b[1m \u001b[0m\u001b[1mSize      \u001b[0m\u001b[1m \u001b[0m\u001b[1m \u001b[0m\u001b[1mCreation Time      \u001b[0m\u001b[1m \u001b[0m\n",
      " uv_radiation_model:r2rcuddb…  bentoml.xgboost  190.73 KiB  2022-11-11 01:51:12 \n",
      " uv_radiation_model:urexgddb…  bentoml.xgboost  190.89 KiB  2022-11-11 01:44:39 \n",
      " uv_radiation_model:dkd7l5db…  bentoml.xgboost  190.89 KiB  2022-11-11 01:33:38 \n",
      " uv_radiation_model:ay5u4rdb…  bentoml.xgboost  190.89 KiB  2022-11-11 01:25:55 \n",
      " uv_radiation_model:yqisx4tb…  bentoml.xgboost  190.89 KiB  2022-11-11 01:16:54 \n",
      " uv_radiation_model:bmesndtb…  bentoml.xgboost  190.89 KiB  2022-11-11 00:57:25 \n",
      " uv_radiation_model:4pj62ptb…  bentoml.xgboost  509.00 KiB  2022-11-10 23:37:35 \n",
      " uv_radiation_model:3lcw6xtb…  bentoml.xgboost  509.00 KiB  2022-11-10 23:15:51 \n",
      " uv_radiation_model:w3trxpdb…  bentoml.xgboost  509.00 KiB  2022-11-10 22:53:22 \n",
      " uv_radiation_model:ac37hvdb…  bentoml.xgboost  342.29 KiB  2022-11-10 19:49:19 \n",
      " credit_risk_model_hw7:uot7t…  bentoml.xgboost  114.20 KiB  2022-10-19 15:19:19 \n",
      " mlzoomcamp_homework:jsi67fs…  bentoml.sklearn  5.82 KiB    2022-10-14 16:48:43 \n",
      " mlzoomcamp_homework:qtzdz3s…  bentoml.sklearn  5.79 KiB    2022-10-13 22:42:14 \n"
     ]
    }
   ],
   "source": [
    "! bentoml models list"
   ]
  },
  {
   "cell_type": "code",
   "execution_count": null,
   "metadata": {},
   "outputs": [],
   "source": []
  }
 ],
 "metadata": {
  "kernelspec": {
   "display_name": "Python 3.9.13 ('zoomcamp-ml')",
   "language": "python",
   "name": "python3"
  },
  "language_info": {
   "codemirror_mode": {
    "name": "ipython",
    "version": 3
   },
   "file_extension": ".py",
   "mimetype": "text/x-python",
   "name": "python",
   "nbconvert_exporter": "python",
   "pygments_lexer": "ipython3",
   "version": "3.9.13"
  },
  "orig_nbformat": 4,
  "vscode": {
   "interpreter": {
    "hash": "9568fce3544c8f68e085c097285da3efbee6d788eb563e60d75922c05200034d"
   }
  }
 },
 "nbformat": 4,
 "nbformat_minor": 2
}
