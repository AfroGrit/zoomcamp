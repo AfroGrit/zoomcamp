{
 "cells": [
  {
   "cell_type": "code",
   "execution_count": 452,
   "metadata": {},
   "outputs": [],
   "source": [
    "import pandas as pd\n",
    "import numpy as np\n",
    "import matplotlib.pyplot as plt\n",
    "from sklearn.model_selection import train_test_split, KFold\n",
    "from sklearn.metrics import mutual_info_score\n",
    "from sklearn.feature_extraction import DictVectorizer\n",
    "from sklearn.linear_model import LogisticRegression, Ridge\n",
    "from sklearn.metrics import accuracy_score, mean_squared_error, auc, roc_auc_score, roc_curve\n"
   ]
  },
  {
   "cell_type": "code",
   "execution_count": 453,
   "metadata": {},
   "outputs": [],
   "source": [
    "# ! wget https://raw.githubusercontent.com/alexeygrigorev/datasets/master/AER_credit_card_data.csv"
   ]
  },
  {
   "cell_type": "code",
   "execution_count": 454,
   "metadata": {},
   "outputs": [
    {
     "data": {
      "text/html": [
       "<div>\n",
       "<style scoped>\n",
       "    .dataframe tbody tr th:only-of-type {\n",
       "        vertical-align: middle;\n",
       "    }\n",
       "\n",
       "    .dataframe tbody tr th {\n",
       "        vertical-align: top;\n",
       "    }\n",
       "\n",
       "    .dataframe thead th {\n",
       "        text-align: right;\n",
       "    }\n",
       "</style>\n",
       "<table border=\"1\" class=\"dataframe\">\n",
       "  <thead>\n",
       "    <tr style=\"text-align: right;\">\n",
       "      <th></th>\n",
       "      <th>1314</th>\n",
       "      <th>1315</th>\n",
       "      <th>1316</th>\n",
       "      <th>1317</th>\n",
       "      <th>1318</th>\n",
       "    </tr>\n",
       "  </thead>\n",
       "  <tbody>\n",
       "    <tr>\n",
       "      <th>card</th>\n",
       "      <td>yes</td>\n",
       "      <td>no</td>\n",
       "      <td>yes</td>\n",
       "      <td>yes</td>\n",
       "      <td>yes</td>\n",
       "    </tr>\n",
       "    <tr>\n",
       "      <th>reports</th>\n",
       "      <td>0</td>\n",
       "      <td>5</td>\n",
       "      <td>0</td>\n",
       "      <td>0</td>\n",
       "      <td>0</td>\n",
       "    </tr>\n",
       "    <tr>\n",
       "      <th>age</th>\n",
       "      <td>33.58333</td>\n",
       "      <td>23.91667</td>\n",
       "      <td>40.58333</td>\n",
       "      <td>32.83333</td>\n",
       "      <td>48.25</td>\n",
       "    </tr>\n",
       "    <tr>\n",
       "      <th>income</th>\n",
       "      <td>4.566</td>\n",
       "      <td>3.192</td>\n",
       "      <td>4.6</td>\n",
       "      <td>3.7</td>\n",
       "      <td>3.7</td>\n",
       "    </tr>\n",
       "    <tr>\n",
       "      <th>share</th>\n",
       "      <td>0.002146</td>\n",
       "      <td>0.000376</td>\n",
       "      <td>0.026513</td>\n",
       "      <td>0.008999</td>\n",
       "      <td>0.111619</td>\n",
       "    </tr>\n",
       "    <tr>\n",
       "      <th>expenditure</th>\n",
       "      <td>7.333333</td>\n",
       "      <td>0.0</td>\n",
       "      <td>101.2983</td>\n",
       "      <td>26.99667</td>\n",
       "      <td>344.1575</td>\n",
       "    </tr>\n",
       "    <tr>\n",
       "      <th>owner</th>\n",
       "      <td>yes</td>\n",
       "      <td>no</td>\n",
       "      <td>yes</td>\n",
       "      <td>no</td>\n",
       "      <td>yes</td>\n",
       "    </tr>\n",
       "    <tr>\n",
       "      <th>selfemp</th>\n",
       "      <td>no</td>\n",
       "      <td>no</td>\n",
       "      <td>no</td>\n",
       "      <td>yes</td>\n",
       "      <td>no</td>\n",
       "    </tr>\n",
       "    <tr>\n",
       "      <th>dependents</th>\n",
       "      <td>0</td>\n",
       "      <td>3</td>\n",
       "      <td>2</td>\n",
       "      <td>0</td>\n",
       "      <td>2</td>\n",
       "    </tr>\n",
       "    <tr>\n",
       "      <th>months</th>\n",
       "      <td>94</td>\n",
       "      <td>12</td>\n",
       "      <td>1</td>\n",
       "      <td>60</td>\n",
       "      <td>2</td>\n",
       "    </tr>\n",
       "    <tr>\n",
       "      <th>majorcards</th>\n",
       "      <td>1</td>\n",
       "      <td>1</td>\n",
       "      <td>1</td>\n",
       "      <td>1</td>\n",
       "      <td>1</td>\n",
       "    </tr>\n",
       "    <tr>\n",
       "      <th>active</th>\n",
       "      <td>19</td>\n",
       "      <td>5</td>\n",
       "      <td>2</td>\n",
       "      <td>7</td>\n",
       "      <td>0</td>\n",
       "    </tr>\n",
       "  </tbody>\n",
       "</table>\n",
       "</div>"
      ],
      "text/plain": [
       "                 1314      1315      1316      1317      1318\n",
       "card              yes        no       yes       yes       yes\n",
       "reports             0         5         0         0         0\n",
       "age          33.58333  23.91667  40.58333  32.83333     48.25\n",
       "income          4.566     3.192       4.6       3.7       3.7\n",
       "share        0.002146  0.000376  0.026513  0.008999  0.111619\n",
       "expenditure  7.333333       0.0  101.2983  26.99667  344.1575\n",
       "owner             yes        no       yes        no       yes\n",
       "selfemp            no        no        no       yes        no\n",
       "dependents          0         3         2         0         2\n",
       "months             94        12         1        60         2\n",
       "majorcards          1         1         1         1         1\n",
       "active             19         5         2         7         0"
      ]
     },
     "execution_count": 454,
     "metadata": {},
     "output_type": "execute_result"
    }
   ],
   "source": [
    "\n",
    "df = pd.read_csv('AER_credit_card_data.csv')\n",
    "df.tail().T"
   ]
  },
  {
   "cell_type": "code",
   "execution_count": 455,
   "metadata": {},
   "outputs": [],
   "source": [
    "# target variable by mapping \n",
    "# df.card = df.card.map(dict(yes=1, no=0))"
   ]
  },
  {
   "cell_type": "code",
   "execution_count": 456,
   "metadata": {},
   "outputs": [],
   "source": [
    "# # df.card = df.card.map(dict(yes=1, no=0))\n",
    "# y = df.card.values\n",
    "# del df['card']\n",
    "# df.shape, y.shape\n",
    "\n",
    "# train_ratio = 0.60\n",
    "# test_ratio = 0.20\n",
    "# validation_ratio = 0.20\n",
    "\n",
    "# df_X_train, df_X_test, y_train, y_test = train_test_split(df, y, test_size=test_ratio, random_state=1)\n",
    "# df_X_train, df_X_valid, y_train, y_valid = train_test_split(df_X_train, y_train, test_size=validation_ratio/(train_ratio+test_ratio), random_state=1)\n",
    "\n",
    "# # df_X_train.reset_index(inplace=True, drop=True)\n",
    "# # df_X_valid.reset_index(inplace=True, drop=True)\n",
    "# # df_X_test.reset_index(inplace=True, drop=True)\n",
    "\n",
    "# print(df_X_train.shape)\n",
    "# print(df_X_test.shape)\n",
    "# print(df_X_valid.shape)"
   ]
  },
  {
   "cell_type": "code",
   "execution_count": 457,
   "metadata": {},
   "outputs": [
    {
     "name": "stdout",
     "output_type": "stream",
     "text": [
      "(791, 11) (264, 11) (264, 11)\n"
     ]
    }
   ],
   "source": [
    "train_ratio = 0.60\n",
    "test_ratio = 0.20\n",
    "validation_ratio = 0.20\n",
    "\n",
    "# df_X_train, df_X_test, y_train, y_test = train_test_split(df, y, test_size=test_ratio, random_state=1)\n",
    "# df_X_train, df_X_valid, y_train, y_valid = train_test_split(df_X_train, y_train, test_size=validation_ratio/(train_ratio+test_ratio), random_state=1)\n",
    "\n",
    "df_full_train, df_test = train_test_split(df, test_size=test_ratio, random_state=1)\n",
    "df_train, df_val = train_test_split(df_full_train, test_size=validation_ratio/(train_ratio+test_ratio), random_state=1)\n",
    "\n",
    "\n",
    "df_train.reset_index(inplace=True, drop=True)\n",
    "df_val.reset_index(inplace=True, drop=True)\n",
    "df_test.reset_index(inplace=True, drop=True)\n",
    "\n",
    "y_train = df_train.card.values\n",
    "y_val = df_val.card.values\n",
    "y_test = df_test.card.values\n",
    "\n",
    "del df_train['card']\n",
    "del df_val['card']\n",
    "del df_test['card']\n",
    "\n",
    "print(df_train.shape, df_val.shape, df_test.shape)"
   ]
  },
  {
   "cell_type": "code",
   "execution_count": 458,
   "metadata": {},
   "outputs": [],
   "source": [
    "assert df_train.shape[0] + df_val.shape[0] + df_test.shape[0] == df.shape[0]"
   ]
  },
  {
   "cell_type": "code",
   "execution_count": 459,
   "metadata": {},
   "outputs": [],
   "source": [
    "\n",
    "# df.card = df.card.map(dict(yes=1, no=0))\n",
    "\n",
    "# df_full_train, df_test = train_test_split(df, test_size=.2, random_state=1)\n",
    "# df_train, df_val = train_test_split(df_full_train, test_size=.2, random_state=1)\n",
    "\n",
    "\n",
    "# df_train.reset_index(inplace=True, drop=True)\n",
    "# df_val.reset_index(inplace=True, drop=True)\n",
    "# df_test.reset_index(inplace=True, drop=True)\n",
    "\n",
    "# y_train = df_train.card.values\n",
    "# y_val = df_val.card.values\n",
    "# y_test = df_test.card.values\n",
    "\n",
    "# del df_train['card']\n",
    "# del df_val['card']\n",
    "# del df_test['card']\n",
    "\n",
    "# print(df_train.shape, df_val.shape, df_test.shape)"
   ]
  },
  {
   "cell_type": "markdown",
   "metadata": {},
   "source": [
    "Question 1\n",
    "- ROC AUC could also be used to evaluate feature importance of numerical variables.\n",
    "\n"
   ]
  },
  {
   "cell_type": "code",
   "execution_count": 460,
   "metadata": {},
   "outputs": [
    {
     "data": {
      "text/plain": [
       "['reports',\n",
       " 'age',\n",
       " 'income',\n",
       " 'share',\n",
       " 'expenditure',\n",
       " 'dependents',\n",
       " 'months',\n",
       " 'majorcards',\n",
       " 'active']"
      ]
     },
     "execution_count": 460,
     "metadata": {},
     "output_type": "execute_result"
    }
   ],
   "source": [
    "numerical = df_train.select_dtypes(include=np.number).columns.tolist()\n",
    "numerical"
   ]
  },
  {
   "cell_type": "code",
   "execution_count": 461,
   "metadata": {},
   "outputs": [
    {
     "name": "stdout",
     "output_type": "stream",
     "text": [
      "  reports, 0.717\n",
      "      age, 0.524\n",
      "   income, 0.591\n",
      "    share, 0.989\n",
      "expenditure, 0.991\n",
      "dependents, 0.533\n",
      "   months, 0.529\n",
      "majorcards, 0.534\n",
      "   active, 0.604\n"
     ]
    }
   ],
   "source": [
    "for feat in numerical:\n",
    "    auc = roc_auc_score(y_train, df_train[feat])\n",
    "    if auc < 0.5:\n",
    "        auc = roc_auc_score(y_train, -df_train[feat])\n",
    "    print('%9s, %.3f' % (feat, auc)) "
   ]
  },
  {
   "cell_type": "markdown",
   "metadata": {},
   "source": [
    "Training the model\n",
    "- Apply one-hot-encoding using DictVectorizer and train the logistic regression \n",
    "- `LogisticRegression(solver='liblinear', C=1.0, max_iter=1000)`\n"
   ]
  },
  {
   "cell_type": "code",
   "execution_count": 462,
   "metadata": {},
   "outputs": [
    {
     "data": {
      "text/plain": [
       "reports          int64\n",
       "age            float64\n",
       "income         float64\n",
       "share          float64\n",
       "expenditure    float64\n",
       "owner           object\n",
       "selfemp         object\n",
       "dependents       int64\n",
       "months           int64\n",
       "majorcards       int64\n",
       "active           int64\n",
       "dtype: object"
      ]
     },
     "execution_count": 462,
     "metadata": {},
     "output_type": "execute_result"
    }
   ],
   "source": [
    "df_train.dtypes"
   ]
  },
  {
   "cell_type": "code",
   "execution_count": 463,
   "metadata": {},
   "outputs": [],
   "source": [
    "# Encode \n",
    "train_dict = df_train[['owner', 'selfemp'] + numerical].to_dict(orient='records')\n",
    "val_dict = df_val[['owner', 'selfemp'] + numerical].to_dict(orient='records')\n",
    "\n",
    "dv = DictVectorizer(sparse=False)\n",
    "dv.fit(train_dict)\n",
    "\n",
    "X_train = dv.transform(train_dict)\n",
    "X_val = dv.transform(val_dict)"
   ]
  },
  {
   "cell_type": "code",
   "execution_count": 464,
   "metadata": {},
   "outputs": [],
   "source": [
    "model = LogisticRegression(solver=\"liblinear\", C=1.0, max_iter=1000)\n",
    "\n",
    "model.fit(X_train, y_train)\n",
    "\n",
    "# _y_val_pred = model.predict(X_val)\n",
    "y_valid_pred = model.predict_proba(X_val)[:, 1]"
   ]
  },
  {
   "cell_type": "markdown",
   "metadata": {},
   "source": [
    "Question 2\n",
    "- What's the `AUC` of this model on the validation dataset? (round to 3 digits)"
   ]
  },
  {
   "cell_type": "code",
   "execution_count": 465,
   "metadata": {},
   "outputs": [
    {
     "data": {
      "text/plain": [
       "0.995"
      ]
     },
     "execution_count": 465,
     "metadata": {},
     "output_type": "execute_result"
    }
   ],
   "source": [
    "round(roc_auc_score(y_val, y_valid_pred), 3)"
   ]
  },
  {
   "cell_type": "markdown",
   "metadata": {},
   "source": [
    "Question 3  \n",
    "Now let's compute precision and recall for our model:\n",
    "- Evaluate the model on the validation dataset on all thresholds from *0.0 to 1.0 with step 0.01*\n",
    "- For each threshold, *compute precision and recall*\n",
    "- Plot them"
   ]
  },
  {
   "cell_type": "code",
   "execution_count": 466,
   "metadata": {},
   "outputs": [
    {
     "name": "stdout",
     "output_type": "stream",
     "text": [
      "   thresholds   tp  fp  fn  tn\n",
      "0        0.00  211  53   0   0\n",
      "1        0.01  211  34   0  19\n",
      "2        0.02  211  31   0  22\n",
      "3        0.03  211  24   0  29\n",
      "4        0.04  211  22   0  31\n",
      "     thresholds   tp  fp  fn  tn\n",
      "96         0.96  204   0   7  53\n",
      "97         0.97  203   0   8  53\n",
      "98         0.98  203   0   8  53\n",
      "99         0.99  202   0   9  53\n",
      "100        1.00  179   0  32  53\n"
     ]
    }
   ],
   "source": [
    "scores = []\n",
    "thresholds = np.linspace(0, 1, 101)\n",
    "\n",
    "for threshold in thresholds:\n",
    "    actual_positive = (y_val == 'yes')\n",
    "    actual_negative = (y_val == 'no')\n",
    "    \n",
    "    predict_positive = (y_valid_pred >= threshold)\n",
    "    predict_negative = (y_valid_pred < threshold)\n",
    "\n",
    "    tp = (predict_positive & actual_positive).sum()\n",
    "    tn = (predict_negative & actual_negative).sum()\n",
    "\n",
    "    fp = (predict_positive & actual_negative).sum()\n",
    "    fn = (predict_negative & actual_positive).sum()\n",
    "    \n",
    "    scores.append((threshold, tp, fp, fn, tn))\n",
    "  \n",
    "columns = ['thresholds', 'tp', 'fp', 'fn', 'tn']\n",
    "df_scores = pd.DataFrame(scores, columns=columns)    \n",
    "\n",
    "print (df_scores.head())\n",
    "print (df_scores.tail())"
   ]
  },
  {
   "cell_type": "code",
   "execution_count": 467,
   "metadata": {},
   "outputs": [
    {
     "data": {
      "image/png": "[encoded data removed]",
      "text/plain": [
       "<Figure size 360x360 with 1 Axes>"
      ]
     },
     "metadata": {
      "needs_background": "light"
     },
     "output_type": "display_data"
    }
   ],
   "source": [
    "df_scores['p'] = df_scores.tp / (df_scores.tp + df_scores.fp)\n",
    "df_scores['r'] = df_scores.tp / (df_scores.tp + df_scores.fn)\n",
    "\n",
    "plt.figure(figsize=(5, 5))\n",
    "\n",
    "plt.plot(df_scores.thresholds, df_scores.p, label='precision')\n",
    "plt.plot(df_scores.thresholds, df_scores.r, label='recall')\n",
    "\n",
    "plt.legend()\n",
    "plt.show()"
   ]
  },
  {
   "cell_type": "markdown",
   "metadata": {},
   "source": []
  },
  {
   "cell_type": "markdown",
   "metadata": {},
   "source": [
    "Question 4\n",
    "- Precision and recall are conflicting - when one grows, the other goes down. That's why they are often combined into the F1 score - a metrics that takes into account both\n",
    "- $F_1 = 2 \\cdot \\cfrac{P \\cdot R}{P + R}$"
   ]
  },
  {
   "cell_type": "code",
   "execution_count": 468,
   "metadata": {},
   "outputs": [
    {
     "data": {
      "image/png": "[encoded data removed]",
      "text/plain": [
       "<Figure size 432x288 with 1 Axes>"
      ]
     },
     "metadata": {
      "needs_background": "light"
     },
     "output_type": "display_data"
    }
   ],
   "source": [
    "\n",
    "df_scores['f1'] = 2 * (df_scores.p * df_scores.r ) / (df_scores.p + df_scores.r)\n",
    "plt.plot(df_scores.thresholds, df_scores.f1)\n",
    "\n",
    "plt.xticks(np.linspace(0, 1, 11))\n",
    "plt.show()"
   ]
  },
  {
   "cell_type": "markdown",
   "metadata": {},
   "source": [
    "Question 5\n",
    "- Use the KFold class from Scikit-Learn to evaluate our model on 5 different folds:"
   ]
  },
  {
   "cell_type": "code",
   "execution_count": 407,
   "metadata": {},
   "outputs": [
    {
     "name": "stdout",
     "output_type": "stream",
     "text": [
      "(791, 11)\n",
      "(264, 11)\n",
      "(264, 11)\n"
     ]
    }
   ],
   "source": [
    "train_ratio = 0.60\n",
    "test_ratio = 0.20\n",
    "validation_ratio = 0.20\n",
    "\n",
    "df_X_train, df_X_test = train_test_split(df, test_size=test_ratio, random_state=1)\n",
    "df_X_train, df_X_valid = train_test_split(df_X_train, test_size=validation_ratio/(train_ratio+test_ratio), random_state=1)\n",
    "\n",
    "# df_X_train.reset_index(inplace=True, drop=True)\n",
    "# df_X_valid.reset_index(inplace=True, drop=True)\n",
    "# df_X_test.reset_index(inplace=True, drop=True)\n",
    "\n",
    "print(df_X_train.shape)\n",
    "print(df_X_test.shape)\n",
    "print(df_X_valid.shape)"
   ]
  },
  {
   "cell_type": "code",
   "execution_count": 470,
   "metadata": {},
   "outputs": [
    {
     "data": {
      "text/html": [
       "<div>\n",
       "<style scoped>\n",
       "    .dataframe tbody tr th:only-of-type {\n",
       "        vertical-align: middle;\n",
       "    }\n",
       "\n",
       "    .dataframe tbody tr th {\n",
       "        vertical-align: top;\n",
       "    }\n",
       "\n",
       "    .dataframe thead th {\n",
       "        text-align: right;\n",
       "    }\n",
       "</style>\n",
       "<table border=\"1\" class=\"dataframe\">\n",
       "  <thead>\n",
       "    <tr style=\"text-align: right;\">\n",
       "      <th></th>\n",
       "      <th>card</th>\n",
       "      <th>reports</th>\n",
       "      <th>age</th>\n",
       "      <th>income</th>\n",
       "      <th>share</th>\n",
       "      <th>expenditure</th>\n",
       "      <th>owner</th>\n",
       "      <th>selfemp</th>\n",
       "      <th>dependents</th>\n",
       "      <th>months</th>\n",
       "      <th>majorcards</th>\n",
       "      <th>active</th>\n",
       "    </tr>\n",
       "  </thead>\n",
       "  <tbody>\n",
       "    <tr>\n",
       "      <th>710</th>\n",
       "      <td>no</td>\n",
       "      <td>1</td>\n",
       "      <td>36.83333</td>\n",
       "      <td>3.0000</td>\n",
       "      <td>0.000400</td>\n",
       "      <td>0.000000</td>\n",
       "      <td>yes</td>\n",
       "      <td>no</td>\n",
       "      <td>1</td>\n",
       "      <td>12</td>\n",
       "      <td>1</td>\n",
       "      <td>16</td>\n",
       "    </tr>\n",
       "    <tr>\n",
       "      <th>1258</th>\n",
       "      <td>yes</td>\n",
       "      <td>0</td>\n",
       "      <td>35.58333</td>\n",
       "      <td>3.5606</td>\n",
       "      <td>0.109084</td>\n",
       "      <td>323.587500</td>\n",
       "      <td>no</td>\n",
       "      <td>no</td>\n",
       "      <td>0</td>\n",
       "      <td>12</td>\n",
       "      <td>1</td>\n",
       "      <td>0</td>\n",
       "    </tr>\n",
       "    <tr>\n",
       "      <th>435</th>\n",
       "      <td>yes</td>\n",
       "      <td>0</td>\n",
       "      <td>25.66667</td>\n",
       "      <td>2.0000</td>\n",
       "      <td>0.004900</td>\n",
       "      <td>7.416667</td>\n",
       "      <td>no</td>\n",
       "      <td>no</td>\n",
       "      <td>0</td>\n",
       "      <td>26</td>\n",
       "      <td>1</td>\n",
       "      <td>13</td>\n",
       "    </tr>\n",
       "    <tr>\n",
       "      <th>987</th>\n",
       "      <td>no</td>\n",
       "      <td>0</td>\n",
       "      <td>25.58333</td>\n",
       "      <td>1.7500</td>\n",
       "      <td>0.000686</td>\n",
       "      <td>0.000000</td>\n",
       "      <td>no</td>\n",
       "      <td>no</td>\n",
       "      <td>0</td>\n",
       "      <td>108</td>\n",
       "      <td>0</td>\n",
       "      <td>0</td>\n",
       "    </tr>\n",
       "    <tr>\n",
       "      <th>1286</th>\n",
       "      <td>yes</td>\n",
       "      <td>1</td>\n",
       "      <td>48.66667</td>\n",
       "      <td>6.0000</td>\n",
       "      <td>0.177017</td>\n",
       "      <td>885.085800</td>\n",
       "      <td>yes</td>\n",
       "      <td>no</td>\n",
       "      <td>3</td>\n",
       "      <td>114</td>\n",
       "      <td>1</td>\n",
       "      <td>19</td>\n",
       "    </tr>\n",
       "    <tr>\n",
       "      <th>...</th>\n",
       "      <td>...</td>\n",
       "      <td>...</td>\n",
       "      <td>...</td>\n",
       "      <td>...</td>\n",
       "      <td>...</td>\n",
       "      <td>...</td>\n",
       "      <td>...</td>\n",
       "      <td>...</td>\n",
       "      <td>...</td>\n",
       "      <td>...</td>\n",
       "      <td>...</td>\n",
       "      <td>...</td>\n",
       "    </tr>\n",
       "    <tr>\n",
       "      <th>715</th>\n",
       "      <td>yes</td>\n",
       "      <td>0</td>\n",
       "      <td>38.33333</td>\n",
       "      <td>5.0000</td>\n",
       "      <td>0.057248</td>\n",
       "      <td>238.365000</td>\n",
       "      <td>yes</td>\n",
       "      <td>no</td>\n",
       "      <td>3</td>\n",
       "      <td>9</td>\n",
       "      <td>1</td>\n",
       "      <td>0</td>\n",
       "    </tr>\n",
       "    <tr>\n",
       "      <th>905</th>\n",
       "      <td>yes</td>\n",
       "      <td>1</td>\n",
       "      <td>32.50000</td>\n",
       "      <td>10.0000</td>\n",
       "      <td>0.037040</td>\n",
       "      <td>308.250000</td>\n",
       "      <td>yes</td>\n",
       "      <td>no</td>\n",
       "      <td>3</td>\n",
       "      <td>35</td>\n",
       "      <td>1</td>\n",
       "      <td>4</td>\n",
       "    </tr>\n",
       "    <tr>\n",
       "      <th>1096</th>\n",
       "      <td>yes</td>\n",
       "      <td>0</td>\n",
       "      <td>19.16667</td>\n",
       "      <td>1.9000</td>\n",
       "      <td>0.282962</td>\n",
       "      <td>448.023300</td>\n",
       "      <td>no</td>\n",
       "      <td>no</td>\n",
       "      <td>0</td>\n",
       "      <td>192</td>\n",
       "      <td>0</td>\n",
       "      <td>1</td>\n",
       "    </tr>\n",
       "    <tr>\n",
       "      <th>235</th>\n",
       "      <td>yes</td>\n",
       "      <td>0</td>\n",
       "      <td>30.83333</td>\n",
       "      <td>3.0000</td>\n",
       "      <td>0.062629</td>\n",
       "      <td>156.572500</td>\n",
       "      <td>yes</td>\n",
       "      <td>no</td>\n",
       "      <td>2</td>\n",
       "      <td>72</td>\n",
       "      <td>1</td>\n",
       "      <td>8</td>\n",
       "    </tr>\n",
       "    <tr>\n",
       "      <th>1061</th>\n",
       "      <td>yes</td>\n",
       "      <td>0</td>\n",
       "      <td>46.33333</td>\n",
       "      <td>3.0500</td>\n",
       "      <td>0.003492</td>\n",
       "      <td>8.125000</td>\n",
       "      <td>yes</td>\n",
       "      <td>no</td>\n",
       "      <td>0</td>\n",
       "      <td>96</td>\n",
       "      <td>0</td>\n",
       "      <td>4</td>\n",
       "    </tr>\n",
       "  </tbody>\n",
       "</table>\n",
       "<p>1055 rows × 12 columns</p>\n",
       "</div>"
      ],
      "text/plain": [
       "     card  reports       age   income     share  expenditure owner selfemp  \\\n",
       "710    no        1  36.83333   3.0000  0.000400     0.000000   yes      no   \n",
       "1258  yes        0  35.58333   3.5606  0.109084   323.587500    no      no   \n",
       "435   yes        0  25.66667   2.0000  0.004900     7.416667    no      no   \n",
       "987    no        0  25.58333   1.7500  0.000686     0.000000    no      no   \n",
       "1286  yes        1  48.66667   6.0000  0.177017   885.085800   yes      no   \n",
       "...   ...      ...       ...      ...       ...          ...   ...     ...   \n",
       "715   yes        0  38.33333   5.0000  0.057248   238.365000   yes      no   \n",
       "905   yes        1  32.50000  10.0000  0.037040   308.250000   yes      no   \n",
       "1096  yes        0  19.16667   1.9000  0.282962   448.023300    no      no   \n",
       "235   yes        0  30.83333   3.0000  0.062629   156.572500   yes      no   \n",
       "1061  yes        0  46.33333   3.0500  0.003492     8.125000   yes      no   \n",
       "\n",
       "      dependents  months  majorcards  active  \n",
       "710            1      12           1      16  \n",
       "1258           0      12           1       0  \n",
       "435            0      26           1      13  \n",
       "987            0     108           0       0  \n",
       "1286           3     114           1      19  \n",
       "...          ...     ...         ...     ...  \n",
       "715            3       9           1       0  \n",
       "905            3      35           1       4  \n",
       "1096           0     192           0       1  \n",
       "235            2      72           1       8  \n",
       "1061           0      96           0       4  \n",
       "\n",
       "[1055 rows x 12 columns]"
      ]
     },
     "execution_count": 470,
     "metadata": {},
     "output_type": "execute_result"
    }
   ],
   "source": [
    "df_full_train"
   ]
  },
  {
   "cell_type": "code",
   "execution_count": 516,
   "metadata": {},
   "outputs": [
    {
     "name": "stdout",
     "output_type": "stream",
     "text": [
      "with Fold = 1  mean AUC: 0.99419    std deviation: 0.000      \n",
      "with Fold = 1  mean AUC: 0.99415    std deviation: 0.000      \n",
      "with Fold = 1  mean AUC: 0.99421    std deviation: 0.000      \n",
      "with Fold = 1  mean AUC: 0.99556    std deviation: 0.002      \n",
      "with Fold = 1  mean AUC: 0.99645    std deviation: 0.003      \n"
     ]
    }
   ],
   "source": [
    "scores = []\n",
    "dv = DictVectorizer(sparse=False)\n",
    "model = LogisticRegression(solver=\"liblinear\", C=1.0, max_iter=1000)\n",
    "\n",
    "kfold = KFold(n_splits=5, shuffle=True, random_state=1)\n",
    "\n",
    "for train_idx, val_idx in kfold.split(df_full_train):\n",
    "    df_train = df_full_train.iloc[train_idx]\n",
    "    df_val = df_full_train.iloc[val_idx]\n",
    "\n",
    "    y_train = df_train.card.values\n",
    "    y_val = df_val.card.values\n",
    "\n",
    "    # Encode\n",
    "    train_dict = df_train[['owner', 'selfemp'] + numerical].to_dict(orient='records')\n",
    "    val_dict = df_val[['owner', 'selfemp'] + numerical].to_dict(orient='records')\n",
    "    \n",
    "    dv.fit(train_dict)\n",
    "    X_train = dv.transform(train_dict)\n",
    "    X_val = dv.transform(val_dict)\n",
    "\n",
    "    # train model\n",
    "    model.fit(X_train, y_train)\n",
    "\n",
    "    # Evaluate on validation data\n",
    "    y_val_pred = model.predict_proba(X_val)[:, 1]\n",
    "\n",
    "    # Compute metrics\n",
    "    auc = roc_auc_score(y_val, y_val_pred)\n",
    "    scores.append(auc)\n",
    "\n",
    "    # print(f' Fold{kfold.n_splits} Mean AUC: { np.mean(scores) }, Deviation: { np.std(scores) } ')\n",
    "    print(f'fold = {1:>1} '\n",
    "    f' mean AUC: {np.mean(scores):<10.5f}'\n",
    "    f' std deviation: {np.std(scores):<10.3f} ')"
   ]
  },
  {
   "cell_type": "code",
   "execution_count": 471,
   "metadata": {},
   "outputs": [
    {
     "name": "stdout",
     "output_type": "stream",
     "text": [
      "(844, 12)\n",
      "(844, 12)\n",
      "(844, 12)\n",
      "(844, 12)\n",
      "(844, 12)\n"
     ]
    }
   ],
   "source": [
    "# scores = []\n",
    "\n",
    "# kfold = KFold(n_splits=5, shuffle=True, random_state=1)\n",
    "\n",
    "# for train_idx, val_idx in kfold.split(df_full_train):\n",
    "#     df_train = df_full_train.iloc[train_idx]\n",
    "#     df_val = df_full_train.iloc[val_idx]\n",
    "\n",
    "#     y_train = df_train.card.values\n",
    "#     y_val = df_val.card.values\n",
    "\n",
    "#     dv, model = train(df_train, y_train, C=1.0)\n",
    "#     y_pred = predict(df_val, dv, model)\n",
    "\n",
    "#     auc = roc_auc_score(y_val, y_pred)\n",
    "#     scores.append(auc)\n",
    "\n",
    "# print('%.3f +- %.3f' % (np.mean(scores), np.std(scores)))"
   ]
  },
  {
   "cell_type": "markdown",
   "metadata": {},
   "source": [
    "Question 6\n",
    "- Now let's use 5-Fold cross-validation to find the best parameter C\n",
    "- Iterate over the following C values: `[0.01, 0.1, 1, 10]`"
   ]
  },
  {
   "cell_type": "code",
   "execution_count": 513,
   "metadata": {},
   "outputs": [
    {
     "name": "stdout",
     "output_type": "stream",
     "text": [
      "with C =  0.01  mean AUC: 0.99188    std deviation: 0.00560    \n",
      "with C =   0.1  mean AUC: 0.99506    std deviation: 0.00395    \n",
      "with C =     1  mean AUC: 0.99645    std deviation: 0.00274    \n",
      "with C =    10  mean AUC: 0.99639    std deviation: 0.00282    \n"
     ]
    }
   ],
   "source": [
    "\n",
    "dv = DictVectorizer(sparse=False)\n",
    "\n",
    "for C in [0.01, 0.1, 1, 10]:\n",
    "  scores = []\n",
    "  kfold = KFold(n_splits=5, shuffle=True, random_state=1)\n",
    "\n",
    "  for train_idx, val_idx in kfold.split(df_full_train):\n",
    "    df_train = df_full_train.iloc[train_idx]\n",
    "    df_val = df_full_train.iloc[val_idx]\n",
    "\n",
    "    y_train = df_train.card.values\n",
    "    y_val = df_val.card.values\n",
    "\n",
    "    # Encode\n",
    "    train_dict = df_train[['owner', 'selfemp'] + numerical].to_dict(orient='records')\n",
    "    val_dict = df_val[['owner', 'selfemp'] + numerical].to_dict(orient='records')\n",
    "    \n",
    "    dv.fit(train_dict)\n",
    "    X_train = dv.transform(train_dict)\n",
    "    X_val = dv.transform(val_dict)\n",
    "\n",
    "    # train model\n",
    "    model = LogisticRegression(solver=\"liblinear\", C=C, max_iter=1000)\n",
    "    model.fit(X_train, y_train)\n",
    "\n",
    "    # Evaluate on validation data\n",
    "    y_val_pred = model.predict_proba(X_val)[:, 1]\n",
    "\n",
    "    # Compute metrics\n",
    "    auc = roc_auc_score(y_val, y_val_pred)\n",
    "    scores.append(auc)\n",
    "\n",
    "  print(f'with C = {C:>5} '\n",
    "        f' mean AUC: {np.mean(scores):<10.5f}'\n",
    "        f' std deviation: {np.std(scores):<10.5f} ')"
   ]
  },
  {
   "cell_type": "code",
   "execution_count": null,
   "metadata": {},
   "outputs": [],
   "source": []
  }
 ],
 "metadata": {
  "kernelspec": {
   "display_name": "Python 3.9.13 ('zoomcamp-ml')",
   "language": "python",
   "name": "python3"
  },
  "language_info": {
   "codemirror_mode": {
    "name": "ipython",
    "version": 3
   },
   "file_extension": ".py",
   "mimetype": "text/x-python",
   "name": "python",
   "nbconvert_exporter": "python",
   "pygments_lexer": "ipython3",
   "version": "3.9.13"
  },
  "orig_nbformat": 4,
  "vscode": {
   "interpreter": {
    "hash": "9568fce3544c8f68e085c097285da3efbee6d788eb563e60d75922c05200034d"
   }
  }
 },
 "nbformat": 4,
 "nbformat_minor": 2
}
