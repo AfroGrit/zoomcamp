{
 "cells": [
  {
   "cell_type": "code",
   "execution_count": 421,
   "metadata": {},
   "outputs": [],
   "source": [
    "import pandas as pd\n",
    "import numpy as np\n",
    "import matplotlib.pyplot as plt\n",
    "from sklearn.model_selection import train_test_split\n",
    "from sklearn.metrics import mutual_info_score\n",
    "from sklearn.feature_extraction import DictVectorizer\n",
    "from sklearn.linear_model import LogisticRegression, Ridge\n",
    "from sklearn.metrics import accuracy_score, mean_squared_error"
   ]
  },
  {
   "cell_type": "code",
   "execution_count": 422,
   "metadata": {},
   "outputs": [],
   "source": [
    "# !wget https://raw.githubusercontent.com/alexeygrigorev/datasets/master/housing.csv"
   ]
  },
  {
   "cell_type": "code",
   "execution_count": 423,
   "metadata": {},
   "outputs": [
    {
     "data": {
      "text/html": [
       "<div>\n",
       "<style scoped>\n",
       "    .dataframe tbody tr th:only-of-type {\n",
       "        vertical-align: middle;\n",
       "    }\n",
       "\n",
       "    .dataframe tbody tr th {\n",
       "        vertical-align: top;\n",
       "    }\n",
       "\n",
       "    .dataframe thead th {\n",
       "        text-align: right;\n",
       "    }\n",
       "</style>\n",
       "<table border=\"1\" class=\"dataframe\">\n",
       "  <thead>\n",
       "    <tr style=\"text-align: right;\">\n",
       "      <th></th>\n",
       "      <th>0</th>\n",
       "      <th>1</th>\n",
       "      <th>2</th>\n",
       "      <th>3</th>\n",
       "      <th>4</th>\n",
       "    </tr>\n",
       "  </thead>\n",
       "  <tbody>\n",
       "    <tr>\n",
       "      <th>longitude</th>\n",
       "      <td>-122.23</td>\n",
       "      <td>-122.22</td>\n",
       "      <td>-122.24</td>\n",
       "      <td>-122.25</td>\n",
       "      <td>-122.25</td>\n",
       "    </tr>\n",
       "    <tr>\n",
       "      <th>latitude</th>\n",
       "      <td>37.88</td>\n",
       "      <td>37.86</td>\n",
       "      <td>37.85</td>\n",
       "      <td>37.85</td>\n",
       "      <td>37.85</td>\n",
       "    </tr>\n",
       "    <tr>\n",
       "      <th>housing_median_age</th>\n",
       "      <td>41.0</td>\n",
       "      <td>21.0</td>\n",
       "      <td>52.0</td>\n",
       "      <td>52.0</td>\n",
       "      <td>52.0</td>\n",
       "    </tr>\n",
       "    <tr>\n",
       "      <th>total_rooms</th>\n",
       "      <td>880.0</td>\n",
       "      <td>7099.0</td>\n",
       "      <td>1467.0</td>\n",
       "      <td>1274.0</td>\n",
       "      <td>1627.0</td>\n",
       "    </tr>\n",
       "    <tr>\n",
       "      <th>total_bedrooms</th>\n",
       "      <td>129.0</td>\n",
       "      <td>1106.0</td>\n",
       "      <td>190.0</td>\n",
       "      <td>235.0</td>\n",
       "      <td>280.0</td>\n",
       "    </tr>\n",
       "    <tr>\n",
       "      <th>population</th>\n",
       "      <td>322.0</td>\n",
       "      <td>2401.0</td>\n",
       "      <td>496.0</td>\n",
       "      <td>558.0</td>\n",
       "      <td>565.0</td>\n",
       "    </tr>\n",
       "    <tr>\n",
       "      <th>households</th>\n",
       "      <td>126.0</td>\n",
       "      <td>1138.0</td>\n",
       "      <td>177.0</td>\n",
       "      <td>219.0</td>\n",
       "      <td>259.0</td>\n",
       "    </tr>\n",
       "    <tr>\n",
       "      <th>median_income</th>\n",
       "      <td>8.3252</td>\n",
       "      <td>8.3014</td>\n",
       "      <td>7.2574</td>\n",
       "      <td>5.6431</td>\n",
       "      <td>3.8462</td>\n",
       "    </tr>\n",
       "    <tr>\n",
       "      <th>median_house_value</th>\n",
       "      <td>452600.0</td>\n",
       "      <td>358500.0</td>\n",
       "      <td>352100.0</td>\n",
       "      <td>341300.0</td>\n",
       "      <td>342200.0</td>\n",
       "    </tr>\n",
       "    <tr>\n",
       "      <th>ocean_proximity</th>\n",
       "      <td>NEAR BAY</td>\n",
       "      <td>NEAR BAY</td>\n",
       "      <td>NEAR BAY</td>\n",
       "      <td>NEAR BAY</td>\n",
       "      <td>NEAR BAY</td>\n",
       "    </tr>\n",
       "  </tbody>\n",
       "</table>\n",
       "</div>"
      ],
      "text/plain": [
       "                           0         1         2         3         4\n",
       "longitude            -122.23   -122.22   -122.24   -122.25   -122.25\n",
       "latitude               37.88     37.86     37.85     37.85     37.85\n",
       "housing_median_age      41.0      21.0      52.0      52.0      52.0\n",
       "total_rooms            880.0    7099.0    1467.0    1274.0    1627.0\n",
       "total_bedrooms         129.0    1106.0     190.0     235.0     280.0\n",
       "population             322.0    2401.0     496.0     558.0     565.0\n",
       "households             126.0    1138.0     177.0     219.0     259.0\n",
       "median_income         8.3252    8.3014    7.2574    5.6431    3.8462\n",
       "median_house_value  452600.0  358500.0  352100.0  341300.0  342200.0\n",
       "ocean_proximity     NEAR BAY  NEAR BAY  NEAR BAY  NEAR BAY  NEAR BAY"
      ]
     },
     "execution_count": 423,
     "metadata": {},
     "output_type": "execute_result"
    }
   ],
   "source": [
    "\n",
    "df = pd.read_csv('housing.csv')\n",
    "df.head().T"
   ]
  },
  {
   "cell_type": "markdown",
   "metadata": {},
   "source": [
    "Data preparation"
   ]
  },
  {
   "cell_type": "code",
   "execution_count": 424,
   "metadata": {},
   "outputs": [
    {
     "data": {
      "text/plain": [
       "longitude             0\n",
       "latitude              0\n",
       "housing_median_age    0\n",
       "total_rooms           0\n",
       "total_bedrooms        0\n",
       "population            0\n",
       "households            0\n",
       "median_income         0\n",
       "median_house_value    0\n",
       "ocean_proximity       0\n",
       "dtype: int64"
      ]
     },
     "execution_count": 424,
     "metadata": {},
     "output_type": "execute_result"
    }
   ],
   "source": [
    "df.fillna(0, inplace=True)\n",
    "df.isnull().sum()"
   ]
  },
  {
   "cell_type": "code",
   "execution_count": 425,
   "metadata": {},
   "outputs": [
    {
     "data": {
      "text/html": [
       "<div>\n",
       "<style scoped>\n",
       "    .dataframe tbody tr th:only-of-type {\n",
       "        vertical-align: middle;\n",
       "    }\n",
       "\n",
       "    .dataframe tbody tr th {\n",
       "        vertical-align: top;\n",
       "    }\n",
       "\n",
       "    .dataframe thead th {\n",
       "        text-align: right;\n",
       "    }\n",
       "</style>\n",
       "<table border=\"1\" class=\"dataframe\">\n",
       "  <thead>\n",
       "    <tr style=\"text-align: right;\">\n",
       "      <th></th>\n",
       "      <th>0</th>\n",
       "      <th>1</th>\n",
       "      <th>2</th>\n",
       "      <th>3</th>\n",
       "      <th>4</th>\n",
       "    </tr>\n",
       "  </thead>\n",
       "  <tbody>\n",
       "    <tr>\n",
       "      <th>longitude</th>\n",
       "      <td>-122.23</td>\n",
       "      <td>-122.22</td>\n",
       "      <td>-122.24</td>\n",
       "      <td>-122.25</td>\n",
       "      <td>-122.25</td>\n",
       "    </tr>\n",
       "    <tr>\n",
       "      <th>latitude</th>\n",
       "      <td>37.88</td>\n",
       "      <td>37.86</td>\n",
       "      <td>37.85</td>\n",
       "      <td>37.85</td>\n",
       "      <td>37.85</td>\n",
       "    </tr>\n",
       "    <tr>\n",
       "      <th>housing_median_age</th>\n",
       "      <td>41.0</td>\n",
       "      <td>21.0</td>\n",
       "      <td>52.0</td>\n",
       "      <td>52.0</td>\n",
       "      <td>52.0</td>\n",
       "    </tr>\n",
       "    <tr>\n",
       "      <th>total_rooms</th>\n",
       "      <td>880.0</td>\n",
       "      <td>7099.0</td>\n",
       "      <td>1467.0</td>\n",
       "      <td>1274.0</td>\n",
       "      <td>1627.0</td>\n",
       "    </tr>\n",
       "    <tr>\n",
       "      <th>total_bedrooms</th>\n",
       "      <td>129.0</td>\n",
       "      <td>1106.0</td>\n",
       "      <td>190.0</td>\n",
       "      <td>235.0</td>\n",
       "      <td>280.0</td>\n",
       "    </tr>\n",
       "    <tr>\n",
       "      <th>population</th>\n",
       "      <td>322.0</td>\n",
       "      <td>2401.0</td>\n",
       "      <td>496.0</td>\n",
       "      <td>558.0</td>\n",
       "      <td>565.0</td>\n",
       "    </tr>\n",
       "    <tr>\n",
       "      <th>households</th>\n",
       "      <td>126.0</td>\n",
       "      <td>1138.0</td>\n",
       "      <td>177.0</td>\n",
       "      <td>219.0</td>\n",
       "      <td>259.0</td>\n",
       "    </tr>\n",
       "    <tr>\n",
       "      <th>median_income</th>\n",
       "      <td>8.3252</td>\n",
       "      <td>8.3014</td>\n",
       "      <td>7.2574</td>\n",
       "      <td>5.6431</td>\n",
       "      <td>3.8462</td>\n",
       "    </tr>\n",
       "    <tr>\n",
       "      <th>median_house_value</th>\n",
       "      <td>452600.0</td>\n",
       "      <td>358500.0</td>\n",
       "      <td>352100.0</td>\n",
       "      <td>341300.0</td>\n",
       "      <td>342200.0</td>\n",
       "    </tr>\n",
       "    <tr>\n",
       "      <th>ocean_proximity</th>\n",
       "      <td>NEAR BAY</td>\n",
       "      <td>NEAR BAY</td>\n",
       "      <td>NEAR BAY</td>\n",
       "      <td>NEAR BAY</td>\n",
       "      <td>NEAR BAY</td>\n",
       "    </tr>\n",
       "    <tr>\n",
       "      <th>rooms_per_household</th>\n",
       "      <td>6.984127</td>\n",
       "      <td>6.238137</td>\n",
       "      <td>8.288136</td>\n",
       "      <td>5.817352</td>\n",
       "      <td>6.281853</td>\n",
       "    </tr>\n",
       "    <tr>\n",
       "      <th>bedrooms_per_room</th>\n",
       "      <td>0.146591</td>\n",
       "      <td>0.155797</td>\n",
       "      <td>0.129516</td>\n",
       "      <td>0.184458</td>\n",
       "      <td>0.172096</td>\n",
       "    </tr>\n",
       "    <tr>\n",
       "      <th>population_per_household</th>\n",
       "      <td>2.555556</td>\n",
       "      <td>2.109842</td>\n",
       "      <td>2.80226</td>\n",
       "      <td>2.547945</td>\n",
       "      <td>2.181467</td>\n",
       "    </tr>\n",
       "  </tbody>\n",
       "</table>\n",
       "</div>"
      ],
      "text/plain": [
       "                                 0         1         2         3         4\n",
       "longitude                  -122.23   -122.22   -122.24   -122.25   -122.25\n",
       "latitude                     37.88     37.86     37.85     37.85     37.85\n",
       "housing_median_age            41.0      21.0      52.0      52.0      52.0\n",
       "total_rooms                  880.0    7099.0    1467.0    1274.0    1627.0\n",
       "total_bedrooms               129.0    1106.0     190.0     235.0     280.0\n",
       "population                   322.0    2401.0     496.0     558.0     565.0\n",
       "households                   126.0    1138.0     177.0     219.0     259.0\n",
       "median_income               8.3252    8.3014    7.2574    5.6431    3.8462\n",
       "median_house_value        452600.0  358500.0  352100.0  341300.0  342200.0\n",
       "ocean_proximity           NEAR BAY  NEAR BAY  NEAR BAY  NEAR BAY  NEAR BAY\n",
       "rooms_per_household       6.984127  6.238137  8.288136  5.817352  6.281853\n",
       "bedrooms_per_room         0.146591  0.155797  0.129516  0.184458  0.172096\n",
       "population_per_household  2.555556  2.109842   2.80226  2.547945  2.181467"
      ]
     },
     "execution_count": 425,
     "metadata": {},
     "output_type": "execute_result"
    }
   ],
   "source": [
    "# Create a new column rooms_per_household by dividing the column total_rooms by the column households from dataframe.\n",
    "df['rooms_per_household'] = df.total_rooms / df.households\n",
    "\n",
    "# Create a new column bedrooms_per_room by dividing the column total_bedrooms by the column total_rooms from dataframe.\n",
    "df['bedrooms_per_room'] = df.total_bedrooms / df.total_rooms\n",
    "\n",
    "# Create a new column population_per_household by dividing the column population by the column households from dataframe.\n",
    "df['population_per_household'] = df.population / df.households\n",
    "\n",
    "df.head().T"
   ]
  },
  {
   "cell_type": "code",
   "execution_count": 426,
   "metadata": {},
   "outputs": [
    {
     "data": {
      "text/plain": [
       "0    <1H OCEAN\n",
       "Name: ocean_proximity, dtype: object"
      ]
     },
     "execution_count": 426,
     "metadata": {},
     "output_type": "execute_result"
    }
   ],
   "source": [
    "# Question 1: What is the most frequent observation (mode) for the column ocean_proximity?\n",
    "\n",
    "df.ocean_proximity.mode()"
   ]
  },
  {
   "cell_type": "markdown",
   "metadata": {},
   "source": [
    "Split the data"
   ]
  },
  {
   "cell_type": "code",
   "execution_count": 427,
   "metadata": {},
   "outputs": [
    {
     "data": {
      "text/plain": [
       "((13209, 13), (3303, 13))"
      ]
     },
     "execution_count": 427,
     "metadata": {},
     "output_type": "execute_result"
    }
   ],
   "source": [
    "df_full_train, df_test = train_test_split(df, test_size=.2, random_state=42)\n",
    "df_train, df_val = train_test_split(df_full_train, test_size=.2, random_state=42)\n",
    "df_train.shape, df_val.shape\n"
   ]
  },
  {
   "cell_type": "code",
   "execution_count": 428,
   "metadata": {},
   "outputs": [],
   "source": [
    "\n",
    "df_train.reset_index(inplace=True, drop=True)\n",
    "df_val.reset_index(inplace=True, drop=True)\n",
    "df_test.reset_index(inplace=True, drop=True)\n",
    "\n",
    "\n",
    "y_train = df_train.median_house_value.values\n",
    "y_val = df_val.median_house_value.values\n",
    "y_test = df_test.median_house_value.values\n",
    "\n",
    "del df_train['median_house_value']\n",
    "del df_val['median_house_value']\n",
    "del df_test['median_house_value']"
   ]
  },
  {
   "cell_type": "markdown",
   "metadata": {},
   "source": [
    "Question 2 \n",
    "- Create the correlation matrix for the numerical features of your train dataset.\n",
    "- `In a correlation matrix, you compute the correlation coefficient between every pair of features in the dataset.`\n",
    "- What are the two features that have the biggest correlation in this dataset?\n"
   ]
  },
  {
   "cell_type": "code",
   "execution_count": 429,
   "metadata": {},
   "outputs": [
    {
     "data": {
      "text/plain": [
       "longitude                   float64\n",
       "latitude                    float64\n",
       "housing_median_age          float64\n",
       "total_rooms                 float64\n",
       "total_bedrooms              float64\n",
       "population                  float64\n",
       "households                  float64\n",
       "median_income               float64\n",
       "ocean_proximity              object\n",
       "rooms_per_household         float64\n",
       "bedrooms_per_room           float64\n",
       "population_per_household    float64\n",
       "dtype: object"
      ]
     },
     "execution_count": 429,
     "metadata": {},
     "output_type": "execute_result"
    }
   ],
   "source": [
    "df_train.dtypes"
   ]
  },
  {
   "cell_type": "code",
   "execution_count": 430,
   "metadata": {},
   "outputs": [],
   "source": [
    "numerical = df_train.select_dtypes(include=np.number).columns.tolist()"
   ]
  },
  {
   "cell_type": "code",
   "execution_count": 431,
   "metadata": {},
   "outputs": [
    {
     "data": {
      "text/html": [
       "<div>\n",
       "<style scoped>\n",
       "    .dataframe tbody tr th:only-of-type {\n",
       "        vertical-align: middle;\n",
       "    }\n",
       "\n",
       "    .dataframe tbody tr th {\n",
       "        vertical-align: top;\n",
       "    }\n",
       "\n",
       "    .dataframe thead th {\n",
       "        text-align: right;\n",
       "    }\n",
       "</style>\n",
       "<table border=\"1\" class=\"dataframe\">\n",
       "  <thead>\n",
       "    <tr style=\"text-align: right;\">\n",
       "      <th></th>\n",
       "      <th>longitude</th>\n",
       "      <th>latitude</th>\n",
       "      <th>housing_median_age</th>\n",
       "      <th>total_rooms</th>\n",
       "      <th>total_bedrooms</th>\n",
       "      <th>population</th>\n",
       "      <th>households</th>\n",
       "      <th>median_income</th>\n",
       "      <th>rooms_per_household</th>\n",
       "      <th>bedrooms_per_room</th>\n",
       "      <th>population_per_household</th>\n",
       "    </tr>\n",
       "  </thead>\n",
       "  <tbody>\n",
       "    <tr>\n",
       "      <th>longitude</th>\n",
       "      <td>1.000000</td>\n",
       "      <td>-0.924648</td>\n",
       "      <td>-0.099794</td>\n",
       "      <td>0.039035</td>\n",
       "      <td>0.064607</td>\n",
       "      <td>0.093700</td>\n",
       "      <td>0.050609</td>\n",
       "      <td>-0.013163</td>\n",
       "      <td>-0.035467</td>\n",
       "      <td>0.099603</td>\n",
       "      <td>0.012300</td>\n",
       "    </tr>\n",
       "    <tr>\n",
       "      <th>latitude</th>\n",
       "      <td>-0.924648</td>\n",
       "      <td>1.000000</td>\n",
       "      <td>0.003247</td>\n",
       "      <td>-0.028851</td>\n",
       "      <td>-0.060535</td>\n",
       "      <td>-0.102423</td>\n",
       "      <td>-0.064677</td>\n",
       "      <td>-0.080827</td>\n",
       "      <td>0.120881</td>\n",
       "      <td>-0.121119</td>\n",
       "      <td>-0.003891</td>\n",
       "    </tr>\n",
       "    <tr>\n",
       "      <th>housing_median_age</th>\n",
       "      <td>-0.099794</td>\n",
       "      <td>0.003247</td>\n",
       "      <td>1.000000</td>\n",
       "      <td>-0.362182</td>\n",
       "      <td>-0.322832</td>\n",
       "      <td>-0.290909</td>\n",
       "      <td>-0.304716</td>\n",
       "      <td>-0.125801</td>\n",
       "      <td>-0.180858</td>\n",
       "      <td>0.133877</td>\n",
       "      <td>0.012429</td>\n",
       "    </tr>\n",
       "    <tr>\n",
       "      <th>total_rooms</th>\n",
       "      <td>0.039035</td>\n",
       "      <td>-0.028851</td>\n",
       "      <td>-0.362182</td>\n",
       "      <td>1.000000</td>\n",
       "      <td>0.931785</td>\n",
       "      <td>0.853763</td>\n",
       "      <td>0.920937</td>\n",
       "      <td>0.201013</td>\n",
       "      <td>0.161927</td>\n",
       "      <td>-0.194255</td>\n",
       "      <td>-0.029712</td>\n",
       "    </tr>\n",
       "    <tr>\n",
       "      <th>total_bedrooms</th>\n",
       "      <td>0.064607</td>\n",
       "      <td>-0.060535</td>\n",
       "      <td>-0.322832</td>\n",
       "      <td>0.931785</td>\n",
       "      <td>1.000000</td>\n",
       "      <td>0.877810</td>\n",
       "      <td>0.979132</td>\n",
       "      <td>-0.007004</td>\n",
       "      <td>0.007617</td>\n",
       "      <td>0.077486</td>\n",
       "      <td>-0.034761</td>\n",
       "    </tr>\n",
       "    <tr>\n",
       "      <th>population</th>\n",
       "      <td>0.093700</td>\n",
       "      <td>-0.102423</td>\n",
       "      <td>-0.290909</td>\n",
       "      <td>0.853763</td>\n",
       "      <td>0.877810</td>\n",
       "      <td>1.000000</td>\n",
       "      <td>0.907327</td>\n",
       "      <td>0.002083</td>\n",
       "      <td>-0.077202</td>\n",
       "      <td>0.030611</td>\n",
       "      <td>0.064448</td>\n",
       "    </tr>\n",
       "    <tr>\n",
       "      <th>households</th>\n",
       "      <td>0.050609</td>\n",
       "      <td>-0.064677</td>\n",
       "      <td>-0.304716</td>\n",
       "      <td>0.920937</td>\n",
       "      <td>0.979132</td>\n",
       "      <td>0.907327</td>\n",
       "      <td>1.000000</td>\n",
       "      <td>0.014912</td>\n",
       "      <td>-0.086746</td>\n",
       "      <td>0.057382</td>\n",
       "      <td>-0.032996</td>\n",
       "    </tr>\n",
       "    <tr>\n",
       "      <th>median_income</th>\n",
       "      <td>-0.013163</td>\n",
       "      <td>-0.080827</td>\n",
       "      <td>-0.125801</td>\n",
       "      <td>0.201013</td>\n",
       "      <td>-0.007004</td>\n",
       "      <td>0.002083</td>\n",
       "      <td>0.014912</td>\n",
       "      <td>1.000000</td>\n",
       "      <td>0.382606</td>\n",
       "      <td>-0.616635</td>\n",
       "      <td>-0.000848</td>\n",
       "    </tr>\n",
       "    <tr>\n",
       "      <th>rooms_per_household</th>\n",
       "      <td>-0.035467</td>\n",
       "      <td>0.120881</td>\n",
       "      <td>-0.180858</td>\n",
       "      <td>0.161927</td>\n",
       "      <td>0.007617</td>\n",
       "      <td>-0.077202</td>\n",
       "      <td>-0.086746</td>\n",
       "      <td>0.382606</td>\n",
       "      <td>1.000000</td>\n",
       "      <td>-0.488754</td>\n",
       "      <td>0.001870</td>\n",
       "    </tr>\n",
       "    <tr>\n",
       "      <th>bedrooms_per_room</th>\n",
       "      <td>0.099603</td>\n",
       "      <td>-0.121119</td>\n",
       "      <td>0.133877</td>\n",
       "      <td>-0.194255</td>\n",
       "      <td>0.077486</td>\n",
       "      <td>0.030611</td>\n",
       "      <td>0.057382</td>\n",
       "      <td>-0.616635</td>\n",
       "      <td>-0.488754</td>\n",
       "      <td>1.000000</td>\n",
       "      <td>-0.002556</td>\n",
       "    </tr>\n",
       "    <tr>\n",
       "      <th>population_per_household</th>\n",
       "      <td>0.012300</td>\n",
       "      <td>-0.003891</td>\n",
       "      <td>0.012429</td>\n",
       "      <td>-0.029712</td>\n",
       "      <td>-0.034761</td>\n",
       "      <td>0.064448</td>\n",
       "      <td>-0.032996</td>\n",
       "      <td>-0.000848</td>\n",
       "      <td>0.001870</td>\n",
       "      <td>-0.002556</td>\n",
       "      <td>1.000000</td>\n",
       "    </tr>\n",
       "  </tbody>\n",
       "</table>\n",
       "</div>"
      ],
      "text/plain": [
       "                          longitude  latitude  housing_median_age  \\\n",
       "longitude                  1.000000 -0.924648           -0.099794   \n",
       "latitude                  -0.924648  1.000000            0.003247   \n",
       "housing_median_age        -0.099794  0.003247            1.000000   \n",
       "total_rooms                0.039035 -0.028851           -0.362182   \n",
       "total_bedrooms             0.064607 -0.060535           -0.322832   \n",
       "population                 0.093700 -0.102423           -0.290909   \n",
       "households                 0.050609 -0.064677           -0.304716   \n",
       "median_income             -0.013163 -0.080827           -0.125801   \n",
       "rooms_per_household       -0.035467  0.120881           -0.180858   \n",
       "bedrooms_per_room          0.099603 -0.121119            0.133877   \n",
       "population_per_household   0.012300 -0.003891            0.012429   \n",
       "\n",
       "                          total_rooms  total_bedrooms  population  households  \\\n",
       "longitude                    0.039035        0.064607    0.093700    0.050609   \n",
       "latitude                    -0.028851       -0.060535   -0.102423   -0.064677   \n",
       "housing_median_age          -0.362182       -0.322832   -0.290909   -0.304716   \n",
       "total_rooms                  1.000000        0.931785    0.853763    0.920937   \n",
       "total_bedrooms               0.931785        1.000000    0.877810    0.979132   \n",
       "population                   0.853763        0.877810    1.000000    0.907327   \n",
       "households                   0.920937        0.979132    0.907327    1.000000   \n",
       "median_income                0.201013       -0.007004    0.002083    0.014912   \n",
       "rooms_per_household          0.161927        0.007617   -0.077202   -0.086746   \n",
       "bedrooms_per_room           -0.194255        0.077486    0.030611    0.057382   \n",
       "population_per_household    -0.029712       -0.034761    0.064448   -0.032996   \n",
       "\n",
       "                          median_income  rooms_per_household  \\\n",
       "longitude                     -0.013163            -0.035467   \n",
       "latitude                      -0.080827             0.120881   \n",
       "housing_median_age            -0.125801            -0.180858   \n",
       "total_rooms                    0.201013             0.161927   \n",
       "total_bedrooms                -0.007004             0.007617   \n",
       "population                     0.002083            -0.077202   \n",
       "households                     0.014912            -0.086746   \n",
       "median_income                  1.000000             0.382606   \n",
       "rooms_per_household            0.382606             1.000000   \n",
       "bedrooms_per_room             -0.616635            -0.488754   \n",
       "population_per_household      -0.000848             0.001870   \n",
       "\n",
       "                          bedrooms_per_room  population_per_household  \n",
       "longitude                          0.099603                  0.012300  \n",
       "latitude                          -0.121119                 -0.003891  \n",
       "housing_median_age                 0.133877                  0.012429  \n",
       "total_rooms                       -0.194255                 -0.029712  \n",
       "total_bedrooms                     0.077486                 -0.034761  \n",
       "population                         0.030611                  0.064448  \n",
       "households                         0.057382                 -0.032996  \n",
       "median_income                     -0.616635                 -0.000848  \n",
       "rooms_per_household               -0.488754                  0.001870  \n",
       "bedrooms_per_room                  1.000000                 -0.002556  \n",
       "population_per_household          -0.002556                  1.000000  "
      ]
     },
     "execution_count": 431,
     "metadata": {},
     "output_type": "execute_result"
    }
   ],
   "source": [
    "df_train[numerical].corr()\n"
   ]
  },
  {
   "cell_type": "code",
   "execution_count": 432,
   "metadata": {},
   "outputs": [
    {
     "data": {
      "text/plain": [
       "longitude                 latitude                   -0.924648\n",
       "median_income             bedrooms_per_room          -0.616635\n",
       "rooms_per_household       bedrooms_per_room          -0.488754\n",
       "total_rooms               housing_median_age         -0.362182\n",
       "housing_median_age        total_bedrooms             -0.322832\n",
       "households                housing_median_age         -0.304716\n",
       "population                housing_median_age         -0.290909\n",
       "total_rooms               bedrooms_per_room          -0.194255\n",
       "housing_median_age        rooms_per_household        -0.180858\n",
       "                          median_income              -0.125801\n",
       "latitude                  bedrooms_per_room          -0.121119\n",
       "                          population                 -0.102423\n",
       "longitude                 housing_median_age         -0.099794\n",
       "households                rooms_per_household        -0.086746\n",
       "median_income             latitude                   -0.080827\n",
       "population                rooms_per_household        -0.077202\n",
       "latitude                  households                 -0.064677\n",
       "                          total_bedrooms             -0.060535\n",
       "rooms_per_household       longitude                  -0.035467\n",
       "population_per_household  total_bedrooms             -0.034761\n",
       "households                population_per_household   -0.032996\n",
       "population_per_household  total_rooms                -0.029712\n",
       "total_rooms               latitude                   -0.028851\n",
       "median_income             longitude                  -0.013163\n",
       "                          total_bedrooms             -0.007004\n",
       "population_per_household  latitude                   -0.003891\n",
       "bedrooms_per_room         population_per_household   -0.002556\n",
       "population_per_household  median_income              -0.000848\n",
       "rooms_per_household       population_per_household    0.001870\n",
       "population                median_income               0.002083\n",
       "latitude                  housing_median_age          0.003247\n",
       "total_bedrooms            rooms_per_household         0.007617\n",
       "population_per_household  longitude                   0.012300\n",
       "                          housing_median_age          0.012429\n",
       "median_income             households                  0.014912\n",
       "population                bedrooms_per_room           0.030611\n",
       "longitude                 total_rooms                 0.039035\n",
       "                          households                  0.050609\n",
       "households                bedrooms_per_room           0.057382\n",
       "population_per_household  population                  0.064448\n",
       "total_bedrooms            longitude                   0.064607\n",
       "                          bedrooms_per_room           0.077486\n",
       "population                longitude                   0.093700\n",
       "bedrooms_per_room         longitude                   0.099603\n",
       "rooms_per_household       latitude                    0.120881\n",
       "housing_median_age        bedrooms_per_room           0.133877\n",
       "rooms_per_household       total_rooms                 0.161927\n",
       "total_rooms               median_income               0.201013\n",
       "median_income             rooms_per_household         0.382606\n",
       "population                total_rooms                 0.853763\n",
       "                          total_bedrooms              0.877810\n",
       "                          households                  0.907327\n",
       "households                total_rooms                 0.920937\n",
       "total_bedrooms            total_rooms                 0.931785\n",
       "                          households                  0.979132\n",
       "longitude                 longitude                   1.000000\n",
       "dtype: float64"
      ]
     },
     "execution_count": 432,
     "metadata": {},
     "output_type": "execute_result"
    }
   ],
   "source": [
    "df_train.corr().unstack().sort_values().drop_duplicates()\n"
   ]
  },
  {
   "cell_type": "code",
   "execution_count": 433,
   "metadata": {},
   "outputs": [],
   "source": [
    "y_train_binary = (y_train > y_train.mean()).astype(int)\n",
    "y_val_binary = (y_val > y_val.mean()).astype(int)\n",
    "y_test_binary = (y_test > y_test.mean()).astype(int)"
   ]
  },
  {
   "cell_type": "code",
   "execution_count": 434,
   "metadata": {},
   "outputs": [
    {
     "data": {
      "text/plain": [
       "206691.72639866758"
      ]
     },
     "execution_count": 434,
     "metadata": {},
     "output_type": "execute_result"
    }
   ],
   "source": [
    "y_train.mean()"
   ]
  },
  {
   "cell_type": "code",
   "execution_count": 435,
   "metadata": {},
   "outputs": [
    {
     "data": {
      "text/html": [
       "<div>\n",
       "<style scoped>\n",
       "    .dataframe tbody tr th:only-of-type {\n",
       "        vertical-align: middle;\n",
       "    }\n",
       "\n",
       "    .dataframe tbody tr th {\n",
       "        vertical-align: top;\n",
       "    }\n",
       "\n",
       "    .dataframe thead th {\n",
       "        text-align: right;\n",
       "    }\n",
       "</style>\n",
       "<table border=\"1\" class=\"dataframe\">\n",
       "  <thead>\n",
       "    <tr style=\"text-align: right;\">\n",
       "      <th></th>\n",
       "      <th>value</th>\n",
       "      <th>bin</th>\n",
       "    </tr>\n",
       "  </thead>\n",
       "  <tbody>\n",
       "    <tr>\n",
       "      <th>13204</th>\n",
       "      <td>154200.0</td>\n",
       "      <td>0</td>\n",
       "    </tr>\n",
       "    <tr>\n",
       "      <th>13205</th>\n",
       "      <td>146400.0</td>\n",
       "      <td>0</td>\n",
       "    </tr>\n",
       "    <tr>\n",
       "      <th>13206</th>\n",
       "      <td>215300.0</td>\n",
       "      <td>1</td>\n",
       "    </tr>\n",
       "    <tr>\n",
       "      <th>13207</th>\n",
       "      <td>139000.0</td>\n",
       "      <td>0</td>\n",
       "    </tr>\n",
       "    <tr>\n",
       "      <th>13208</th>\n",
       "      <td>181300.0</td>\n",
       "      <td>0</td>\n",
       "    </tr>\n",
       "  </tbody>\n",
       "</table>\n",
       "</div>"
      ],
      "text/plain": [
       "          value  bin\n",
       "13204  154200.0    0\n",
       "13205  146400.0    0\n",
       "13206  215300.0    1\n",
       "13207  139000.0    0\n",
       "13208  181300.0    0"
      ]
     },
     "execution_count": 435,
     "metadata": {},
     "output_type": "execute_result"
    }
   ],
   "source": [
    "pd.DataFrame(list(zip(y_train, y_train_binary)), columns=['value', 'bin']).tail()"
   ]
  },
  {
   "cell_type": "code",
   "execution_count": 436,
   "metadata": {},
   "outputs": [],
   "source": [
    "df_train['above_average'] = (y_train > y_train.mean()).astype(int)\n",
    "df_val['above_average'] = (y_val > y_val.mean()).astype(int)\n",
    "df_test['above_average'] = (y_test > y_test.mean()).astype(int)"
   ]
  },
  {
   "cell_type": "code",
   "execution_count": 437,
   "metadata": {},
   "outputs": [
    {
     "data": {
      "text/plain": [
       "longitude                   float64\n",
       "latitude                    float64\n",
       "housing_median_age          float64\n",
       "total_rooms                 float64\n",
       "total_bedrooms              float64\n",
       "population                  float64\n",
       "households                  float64\n",
       "median_income               float64\n",
       "ocean_proximity              object\n",
       "rooms_per_household         float64\n",
       "bedrooms_per_room           float64\n",
       "population_per_household    float64\n",
       "above_average                 int64\n",
       "dtype: object"
      ]
     },
     "execution_count": 437,
     "metadata": {},
     "output_type": "execute_result"
    }
   ],
   "source": [
    "df_train.dtypes"
   ]
  },
  {
   "cell_type": "code",
   "execution_count": 438,
   "metadata": {},
   "outputs": [
    {
     "data": {
      "text/plain": [
       "5"
      ]
     },
     "execution_count": 438,
     "metadata": {},
     "output_type": "execute_result"
    }
   ],
   "source": [
    "df_train['ocean_proximity'].nunique()\n"
   ]
  },
  {
   "cell_type": "code",
   "execution_count": 439,
   "metadata": {},
   "outputs": [
    {
     "data": {
      "text/plain": [
       "((13209,), (13209,))"
      ]
     },
     "execution_count": 439,
     "metadata": {},
     "output_type": "execute_result"
    }
   ],
   "source": [
    "df_train.above_average.shape, df_train['ocean_proximity'].shape"
   ]
  },
  {
   "cell_type": "code",
   "execution_count": 440,
   "metadata": {},
   "outputs": [
    {
     "data": {
      "text/plain": [
       "0.1"
      ]
     },
     "execution_count": 440,
     "metadata": {},
     "output_type": "execute_result"
    }
   ],
   "source": [
    "mi_score = mutual_info_score(df_train.ocean_proximity, df_train.above_average)\n",
    "round(mi_score, 2)"
   ]
  },
  {
   "cell_type": "markdown",
   "metadata": {},
   "source": [
    "Question 4\n",
    "- Now let's train a `logistic regression`\n",
    "- Remember that we have one categorical variable `ocean_proximity` in the data. Include it using one-hot encoding.\n",
    "- Fit the model on the `training dataset`.\n",
    "    To make sure the results are reproducible across different versions of Scikit-Learn, fit the model with these parameters:\n",
    "- model = `LogisticRegression(solver=\"liblinear\", C=1.0, max_iter=1000, random_state=42)`\n",
    "- Calculate the accuracy on the validation dataset and round it to 2 decimal digits."
   ]
  },
  {
   "cell_type": "code",
   "execution_count": 441,
   "metadata": {},
   "outputs": [],
   "source": [
    "train_dict = df_train[['ocean_proximity'] + numerical].to_dict(orient='records')\n",
    "val_dict = df_val[['ocean_proximity'] + numerical].to_dict(orient='records')"
   ]
  },
  {
   "cell_type": "code",
   "execution_count": 442,
   "metadata": {},
   "outputs": [
    {
     "data": {
      "text/plain": [
       "{'ocean_proximity': 'INLAND',\n",
       " 'longitude': -120.97,\n",
       " 'latitude': 38.0,\n",
       " 'housing_median_age': 27.0,\n",
       " 'total_rooms': 1683.0,\n",
       " 'total_bedrooms': 288.0,\n",
       " 'population': 873.0,\n",
       " 'households': 258.0,\n",
       " 'median_income': 4.7069,\n",
       " 'rooms_per_household': 6.523255813953488,\n",
       " 'bedrooms_per_room': 0.1711229946524064,\n",
       " 'population_per_household': 3.383720930232558}"
      ]
     },
     "execution_count": 442,
     "metadata": {},
     "output_type": "execute_result"
    }
   ],
   "source": [
    "train_dict[0]"
   ]
  },
  {
   "cell_type": "code",
   "execution_count": 443,
   "metadata": {},
   "outputs": [
    {
     "data": {
      "text/plain": [
       "((13209, 16), (3303, 16))"
      ]
     },
     "execution_count": 443,
     "metadata": {},
     "output_type": "execute_result"
    }
   ],
   "source": [
    "\n",
    "dv = DictVectorizer(sparse=False)\n",
    "dv.fit(train_dict)\n",
    "X_train = dv.transform(train_dict)\n",
    "X_val = dv.transform(val_dict)\n",
    "\n",
    "X_train.shape, X_val.shape"
   ]
  },
  {
   "cell_type": "code",
   "execution_count": 444,
   "metadata": {},
   "outputs": [
    {
     "data": {
      "text/plain": [
       "LogisticRegression(max_iter=1000, random_state=42, solver='liblinear')"
      ]
     },
     "execution_count": 444,
     "metadata": {},
     "output_type": "execute_result"
    }
   ],
   "source": [
    "model = LogisticRegression(solver=\"liblinear\", C=1.0, max_iter=1000, random_state=42)\n",
    "model.fit(X_train, y_train_binary)"
   ]
  },
  {
   "cell_type": "code",
   "execution_count": 445,
   "metadata": {},
   "outputs": [],
   "source": [
    "_y_val_pred = model.predict(X_val)"
   ]
  },
  {
   "cell_type": "code",
   "execution_count": 446,
   "metadata": {},
   "outputs": [
    {
     "data": {
      "text/plain": [
       "0.83"
      ]
     },
     "execution_count": 446,
     "metadata": {},
     "output_type": "execute_result"
    }
   ],
   "source": [
    "original_accuracy = accuracy_score(_y_val_pred, y_val_binary)\n",
    "round(original_accuracy, 2)"
   ]
  },
  {
   "cell_type": "markdown",
   "metadata": {},
   "source": [
    "Question 5\n",
    "- Let's find the least useful feature using the `feature elimination technique`."
   ]
  },
  {
   "cell_type": "code",
   "execution_count": null,
   "metadata": {},
   "outputs": [],
   "source": []
  },
  {
   "cell_type": "code",
   "execution_count": 447,
   "metadata": {},
   "outputs": [
    {
     "name": "stdout",
     "output_type": "stream",
     "text": [
      "Feature importance\n",
      "------------------------------\n",
      "longitude            | Accuracy: 0.8219800181653043 | Diff: 0.006963366636391077\n",
      "latitude             | Accuracy: 0.8265213442325159 | Diff: 0.0024220405691794955\n",
      "housing_median_age   | Accuracy: 0.8240993036633364 | Diff: 0.004844081138358991\n",
      "total_rooms          | Accuracy: 0.8289433848016954 | Diff: 0.0\n",
      "total_bedrooms       | Accuracy: 0.8298516500151377 | Diff: 0.0009082652134423386\n",
      "population           | Accuracy: 0.820466242809567 | Diff: 0.008477141992128345\n",
      "households           | Accuracy: 0.825915834090221 | Diff: 0.003027550711474425\n",
      "median_income        | Accuracy: 0.7798970632758099 | Diff: 0.049046321525885506\n",
      "ocean_proximity      | Accuracy: 0.8159249167423555 | Diff: 0.013018468059339927\n",
      "rooms_per_household  | Accuracy: 0.8292461398728429 | Diff: 0.0003027550711475202\n",
      "bedrooms_per_room    | Accuracy: 0.8280351195882532 | Diff: 0.0009082652134422275\n",
      "population_per_household | Accuracy: 0.8289433848016954 | Diff: 0.0\n",
      "above_average        | Accuracy: 0.8289433848016954 | Diff: 0.0\n"
     ]
    }
   ],
   "source": [
    "print(f'{\"Feature importance\"}')\n",
    "print(f'{\"-\"*30}')\n",
    "for feature in df_train.columns.to_list():\n",
    "  train, val = df_train.copy(), df_val.copy()\n",
    "\n",
    "  # Drop the feature from dataset\n",
    "  train.drop([feature], axis=1, inplace=True)\n",
    "  val.drop([feature], axis=1, inplace=True)\n",
    "\n",
    "  # Recompute numerical columns\n",
    "  numerical = train.select_dtypes(include=np.number).columns.tolist()\n",
    "\n",
    "  if feature != 'ocean_proximity':\n",
    "    # Encode \n",
    "    train_dict = train[['ocean_proximity'] + numerical].to_dict(orient='records')\n",
    "    val_dict = val[['ocean_proximity'] + numerical].to_dict(orient='records')\n",
    "  else:\n",
    "    train_dict = train[numerical].to_dict(orient='records')\n",
    "    val_dict = val[numerical].to_dict(orient='records')\n",
    "\n",
    "  X_train = dv.transform(train_dict)\n",
    "  X_val = dv.transform(val_dict)\n",
    "  \n",
    "  # Train\n",
    "  model.fit(X_train, y_train_binary)\n",
    "\n",
    "  # Evaluate\n",
    "  _y_val_pred = model.predict(X_val)\n",
    "\n",
    "  # Compute accuracy\n",
    "  Accuracy = accuracy_score(_y_val_pred, y_val_binary)\n",
    "\n",
    "\n",
    "\n",
    "  print (f'{feature:20s} | Accuracy: {Accuracy} | Diff: {np.abs(Accuracy - original_accuracy)}')\n",
    "\n",
    "\n",
    "\n"
   ]
  },
  {
   "cell_type": "markdown",
   "metadata": {},
   "source": [
    "Question 6"
   ]
  },
  {
   "cell_type": "code",
   "execution_count": 452,
   "metadata": {},
   "outputs": [
    {
     "name": "stdout",
     "output_type": "stream",
     "text": [
      "Ridge(alpha=0, random_state=42, solver='sag')\n",
      "Alpha 0     | RMSE: 0.5234968906587238\n",
      "Ridge(alpha=0.01, random_state=42, solver='sag')\n",
      "Alpha 0.01  | RMSE: 0.5234968906810293\n",
      "Ridge(alpha=0.1, random_state=42, solver='sag')\n",
      "Alpha 0.1   | RMSE: 0.5234968908817702\n",
      "Ridge(alpha=1, random_state=42, solver='sag')\n",
      "Alpha 1     | RMSE: 0.5234968928724483\n",
      "Ridge(alpha=10, random_state=42, solver='sag')\n",
      "Alpha 10    | RMSE: 0.5234969128126647\n"
     ]
    }
   ],
   "source": [
    "\n",
    "q6_train, q6_val = train_test_split(df_full_train, test_size=.2, random_state=42)\n",
    "\n",
    "q6_train.reset_index(inplace=True, drop=True)\n",
    "q6_val.reset_index(inplace=True, drop=True)\n",
    "\n",
    "\n",
    "q6_train['median_house_value'] = np.log1p(q6_train.median_house_value)\n",
    "q6_val['median_house_value'] = np.log1p(q6_val.median_house_value)\n",
    "\n",
    "y_train = q6_train.median_house_value.values\n",
    "y_val = q6_val.median_house_value.values\n",
    "\n",
    "\n",
    "del q6_train['median_house_value']\n",
    "del q6_val['median_house_value']\n",
    "\n",
    "# q6_train.head().T\n",
    "\n",
    "# Encode \n",
    "train_dict = q6_train[['ocean_proximity'] + numerical].to_dict(orient='records')\n",
    "val_dict = q6_val[['ocean_proximity'] + numerical].to_dict(orient='records')\n",
    "X_train = dv.transform(train_dict)\n",
    "X_val = dv.transform(val_dict)\n",
    "\n",
    "# Train\n",
    "for alpha in [0, 0.01, 0.1, 1, 10]:\n",
    "  model = Ridge(alpha=alpha, solver=\"sag\", random_state=42)\n",
    "  print(model)\n",
    "  model.fit(X_train, y_train)\n",
    "  # Evaluate\n",
    "  _y_val_pred = model.predict(X_val)\n",
    "    # Compute accuracy\n",
    "  RMSE = np.sqrt(mean_squared_error(_y_val_pred, y_val))\n",
    "  print (f'Alpha {alpha:<5} | RMSE: {RMSE}')\n"
   ]
  },
  {
   "cell_type": "code",
   "execution_count": 451,
   "metadata": {},
   "outputs": [
    {
     "data": {
      "text/plain": [
       "array([11.47937902, 11.23190118, 12.97363364, ..., 12.63003561,\n",
       "       12.12541016, 12.25200635])"
      ]
     },
     "execution_count": 451,
     "metadata": {},
     "output_type": "execute_result"
    }
   ],
   "source": [
    "y_val"
   ]
  },
  {
   "cell_type": "code",
   "execution_count": null,
   "metadata": {},
   "outputs": [],
   "source": []
  }
 ],
 "metadata": {
  "kernelspec": {
   "display_name": "Python 3.9.13 ('zoomcamp-ml')",
   "language": "python",
   "name": "python3"
  },
  "language_info": {
   "codemirror_mode": {
    "name": "ipython",
    "version": 3
   },
   "file_extension": ".py",
   "mimetype": "text/x-python",
   "name": "python",
   "nbconvert_exporter": "python",
   "pygments_lexer": "ipython3",
   "version": "3.9.13"
  },
  "orig_nbformat": 4,
  "vscode": {
   "interpreter": {
    "hash": "9568fce3544c8f68e085c097285da3efbee6d788eb563e60d75922c05200034d"
   }
  }
 },
 "nbformat": 4,
 "nbformat_minor": 2
}
