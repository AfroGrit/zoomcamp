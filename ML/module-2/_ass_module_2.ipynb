{
 "cells": [
  {
   "cell_type": "code",
   "execution_count": 181,
   "metadata": {},
   "outputs": [],
   "source": [
    "%matplotlib inline\n",
    "\n",
    "import pandas as pd\n",
    "import numpy as np\n",
    "\n",
    "import matplotlib.pyplot as plt\n",
    "import seaborn as sns\n",
    "\n",
    "import warnings\n",
    "warnings.filterwarnings('ignore')"
   ]
  },
  {
   "cell_type": "code",
   "execution_count": 182,
   "metadata": {},
   "outputs": [],
   "source": [
    "np.random.seed(42)"
   ]
  },
  {
   "cell_type": "code",
   "execution_count": 183,
   "metadata": {},
   "outputs": [
    {
     "name": "stdout",
     "output_type": "stream",
     "text": [
      "_01_module_2_.ipynb _ass_module_2.ipynb housing.csv\n"
     ]
    }
   ],
   "source": [
    "#!wget https://raw.githubusercontent.com/alexeygrigorev/datasets/master/housing.csv\n",
    "!ls"
   ]
  },
  {
   "cell_type": "code",
   "execution_count": 184,
   "metadata": {},
   "outputs": [
    {
     "data": {
      "text/plain": [
       "(20640, 9)"
      ]
     },
     "execution_count": 184,
     "metadata": {},
     "output_type": "execute_result"
    }
   ],
   "source": [
    "key_features = [\n",
    "  'latitude',\n",
    "  'longitude',\n",
    "  'housing_median_age',\n",
    "  'total_rooms',\n",
    "  'total_bedrooms',\n",
    "  'population',\n",
    "  'households',\n",
    "  'median_income',\n",
    "  'median_house_value']\n",
    "\n",
    "data = pd.read_csv('housing.csv', usecols=key_features)\n",
    "data.shape"
   ]
  },
  {
   "cell_type": "code",
   "execution_count": 185,
   "metadata": {},
   "outputs": [
    {
     "data": {
      "text/html": [
       "<div>\n",
       "<style scoped>\n",
       "    .dataframe tbody tr th:only-of-type {\n",
       "        vertical-align: middle;\n",
       "    }\n",
       "\n",
       "    .dataframe tbody tr th {\n",
       "        vertical-align: top;\n",
       "    }\n",
       "\n",
       "    .dataframe thead th {\n",
       "        text-align: right;\n",
       "    }\n",
       "</style>\n",
       "<table border=\"1\" class=\"dataframe\">\n",
       "  <thead>\n",
       "    <tr style=\"text-align: right;\">\n",
       "      <th></th>\n",
       "      <th>longitude</th>\n",
       "      <th>latitude</th>\n",
       "      <th>housing_median_age</th>\n",
       "      <th>total_rooms</th>\n",
       "      <th>total_bedrooms</th>\n",
       "      <th>population</th>\n",
       "      <th>households</th>\n",
       "      <th>median_income</th>\n",
       "      <th>median_house_value</th>\n",
       "    </tr>\n",
       "  </thead>\n",
       "  <tbody>\n",
       "    <tr>\n",
       "      <th>0</th>\n",
       "      <td>-122.23</td>\n",
       "      <td>37.88</td>\n",
       "      <td>41.0</td>\n",
       "      <td>880.0</td>\n",
       "      <td>129.0</td>\n",
       "      <td>322.0</td>\n",
       "      <td>126.0</td>\n",
       "      <td>8.3252</td>\n",
       "      <td>452600.0</td>\n",
       "    </tr>\n",
       "    <tr>\n",
       "      <th>1</th>\n",
       "      <td>-122.22</td>\n",
       "      <td>37.86</td>\n",
       "      <td>21.0</td>\n",
       "      <td>7099.0</td>\n",
       "      <td>1106.0</td>\n",
       "      <td>2401.0</td>\n",
       "      <td>1138.0</td>\n",
       "      <td>8.3014</td>\n",
       "      <td>358500.0</td>\n",
       "    </tr>\n",
       "    <tr>\n",
       "      <th>2</th>\n",
       "      <td>-122.24</td>\n",
       "      <td>37.85</td>\n",
       "      <td>52.0</td>\n",
       "      <td>1467.0</td>\n",
       "      <td>190.0</td>\n",
       "      <td>496.0</td>\n",
       "      <td>177.0</td>\n",
       "      <td>7.2574</td>\n",
       "      <td>352100.0</td>\n",
       "    </tr>\n",
       "    <tr>\n",
       "      <th>3</th>\n",
       "      <td>-122.25</td>\n",
       "      <td>37.85</td>\n",
       "      <td>52.0</td>\n",
       "      <td>1274.0</td>\n",
       "      <td>235.0</td>\n",
       "      <td>558.0</td>\n",
       "      <td>219.0</td>\n",
       "      <td>5.6431</td>\n",
       "      <td>341300.0</td>\n",
       "    </tr>\n",
       "    <tr>\n",
       "      <th>4</th>\n",
       "      <td>-122.25</td>\n",
       "      <td>37.85</td>\n",
       "      <td>52.0</td>\n",
       "      <td>1627.0</td>\n",
       "      <td>280.0</td>\n",
       "      <td>565.0</td>\n",
       "      <td>259.0</td>\n",
       "      <td>3.8462</td>\n",
       "      <td>342200.0</td>\n",
       "    </tr>\n",
       "  </tbody>\n",
       "</table>\n",
       "</div>"
      ],
      "text/plain": [
       "   longitude  latitude  housing_median_age  total_rooms  total_bedrooms  \\\n",
       "0    -122.23     37.88                41.0        880.0           129.0   \n",
       "1    -122.22     37.86                21.0       7099.0          1106.0   \n",
       "2    -122.24     37.85                52.0       1467.0           190.0   \n",
       "3    -122.25     37.85                52.0       1274.0           235.0   \n",
       "4    -122.25     37.85                52.0       1627.0           280.0   \n",
       "\n",
       "   population  households  median_income  median_house_value  \n",
       "0       322.0       126.0         8.3252            452600.0  \n",
       "1      2401.0      1138.0         8.3014            358500.0  \n",
       "2       496.0       177.0         7.2574            352100.0  \n",
       "3       558.0       219.0         5.6431            341300.0  \n",
       "4       565.0       259.0         3.8462            342200.0  "
      ]
     },
     "execution_count": 185,
     "metadata": {},
     "output_type": "execute_result"
    }
   ],
   "source": [
    "data.head()"
   ]
  },
  {
   "cell_type": "code",
   "execution_count": 186,
   "metadata": {},
   "outputs": [
    {
     "data": {
      "text/plain": [
       "longitude               0\n",
       "latitude                0\n",
       "housing_median_age      0\n",
       "total_rooms             0\n",
       "total_bedrooms        207\n",
       "population              0\n",
       "households              0\n",
       "median_income           0\n",
       "median_house_value      0\n",
       "dtype: int64"
      ]
     },
     "execution_count": 186,
     "metadata": {},
     "output_type": "execute_result"
    }
   ],
   "source": [
    "data.isnull().sum()"
   ]
  },
  {
   "cell_type": "markdown",
   "metadata": {},
   "source": [
    "q. 2"
   ]
  },
  {
   "cell_type": "code",
   "execution_count": 187,
   "metadata": {},
   "outputs": [
    {
     "data": {
      "text/plain": [
       "1166.0"
      ]
     },
     "execution_count": 187,
     "metadata": {},
     "output_type": "execute_result"
    }
   ],
   "source": [
    "data.population.median()"
   ]
  },
  {
   "cell_type": "markdown",
   "metadata": {},
   "source": [
    "1. Split the data\n",
    "2. Shuffle the initial dataset, use seed 42.\n",
    "3. Split your data in train/val/test sets, with 60%/20%/20% distribution.\n",
    "4. Make sure that the target value ('median_house_value') is not in your dataframe.\n",
    "5. Apply the log transformation to the median_house_value variable using the np.log1p() function."
   ]
  },
  {
   "cell_type": "code",
   "execution_count": 188,
   "metadata": {},
   "outputs": [
    {
     "data": {
      "text/plain": [
       "((12384, 9), (4128, 9), (4128, 9))"
      ]
     },
     "execution_count": 188,
     "metadata": {},
     "output_type": "execute_result"
    }
   ],
   "source": [
    "n_val, n_test = int(len(data) * .2), int(len(data) * .2)\n",
    "n_train = len(data) - n_val - n_test\n",
    "n_train , n_val , n_test\n",
    "\n",
    "idx = np.arange(len(data))\n",
    "np.random.shuffle(idx)\n",
    "\n",
    "data_train = data.iloc[idx[:n_train]].reset_index(drop=True)\n",
    "data_val = data.iloc[idx[n_train:n_train + n_val]].reset_index(drop=True)\n",
    "data_test = data.iloc[idx[n_train + n_val:]].reset_index(drop=True)\n",
    "\n",
    "data_train.shape, data_val.shape, data_test.shape"
   ]
  },
  {
   "cell_type": "code",
   "execution_count": 189,
   "metadata": {},
   "outputs": [],
   "source": [
    "y_train = np.log1p(data_train.median_house_value.values)\n",
    "y_val = np.log1p(data_val.median_house_value.values)\n",
    "y_test = np.log1p(data_test.median_house_value.values)\n",
    "\n",
    "data_train.drop(['median_house_value'], axis=1, inplace=True)\n",
    "data_val.drop(['median_house_value'], axis=1, inplace=True)\n",
    "data_test.drop(['median_house_value'], axis=1, inplace=True)"
   ]
  },
  {
   "cell_type": "code",
   "execution_count": 190,
   "metadata": {},
   "outputs": [
    {
     "data": {
      "text/html": [
       "<div>\n",
       "<style scoped>\n",
       "    .dataframe tbody tr th:only-of-type {\n",
       "        vertical-align: middle;\n",
       "    }\n",
       "\n",
       "    .dataframe tbody tr th {\n",
       "        vertical-align: top;\n",
       "    }\n",
       "\n",
       "    .dataframe thead th {\n",
       "        text-align: right;\n",
       "    }\n",
       "</style>\n",
       "<table border=\"1\" class=\"dataframe\">\n",
       "  <thead>\n",
       "    <tr style=\"text-align: right;\">\n",
       "      <th></th>\n",
       "      <th>longitude</th>\n",
       "      <th>latitude</th>\n",
       "      <th>housing_median_age</th>\n",
       "      <th>total_rooms</th>\n",
       "      <th>total_bedrooms</th>\n",
       "      <th>population</th>\n",
       "      <th>households</th>\n",
       "      <th>median_income</th>\n",
       "    </tr>\n",
       "  </thead>\n",
       "  <tbody>\n",
       "    <tr>\n",
       "      <th>0</th>\n",
       "      <td>-120.85</td>\n",
       "      <td>37.51</td>\n",
       "      <td>15.0</td>\n",
       "      <td>1131.0</td>\n",
       "      <td>285.0</td>\n",
       "      <td>728.0</td>\n",
       "      <td>281.0</td>\n",
       "      <td>1.5531</td>\n",
       "    </tr>\n",
       "    <tr>\n",
       "      <th>1</th>\n",
       "      <td>-118.25</td>\n",
       "      <td>34.09</td>\n",
       "      <td>52.0</td>\n",
       "      <td>1866.0</td>\n",
       "      <td>470.0</td>\n",
       "      <td>1211.0</td>\n",
       "      <td>417.0</td>\n",
       "      <td>2.9350</td>\n",
       "    </tr>\n",
       "    <tr>\n",
       "      <th>2</th>\n",
       "      <td>-122.02</td>\n",
       "      <td>37.31</td>\n",
       "      <td>34.0</td>\n",
       "      <td>2629.0</td>\n",
       "      <td>433.0</td>\n",
       "      <td>1301.0</td>\n",
       "      <td>431.0</td>\n",
       "      <td>6.0830</td>\n",
       "    </tr>\n",
       "    <tr>\n",
       "      <th>3</th>\n",
       "      <td>-121.88</td>\n",
       "      <td>37.30</td>\n",
       "      <td>16.0</td>\n",
       "      <td>2692.0</td>\n",
       "      <td>749.0</td>\n",
       "      <td>1674.0</td>\n",
       "      <td>681.0</td>\n",
       "      <td>2.6763</td>\n",
       "    </tr>\n",
       "    <tr>\n",
       "      <th>4</th>\n",
       "      <td>-122.27</td>\n",
       "      <td>37.56</td>\n",
       "      <td>17.0</td>\n",
       "      <td>3211.0</td>\n",
       "      <td>847.0</td>\n",
       "      <td>1553.0</td>\n",
       "      <td>812.0</td>\n",
       "      <td>4.9434</td>\n",
       "    </tr>\n",
       "  </tbody>\n",
       "</table>\n",
       "</div>"
      ],
      "text/plain": [
       "   longitude  latitude  housing_median_age  total_rooms  total_bedrooms  \\\n",
       "0    -120.85     37.51                15.0       1131.0           285.0   \n",
       "1    -118.25     34.09                52.0       1866.0           470.0   \n",
       "2    -122.02     37.31                34.0       2629.0           433.0   \n",
       "3    -121.88     37.30                16.0       2692.0           749.0   \n",
       "4    -122.27     37.56                17.0       3211.0           847.0   \n",
       "\n",
       "   population  households  median_income  \n",
       "0       728.0       281.0         1.5531  \n",
       "1      1211.0       417.0         2.9350  \n",
       "2      1301.0       431.0         6.0830  \n",
       "3      1674.0       681.0         2.6763  \n",
       "4      1553.0       812.0         4.9434  "
      ]
     },
     "execution_count": 190,
     "metadata": {},
     "output_type": "execute_result"
    }
   ],
   "source": [
    "data_val.head()"
   ]
  },
  {
   "cell_type": "markdown",
   "metadata": {},
   "source": [
    "q. 3"
   ]
  },
  {
   "cell_type": "markdown",
   "metadata": {},
   "source": [
    "1. We need to deal with missing values for the column from Q1.\n",
    "2. We have two options: fill it with 0 or with the mean of this variable.\n",
    "3. Try both options. For each, train a linear regression model without regularization using the code from the lessons.\n",
    "4. For computing the mean, use the training only!\n",
    "5. Use the validation dataset to evaluate the models and compare the RMSE of each option.\n",
    "6. Round the RMSE scores to 2 decimal digits using round(score, 2)\n",
    "7. Which option gives better RMSE?\n"
   ]
  },
  {
   "cell_type": "code",
   "execution_count": 191,
   "metadata": {},
   "outputs": [],
   "source": [
    "def train_linear_regression(X, y):\n",
    "    ones = np.ones(X.shape[0])\n",
    "    X = np.column_stack([ones, X])\n",
    "\n",
    "    XTX = X.T.dot(X)\n",
    "    XTX_inv = np.linalg.inv(XTX)\n",
    "    w_full = XTX_inv.dot(X.T).dot(y)\n",
    "    \n",
    "    return w_full[0], w_full[1:]\n",
    "\n",
    "def rmse(y, y_pred):\n",
    "    se = (y - y_pred) ** 2\n",
    "    mse = se.mean()\n",
    "    return np.sqrt(mse)    "
   ]
  },
  {
   "cell_type": "code",
   "execution_count": 192,
   "metadata": {},
   "outputs": [
    {
     "data": {
      "image/png": "[encoded data removed]",
      "text/plain": [
       "<Figure size 432x288 with 1 Axes>"
      ]
     },
     "metadata": {
      "needs_background": "light"
     },
     "output_type": "display_data"
    }
   ],
   "source": [
    "X_train_f0 = data_train.fillna(0).values\n",
    "\n",
    "w0, w = train_linear_regression(X_train_f0, y_train)\n",
    "y_pred_f0 = w0 + X_train_f0.dot(w)\n",
    "\n",
    "sns.histplot(y_pred_f0, color='red', alpha=0.5, bins=50)\n",
    "sns.histplot(y_train, color='blue', alpha=0.5, bins=50);"
   ]
  },
  {
   "cell_type": "code",
   "execution_count": 193,
   "metadata": {},
   "outputs": [
    {
     "data": {
      "image/png": "[encoded data removed]",
      "text/plain": [
       "<Figure size 432x288 with 1 Axes>"
      ]
     },
     "metadata": {
      "needs_background": "light"
     },
     "output_type": "display_data"
    }
   ],
   "source": [
    "X_train_mu = data_train.fillna(int(data_train['total_bedrooms'].mean())).values\n",
    "\n",
    "w0, w = train_linear_regression(X_train_mu, y_train)\n",
    "y_pred_mu = w0 + X_train_mu.dot(w)\n",
    "\n",
    "sns.histplot(y_pred_mu, color='red', alpha=0.5, bins=50)\n",
    "sns.histplot(y_train, color='blue', alpha=0.5, bins=50);"
   ]
  },
  {
   "cell_type": "code",
   "execution_count": 194,
   "metadata": {},
   "outputs": [
    {
     "data": {
      "image/png": "[encoded data removed]",
      "text/plain": [
       "<Figure size 432x288 with 1 Axes>"
      ]
     },
     "metadata": {
      "needs_background": "light"
     },
     "output_type": "display_data"
    }
   ],
   "source": [
    "X_train_median = data_train.fillna(int(data_train['total_bedrooms'].median())).values\n",
    "\n",
    "w0, w = train_linear_regression(X_train_median, y_train)\n",
    "y_pred_median = w0 + X_train_median.dot(w)\n",
    "\n",
    "sns.histplot(y_pred_median, color='red', alpha=0.5, bins=50)\n",
    "sns.histplot(y_train, color='blue', alpha=0.5, bins=50);"
   ]
  },
  {
   "cell_type": "code",
   "execution_count": 195,
   "metadata": {},
   "outputs": [
    {
     "name": "stdout",
     "output_type": "stream",
     "text": [
      "fill NANs with 0: 0.341313591016\n",
      "fill NANs with mean: 0.341041638247\n",
      "fill NANs with median: 0.341060908758\n"
     ]
    }
   ],
   "source": [
    "\n",
    "print(f'fill NANs with 0: {round(rmse(y_train, y_pred_f0), 12)}')\n",
    "print(f'fill NANs with mean: {round(rmse(y_train, y_pred_mu), 12)}')\n",
    "print(f'fill NANs with median: {round(rmse(y_train, y_pred_median), 12)}')"
   ]
  },
  {
   "cell_type": "code",
   "execution_count": 196,
   "metadata": {},
   "outputs": [
    {
     "data": {
      "text/plain": [
       "0.32953303652286725"
      ]
     },
     "execution_count": 196,
     "metadata": {},
     "output_type": "execute_result"
    }
   ],
   "source": [
    "def prepare_X(df):\n",
    "    df_num = df.fillna(0)\n",
    "    X = df_num.values\n",
    "    return X\n",
    "    \n",
    "X_train = prepare_X(data_train)\n",
    "w0, w = train_linear_regression(X_train, y_train)\n",
    "\n",
    "X_val = prepare_X(data_val)\n",
    "y_pred = w0 + X_val.dot(w)\n",
    "rmse(y_val, y_pred)"
   ]
  },
  {
   "cell_type": "markdown",
   "metadata": {},
   "source": [
    "q. 4"
   ]
  },
  {
   "cell_type": "code",
   "execution_count": 197,
   "metadata": {},
   "outputs": [
    {
     "name": "stdout",
     "output_type": "stream",
     "text": [
      "0.0 -11.686975242036546 0.32953303652286725\n",
      "1e-05 -11.686814584389676 0.3295330329448813\n",
      "0.0001 -11.685368865034665 0.32953300097081006\n",
      "0.001 -11.670931317799797 0.3295327038673711\n",
      "0.1 -10.274500282195673 0.3296947205397184\n",
      "1 -4.920480897742212 0.3337887220006137\n",
      "10 -0.7899311831779244 0.3406063807809526\n"
     ]
    }
   ],
   "source": [
    "def train_linear_regression_reg(X, y, r=0.001):\n",
    "    ones = np.ones(X.shape[0])\n",
    "    X = np.column_stack([ones, X])\n",
    "\n",
    "    XTX = X.T.dot(X)\n",
    "    XTX = XTX + r * np.eye(XTX.shape[0])\n",
    "\n",
    "    XTX_inv = np.linalg.inv(XTX)\n",
    "    w_full = XTX_inv.dot(X.T).dot(y)\n",
    "    \n",
    "    return w_full[0], w_full[1:]\n",
    "\n",
    "for r in [0.0, 0.00001, 0.0001, 0.001, 0.1, 1, 10]:\n",
    "    X_train = prepare_X(data_train)\n",
    "    w0, w = train_linear_regression_reg(X_train, y_train, r=r)\n",
    "\n",
    "    X_val = prepare_X(data_val)\n",
    "    y_pred = w0 + X_val.dot(w)\n",
    "    score = rmse(y_val, y_pred)\n",
    "    \n",
    "    print(r, w0, score)    "
   ]
  },
  {
   "cell_type": "markdown",
   "metadata": {},
   "source": [
    "q. 5"
   ]
  },
  {
   "cell_type": "code",
   "execution_count": 200,
   "metadata": {},
   "outputs": [
    {
     "name": "stdout",
     "output_type": "stream",
     "text": [
      "for seed: 0 RMSE: 0.33884304805312054\n",
      "for seed: 1 RMSE: 0.33623872559561574\n",
      "for seed: 2 RMSE: 0.33209123188419226\n",
      "for seed: 3 RMSE: 0.3405153609033316\n",
      "for seed: 4 RMSE: 0.3389024066572499\n",
      "for seed: 5 RMSE: 0.34348667257182497\n",
      "for seed: 6 RMSE: 0.34519809530992296\n",
      "for seed: 7 RMSE: 0.33959899274099276\n",
      "for seed: 8 RMSE: 0.34662308731846253\n",
      "for seed: 9 RMSE: 0.33659261241693283\n",
      "standard deviation of scores 0.004170771946619091\n"
     ]
    }
   ],
   "source": [
    "scores = []\n",
    "\n",
    "for seed in range(10):\n",
    "\n",
    "  data = data.copy()\n",
    "\n",
    "  np.random.seed(seed)\n",
    "\n",
    "  idx = np.arange(len(data))\n",
    "  np.random.shuffle(idx)\n",
    "\n",
    "  # For each seed, do the train/validation/test split with 60%/20%/20% distribution.\n",
    "  n_val, n_test = int(len(data) * .2), int(len(data) * .2)\n",
    "  n_train = len(data) - n_val - n_test\n",
    "\n",
    "  data_train = data.iloc[idx[:n_train]].reset_index(drop=True)\n",
    "  data_val = data.iloc[idx[n_train:n_train + n_val]].reset_index(drop=True)\n",
    "  data_test = data.iloc[idx[n_train + n_val:]].reset_index(drop=True)\n",
    "\n",
    "  y_train = np.log1p(data_train.median_house_value.values)\n",
    "  y_val = np.log1p(data_val.median_house_value.values)\n",
    "  y_test = np.log1p(data_test.median_house_value.values)\n",
    "\n",
    "  del data_train['median_house_value']\n",
    "  del data_val['median_house_value']\n",
    "  del data_test['median_house_value']\n",
    "\n",
    "  # Fill the missing values with 0 and \n",
    "  X_train = data_train.fillna(0).values\n",
    "  X_val = data_val.fillna(0).values\n",
    "  \n",
    "  # train a model without regularization.\n",
    "  w0, w = train_linear_regression(X_train, y_train)\n",
    "\n",
    "  # For each seed, evaluate the model on the validation dataset and collect the RMSE scores.\n",
    "  y_pred = w0 + X_val.dot(w)\n",
    "\n",
    "  scores.append(rmse(y_val, y_pred))\n",
    "  \n",
    "  print(f'for seed: {seed} RMSE: {rmse(y_val, y_pred)}')\n",
    "\n",
    "print(f'standard deviation of scores {np.std(scores)}')"
   ]
  },
  {
   "cell_type": "markdown",
   "metadata": {},
   "source": [
    "q.6"
   ]
  },
  {
   "cell_type": "code",
   "execution_count": null,
   "metadata": {},
   "outputs": [
    {
     "name": "stdout",
     "output_type": "stream",
     "text": [
      "RMSE: 0.34531689143645633\n"
     ]
    }
   ],
   "source": [
    "np.random.seed(9)\n",
    "\n",
    "idx = np.arange(len(data))\n",
    "np.random.shuffle(idx)\n",
    "\n",
    "# For each seed, do the train/validation/test split with 60%/20%/20% distribution.\n",
    "n_val, n_test = int(len(data) * .2), int(len(data) * .2)\n",
    "n_train = len(data) - n_val - n_test\n",
    "\n",
    "y_train = np.log1p(data_train.median_house_value.values)\n",
    "y_val = np.log1p(data_val.median_house_value.values)\n",
    "y_test = np.log1p(data_test.median_house_value.values)\n",
    "\n",
    "\n",
    "data_train = data.iloc[idx[:n_train]]\n",
    "data_val = data.iloc[idx[n_train:n_train + n_val]]\n",
    "del data_train['median_house_value']\n",
    "del data_val['median_house_value']\n",
    "\n",
    "\n",
    "# Combine train and validation datasets.\n",
    "y_train_val = np.concatenate([y_train, y_val])\n",
    "data_train_val = pd.concat([data_train, data_val]).reset_index(drop=True)\n",
    "\n",
    "data_test = data.iloc[idx[n_train + n_val:]].reset_index(drop=True)\n",
    "del data_test['median_house_value']\n",
    "\n",
    "# Fill the missing values with 0 and train a model with r=0.001.\n",
    "X_train = data_train_val.fillna(0).values\n",
    "X_test = data_test.fillna(0).values \n",
    "w0, w = train_linear_regression_reg(X_train, y_train_val, r=0.001)\n",
    "\n",
    "# # For each seed, evaluate the model on the validation dataset and collect the RMSE scores.\n",
    "y_pred = w0 + X_test.dot(w)\n",
    "\n",
    "print(f'RMSE: {rmse(y_test, y_pred)}')\n",
    "\n",
    "# print(f'standard deviation of scores {np.std(scores)}')"
   ]
  },
  {
   "cell_type": "code",
   "execution_count": null,
   "metadata": {},
   "outputs": [],
   "source": []
  }
 ],
 "metadata": {
  "kernelspec": {
   "display_name": "Python 3.9.13 ('zoomcamp-ml')",
   "language": "python",
   "name": "python3"
  },
  "language_info": {
   "codemirror_mode": {
    "name": "ipython",
    "version": 3
   },
   "file_extension": ".py",
   "mimetype": "text/x-python",
   "name": "python",
   "nbconvert_exporter": "python",
   "pygments_lexer": "ipython3",
   "version": "3.9.13"
  },
  "orig_nbformat": 4,
  "vscode": {
   "interpreter": {
    "hash": "9568fce3544c8f68e085c097285da3efbee6d788eb563e60d75922c05200034d"
   }
  }
 },
 "nbformat": 4,
 "nbformat_minor": 2
}
