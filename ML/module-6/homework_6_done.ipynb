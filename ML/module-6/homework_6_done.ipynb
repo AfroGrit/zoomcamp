{
  "cells": [
    {
      "cell_type": "markdown",
      "metadata": {
        "id": "-JrenrSGmAeg"
      },
      "source": [
        "**HOMEWORK**  \n",
        "\n",
        "The goal of this homework is to create a regression model for predicting housing prices (column 'median_house_value').  \n",
        "\n",
        "In this homework we'll again use the California Housing Prices dataset - the same one we used in homework 2 and 3.\n",
        "\n",
        "You can take it from [Kaggle](https://www.kaggle.com/datasets/camnugent/california-housing-prices) or download using wget link mentioned below:\n",
        "\n",
        "```\n",
        "wget https://raw.githubusercontent.com/alexeygrigorev/datasets/master/housing.csv\n",
        "\n",
        "```\n",
        "\n"
      ]
    },
    {
      "cell_type": "code",
      "execution_count": null,
      "metadata": {},
      "outputs": [],
      "source": []
    },
    {
      "cell_type": "code",
      "execution_count": 1,
      "metadata": {
        "id": "nLosiCNJUjDM"
      },
      "outputs": [
        {
          "name": "stderr",
          "output_type": "stream",
          "text": [
            "/opt/anaconda3/envs/zoomcamp-ml/lib/python3.9/site-packages/xgboost/compat.py:36: FutureWarning: pandas.Int64Index is deprecated and will be removed from pandas in a future version. Use pandas.Index with the appropriate dtype instead.\n",
            "  from pandas import MultiIndex, Int64Index\n"
          ]
        }
      ],
      "source": [
        "#@ IMPORTING LIBRARIES AND DEPENDENCIES:\n",
        "import re\n",
        "import numpy as np\n",
        "import pandas as pd\n",
        "import seaborn as sns\n",
        "import xgboost as xgb\n",
        "import matplotlib.pyplot as plt\n",
        "from tqdm import tqdm\n",
        "from sklearn.tree import DecisionTreeRegressor\n",
        "from sklearn.tree import export_text\n",
        "from sklearn.feature_extraction import DictVectorizer\n",
        "from sklearn.model_selection import train_test_split\n",
        "from sklearn.ensemble import RandomForestRegressor\n",
        "from sklearn.metrics import mean_squared_error\n",
        "\n",
        "%matplotlib inline"
      ]
    },
    {
      "cell_type": "code",
      "execution_count": 2,
      "metadata": {
        "id": "4Psk224nnyIF"
      },
      "outputs": [
        {
          "name": "stdout",
          "output_type": "stream",
          "text": [
            "--2022-10-17 01:12:43--  https://raw.githubusercontent.com/alexeygrigorev/datasets/master/housing.csv\n",
            "Resolving raw.githubusercontent.com (raw.githubusercontent.com)... 185.199.108.133, 185.199.111.133, 185.199.110.133, ...\n",
            "Connecting to raw.githubusercontent.com (raw.githubusercontent.com)|185.199.108.133|:443... connected.\n",
            "HTTP request sent, awaiting response... 200 OK\n",
            "Length: 1423529 (1.4M) [text/plain]\n",
            "Saving to: ‘housing.csv.3’\n",
            "\n",
            "housing.csv.3       100%[===================>]   1.36M  --.-KB/s    in 0.1s    \n",
            "\n",
            "2022-10-17 01:12:43 (10.1 MB/s) - ‘housing.csv.3’ saved [1423529/1423529]\n",
            "\n"
          ]
        }
      ],
      "source": [
        "#@ DOWNLOADING THE DATASET: UNCOMMENT BELOW:\n",
        "# !wget https://raw.githubusercontent.com/alexeygrigorev/datasets/master/housing.csv"
      ]
    },
    {
      "cell_type": "code",
      "execution_count": 3,
      "metadata": {
        "id": "492Hn6-3n08G"
      },
      "outputs": [],
      "source": [
        "#@ READING DATASET:\n",
        "PATH = \"./housing.csv\"\n",
        "select_cols = [\"longitude\", \"latitude\", \"housing_median_age\", \"total_rooms\", \"total_bedrooms\", \"population\", \"households\", \n",
        "               \"median_income\", \"median_house_value\", \"ocean_proximity\"]\n",
        "df = pd.read_csv(PATH, usecols=select_cols)\n",
        "df.total_bedrooms = df.total_bedrooms.fillna(0)"
      ]
    },
    {
      "cell_type": "markdown",
      "metadata": {
        "id": "OqXppJ_Ro0H0"
      },
      "source": [
        "- Apply the log transform to `median_house_value`. \n",
        "- Do train/validation/test split with 60%/20%/20% distribution.\n",
        "- Use the `train_test_split` function and set the `random_state parameter` to 1."
      ]
    },
    {
      "cell_type": "code",
      "execution_count": 4,
      "metadata": {
        "id": "W1MmdcRDpHS1"
      },
      "outputs": [],
      "source": [
        "#@ SPLITTING THE DATASET FOR TRAINING AND TEST:\n",
        "df_full_train, df_test = train_test_split(df, test_size=0.2, random_state=1)\n",
        "df_train, df_val = train_test_split(df_full_train, test_size=0.25, random_state=1)\n",
        "\n",
        "df_train = df_train.reset_index(drop=True)\n",
        "df_val = df_val.reset_index(drop=True)\n",
        "df_test = df_test.reset_index(drop=True)\n",
        "\n",
        "y_train = np.log1p(df_train.median_house_value.values)\n",
        "y_val = np.log1p(df_val.median_house_value.values)\n",
        "y_test = np.log1p(df_test.median_house_value.values)\n",
        "\n",
        "del df_train['median_house_value']\n",
        "del df_val['median_house_value']\n",
        "del df_test['median_house_value']"
      ]
    },
    {
      "cell_type": "code",
      "execution_count": 5,
      "metadata": {},
      "outputs": [
        {
          "data": {
            "text/plain": [
              "((12384, 9), (4128, 9), (4128, 9))"
            ]
          },
          "execution_count": 5,
          "metadata": {},
          "output_type": "execute_result"
        }
      ],
      "source": [
        "df_train.shape, df_val.shape, df_test.shape"
      ]
    },
    {
      "cell_type": "markdown",
      "metadata": {
        "id": "5VKq8FX7qIVM"
      },
      "source": [
        "- We will use `DictVectorizer` to turn train and validation into matrices."
      ]
    },
    {
      "cell_type": "code",
      "execution_count": 6,
      "metadata": {
        "id": "WnfFrWe9qtuc"
      },
      "outputs": [],
      "source": [
        "#@ IMPLEMENTATION OF DICTVECTORIZER:\n",
        "numerical_features = df_train.select_dtypes(include=np.number).columns.tolist()\n",
        "train_dict = df_train[['ocean_proximity'] + numerical_features].to_dict(orient='records')\n",
        "val_dict = df_val[['ocean_proximity'] + numerical_features].to_dict(orient='records')\n",
        "\n",
        "dv = DictVectorizer(sparse=False)\n",
        "dv.fit(train_dict)\n",
        "\n",
        "X_train = dv.transform(train_dict)\n",
        "X_val = dv.transform(val_dict)"
      ]
    },
    {
      "cell_type": "markdown",
      "metadata": {
        "id": "qvxmhaD5hmAK"
      },
      "source": [
        "**Question 1**\n",
        "\n",
        "Let's train a decision tree regressor to predict the `median_house_value` variable.\n",
        "\n",
        "Train a model with `max_depth=1`."
      ]
    },
    {
      "cell_type": "code",
      "execution_count": 7,
      "metadata": {
        "id": "cqBcSbpIq7kJ"
      },
      "outputs": [],
      "source": [
        "#@ TRAINING THE REGRESSION MODEL:\n",
        "dt_clf = DecisionTreeRegressor(max_depth=1)\n",
        "dt_model = dt_clf.fit(X_train, y_train)"
      ]
    },
    {
      "cell_type": "code",
      "execution_count": 8,
      "metadata": {
        "id": "sLAnqRwuikqQ"
      },
      "outputs": [
        {
          "name": "stdout",
          "output_type": "stream",
          "text": [
            "|--- ocean_proximity=INLAND <= 0.50\n",
            "|   |--- value: [12.31]\n",
            "|--- ocean_proximity=INLAND >  0.50\n",
            "|   |--- value: [11.61]\n",
            "\n"
          ]
        }
      ],
      "source": [
        "#@ INSPECTION:\n",
        "print(export_text(dt_model, feature_names=dv.feature_names_))\n",
        "\n",
        "# feature_names_"
      ]
    },
    {
      "cell_type": "markdown",
      "metadata": {
        "id": "JNBm-qeRp6aZ"
      },
      "source": [
        "- Which feature is used for splitting the data?\n",
        "\n",
        "- Answer: `INLAND`"
      ]
    },
    {
      "cell_type": "markdown",
      "metadata": {
        "id": "Xhnbdy-CqQoB"
      },
      "source": [
        "**Question 2**\n",
        "\n",
        "Train a random forest model with these parameters:\n",
        "\n",
        "- `n_estimators=10`  \n",
        "- `random_state=1`  \n",
        "- `n_jobs=-1` (optional-to make training faster)"
      ]
    },
    {
      "cell_type": "code",
      "execution_count": 9,
      "metadata": {
        "id": "2w-YSGYMisFt"
      },
      "outputs": [],
      "source": [
        "#@ TRAINING RANDOM FOREST MODEL:\n",
        "\n",
        "rf_cls = RandomForestRegressor(n_estimators=10, random_state=1, n_jobs=-1)\n",
        "rf_model = rf_cls.fit(X_train, y_train)\n",
        "y_pred = rf_model.predict(X_val)"
      ]
    },
    {
      "cell_type": "code",
      "execution_count": 10,
      "metadata": {
        "id": "jCxUAO2Rq1Ps"
      },
      "outputs": [
        {
          "data": {
            "text/plain": [
              "0.24579193759466622"
            ]
          },
          "execution_count": 10,
          "metadata": {},
          "output_type": "execute_result"
        }
      ],
      "source": [
        "#@ CALCULATING MEAN SQUARED ERROR:\n",
        "np.sqrt(mean_squared_error(y_val, y_pred))"
      ]
    },
    {
      "cell_type": "markdown",
      "metadata": {
        "id": "jfcDllHxrTqu"
      },
      "source": [
        "- What's the RMSE of this model on validation?\n",
        "\n",
        "- Answer: `0.24579193759466622`"
      ]
    },
    {
      "cell_type": "markdown",
      "metadata": {
        "id": "Y7K69bFSrg_V"
      },
      "source": [
        "**Question 3**\n",
        "\n",
        "Now, let's experiment with the `n_estimators` parameter.\n",
        "\n",
        "- Try different values of this parameter from 10 to 200 with step 10.\n",
        "- Set `random_state` to 1.\n",
        "- Evaluate the model on the validation dataset."
      ]
    },
    {
      "cell_type": "code",
      "execution_count": 11,
      "metadata": {
        "id": "-oUFCQwOrQNN"
      },
      "outputs": [
        {
          "name": "stderr",
          "output_type": "stream",
          "text": [
            "100%|██████████| 20/20 [00:40<00:00,  2.05s/it]\n"
          ]
        }
      ],
      "source": [
        "#@ TRAINING THE RANDOM FOREST MODEL:\n",
        "scores = []\n",
        "\n",
        "for n in tqdm(range(10, 201, 10)):\n",
        "    rf = RandomForestRegressor(n_estimators=n, random_state=1, n_jobs=-1)\n",
        "    rf.fit(X_train, y_train)\n",
        "    \n",
        "    y_pred = rf.predict(X_val)\n",
        "    score = np.sqrt(mean_squared_error(y_val, y_pred))\n",
        "    \n",
        "    scores.append((n, score))\n",
        "\n",
        "df_scores = pd.DataFrame(scores, columns=['n_estimators', 'rmse'])\n"
      ]
    },
    {
      "cell_type": "code",
      "execution_count": 12,
      "metadata": {
        "id": "3J-wFLh4s8Ky"
      },
      "outputs": [
        {
          "data": {
            "image/png": "[encoded data removed]",
            "text/plain": [
              "<Figure size 432x288 with 1 Axes>"
            ]
          },
          "metadata": {
            "needs_background": "light"
          },
          "output_type": "display_data"
        }
      ],
      "source": [
        "#@ INSPECTING THE RMSE SCORES:\n",
        "plt.plot(df_scores.n_estimators, df_scores.rmse.round(3), label='RMSE vs n_estimators')\n",
        "plt.legend();"
      ]
    },
    {
      "cell_type": "markdown",
      "metadata": {
        "id": "NAXZcW3AuC-d"
      },
      "source": [
        "- After which value of `n_estimators` does RMSE stop improving?\n",
        "\n",
        "- Answer: `125` or `150`"
      ]
    },
    {
      "cell_type": "markdown",
      "metadata": {
        "id": "CYhRv3kEvWjK"
      },
      "source": [
        "**Question 4**\n",
        "\n",
        "Let's select the best `max_depth`:\n",
        "\n",
        "- Try different values of `max_depth`: [10, 15, 20, 25].\n",
        "- For each of these values, try different values of n_estimators from 10 till 200 (with step 10).\n",
        "- Fix the random seed: `random_state=1`."
      ]
    },
    {
      "cell_type": "code",
      "execution_count": 13,
      "metadata": {
        "id": "fO9TackKvKcS"
      },
      "outputs": [
        {
          "name": "stderr",
          "output_type": "stream",
          "text": [
            "100%|██████████| 20/20 [00:04<00:00,  4.55it/s]\n",
            "100%|██████████| 20/20 [00:06<00:00,  3.23it/s]\n",
            "100%|██████████| 20/20 [00:07<00:00,  2.74it/s]\n",
            "100%|██████████| 20/20 [00:06<00:00,  3.28it/s]\n",
            "100%|██████████| 4/4 [00:24<00:00,  6.09s/it]\n"
          ]
        }
      ],
      "source": [
        "#@ TRAINING THE MODEL WITH DEPTH:\n",
        "scores = []\n",
        "\n",
        "\n",
        "for depth in tqdm([10, 15, 20, 25]):\n",
        "    rf = RandomForestRegressor(\n",
        "      n_estimators=0,\n",
        "      max_depth=depth,\n",
        "      random_state=1, \n",
        "      n_jobs=-1,\n",
        "      warm_start=True\n",
        "      )\n",
        "\n",
        "    for n_estimators in tqdm(range(10, 201, 10)):\n",
        "        rf.n_estimators = n_estimators\n",
        "        rf.fit(X_train, y_train)\n",
        "\n",
        "        y_pred = rf.predict(X_val)\n",
        "        rmse = np.sqrt(mean_squared_error(y_val, y_pred))\n",
        "\n",
        "        scores.append((depth, n_estimators, rmse))\n",
        "\n",
        "columns = ['max_depth', 'n_estimators', 'rmse']\n",
        "df_scores = pd.DataFrame(scores, columns=columns)"
      ]
    },
    {
      "cell_type": "code",
      "execution_count": 14,
      "metadata": {},
      "outputs": [
        {
          "data": {
            "image/png": "[encoded data removed]",
            "text/plain": [
              "<Figure size 432x288 with 1 Axes>"
            ]
          },
          "metadata": {
            "needs_background": "light"
          },
          "output_type": "display_data"
        }
      ],
      "source": [
        "for depth in [10, 15, 20, 25]:\n",
        "    df_subset = df_scores[df_scores.max_depth == depth]\n",
        "    plt.plot(df_subset.n_estimators, df_subset.rmse, label=depth)\n",
        "\n",
        "plt.legend();"
      ]
    },
    {
      "cell_type": "markdown",
      "metadata": {
        "id": "eCRCaKlSwp7D"
      },
      "source": [
        "- What's the best `max_depth`:\n",
        "\n",
        "- Answer: `25`"
      ]
    },
    {
      "cell_type": "markdown",
      "metadata": {
        "id": "BDLbx3N5xAoY"
      },
      "source": [
        "**Question 5**\n",
        "\n",
        "We can extract feature importance information from tree-based models.\n",
        "\n",
        "At each step of the decision tree learning algorith, it finds the best split. When doint it, we can calculate \"gain\" - the reduction in impurity before and after the split. This gain is quite useful in understanding what are the imporatant features for tree-based models.\n",
        "\n",
        "In Scikit-Learn, tree-based models contain this information in the `feature_importances_` field.\n",
        "\n",
        "For this homework question, we'll find the most important feature:\n",
        "\n",
        "Train the model with these parametes:\n",
        "- `n_estimators=10`,\n",
        "- `max_depth=20`,\n",
        "- `random_state=1`,\n",
        "- `n_jobs=-1` (optional)\n",
        "\n",
        "Get the feature importance information from this model"
      ]
    },
    {
      "cell_type": "code",
      "execution_count": 15,
      "metadata": {
        "id": "UICqST2Qwhbj"
      },
      "outputs": [
        {
          "data": {
            "text/html": [
              "<div>\n",
              "<style scoped>\n",
              "    .dataframe tbody tr th:only-of-type {\n",
              "        vertical-align: middle;\n",
              "    }\n",
              "\n",
              "    .dataframe tbody tr th {\n",
              "        vertical-align: top;\n",
              "    }\n",
              "\n",
              "    .dataframe thead th {\n",
              "        text-align: right;\n",
              "    }\n",
              "</style>\n",
              "<table border=\"1\" class=\"dataframe\">\n",
              "  <thead>\n",
              "    <tr style=\"text-align: right;\">\n",
              "      <th></th>\n",
              "      <th>feature</th>\n",
              "      <th>importance</th>\n",
              "    </tr>\n",
              "  </thead>\n",
              "  <tbody>\n",
              "    <tr>\n",
              "      <th>4</th>\n",
              "      <td>median_income</td>\n",
              "      <td>0.363224</td>\n",
              "    </tr>\n",
              "    <tr>\n",
              "      <th>6</th>\n",
              "      <td>ocean_proximity=INLAND</td>\n",
              "      <td>0.310901</td>\n",
              "    </tr>\n",
              "    <tr>\n",
              "      <th>2</th>\n",
              "      <td>latitude</td>\n",
              "      <td>0.101333</td>\n",
              "    </tr>\n",
              "    <tr>\n",
              "      <th>3</th>\n",
              "      <td>longitude</td>\n",
              "      <td>0.096341</td>\n",
              "    </tr>\n",
              "    <tr>\n",
              "      <th>1</th>\n",
              "      <td>housing_median_age</td>\n",
              "      <td>0.033197</td>\n",
              "    </tr>\n",
              "    <tr>\n",
              "      <th>10</th>\n",
              "      <td>population</td>\n",
              "      <td>0.030999</td>\n",
              "    </tr>\n",
              "    <tr>\n",
              "      <th>12</th>\n",
              "      <td>total_rooms</td>\n",
              "      <td>0.020465</td>\n",
              "    </tr>\n",
              "    <tr>\n",
              "      <th>11</th>\n",
              "      <td>total_bedrooms</td>\n",
              "      <td>0.019373</td>\n",
              "    </tr>\n",
              "    <tr>\n",
              "      <th>0</th>\n",
              "      <td>households</td>\n",
              "      <td>0.016141</td>\n",
              "    </tr>\n",
              "    <tr>\n",
              "      <th>9</th>\n",
              "      <td>ocean_proximity=NEAR OCEAN</td>\n",
              "      <td>0.004452</td>\n",
              "    </tr>\n",
              "    <tr>\n",
              "      <th>5</th>\n",
              "      <td>ocean_proximity=&lt;1H OCEAN</td>\n",
              "      <td>0.002765</td>\n",
              "    </tr>\n",
              "    <tr>\n",
              "      <th>8</th>\n",
              "      <td>ocean_proximity=NEAR BAY</td>\n",
              "      <td>0.000453</td>\n",
              "    </tr>\n",
              "    <tr>\n",
              "      <th>7</th>\n",
              "      <td>ocean_proximity=ISLAND</td>\n",
              "      <td>0.000357</td>\n",
              "    </tr>\n",
              "  </tbody>\n",
              "</table>\n",
              "</div>"
            ],
            "text/plain": [
              "                       feature  importance\n",
              "4                median_income    0.363224\n",
              "6       ocean_proximity=INLAND    0.310901\n",
              "2                     latitude    0.101333\n",
              "3                    longitude    0.096341\n",
              "1           housing_median_age    0.033197\n",
              "10                  population    0.030999\n",
              "12                 total_rooms    0.020465\n",
              "11              total_bedrooms    0.019373\n",
              "0                   households    0.016141\n",
              "9   ocean_proximity=NEAR OCEAN    0.004452\n",
              "5    ocean_proximity=<1H OCEAN    0.002765\n",
              "8     ocean_proximity=NEAR BAY    0.000453\n",
              "7       ocean_proximity=ISLAND    0.000357"
            ]
          },
          "execution_count": 15,
          "metadata": {},
          "output_type": "execute_result"
        }
      ],
      "source": [
        "#@ TRAINING THE RANDOM FOREST MODEL:\n",
        "rf = RandomForestRegressor(\n",
        "  n_estimators=10, \n",
        "  max_depth=20, \n",
        "  random_state=1, \n",
        "  n_jobs=-1\n",
        "  )\n",
        "\n",
        "rf.fit(X_train, y_train)\n",
        "# rf.feature_importances_\n",
        "\n",
        "df_importances = pd.DataFrame()\n",
        "# df_importances['feature'] = dv.get_feature_names()\n",
        "df_importances['feature'] = dv.feature_names_\n",
        "\n",
        "df_importances['importance'] = rf.feature_importances_\n",
        "df_importances.sort_values(by='importance', ascending=False)"
      ]
    },
    {
      "cell_type": "markdown",
      "metadata": {
        "id": "kSCqlx9jye1s"
      },
      "source": [
        "- What's the most important feature?\n",
        "\n",
        "- Answer: `median_income`"
      ]
    },
    {
      "cell_type": "markdown",
      "metadata": {
        "id": "K5KEdiTMzPaI"
      },
      "source": [
        "**Question 6**\n",
        "\n",
        "Now let's train an XGBoost model! For this question, we'll tune the eta parameter:\n",
        "\n",
        "- Install XGBoost.\n",
        "- Create DMatrix for train and validation\n",
        "- Create a watchlist\n",
        "- Train a model with these parameters for 100 rounds:\n",
        "\n",
        "```\n",
        "xgb_params = {  \n",
        "    'eta': 0.3,  \n",
        "    'max_depth': 6,  \n",
        "    'min_child_weight': 1,  \n",
        "\n",
        "    'objective': 'reg:squarederror',\n",
        "    'nthread': 8,\n",
        "\n",
        "    'seed': 1,\n",
        "    'verbosity': 1,\n",
        "}\n",
        "```\n",
        "\n"
      ]
    },
    {
      "cell_type": "code",
      "execution_count": 28,
      "metadata": {
        "id": "TUP0uoL5yZTc"
      },
      "outputs": [],
      "source": [
        "#@ CREATING THE DMARTIX:\n",
        "features = dv.feature_names_\n",
        "\n",
        "regex = re.compile(r\"<\", re.IGNORECASE)\n",
        "features = [regex.sub(\"_\", col) if any(x in str(col) for x in set(('[', ']', '<'))) else col for col in features]\n",
        "\n",
        "dtrain = xgb.DMatrix(X_train, label=y_train, feature_names=features)\n",
        "dval = xgb.DMatrix(X_val, label=y_val, feature_names=features)"
      ]
    },
    {
      "cell_type": "code",
      "execution_count": 51,
      "metadata": {
        "id": "lRRzLznP-Z-Q"
      },
      "outputs": [],
      "source": [
        "watchlist = [(dtrain, 'train'), (dval, 'val')]\n",
        "\n",
        "def parse_xgb_output(output):\n",
        "    results = []\n",
        "\n",
        "    for line in output.stdout.strip().split('\\n'):\n",
        "        it_line, train_line, val_line = line.split('\\t')\n",
        "\n",
        "        it = int(it_line.strip('[]'))\n",
        "        train = float(train_line.split(':')[1])\n",
        "        val = float(val_line.split(':')[1])\n",
        "\n",
        "        results.append((it, train, val))\n",
        "    \n",
        "    columns = ['num_iter', 'train_auc', 'val_auc']\n",
        "    df_results = pd.DataFrame(results, columns=columns)\n",
        "    return df_results"
      ]
    },
    {
      "cell_type": "markdown",
      "metadata": {
        "id": "3RmcQ1BQ64X-"
      },
      "source": [
        "- Now, change eta first to 0.1 and then to 0.01."
      ]
    },
    {
      "cell_type": "code",
      "execution_count": 54,
      "metadata": {},
      "outputs": [],
      "source": [
        "scores['eta=0.1'] = parse_xgb_output(output_1_)"
      ]
    },
    {
      "cell_type": "code",
      "execution_count": 55,
      "metadata": {},
      "outputs": [],
      "source": [
        "%%capture output_3_\n",
        "\n",
        "# scores = {}\n",
        "\n",
        "xgb_params = {\n",
        "    'eta': 0.3, \n",
        "    'max_depth': 6,\n",
        "    'min_child_weight': 1,\n",
        "\n",
        "    'objective': 'reg:squarederror',\n",
        "    'nthread': 8,\n",
        "\n",
        "    'seed': 1,\n",
        "    'verbosity': 1,\n",
        "}\n",
        "\n",
        "model = xgb.train(\n",
        "  xgb_params, dtrain, \n",
        "  num_boost_round=100,\n",
        "  verbose_eval=5, \n",
        "  evals=watchlist\n",
        "  )\n",
        "\n"
      ]
    },
    {
      "cell_type": "code",
      "execution_count": 56,
      "metadata": {},
      "outputs": [],
      "source": [
        "scores['eta=0.3'] = parse_xgb_output(output_3_)"
      ]
    },
    {
      "cell_type": "code",
      "execution_count": 57,
      "metadata": {},
      "outputs": [],
      "source": [
        "%%capture output_001_\n",
        "\n",
        "xgb_params = {\n",
        "    'eta': 0.001, \n",
        "    'max_depth': 6,\n",
        "    'min_child_weight': 1,\n",
        "\n",
        "    'objective': 'reg:squarederror',\n",
        "    'nthread': 8,\n",
        "\n",
        "    'seed': 1,\n",
        "    'verbosity': 1,\n",
        "}\n",
        "\n",
        "model = xgb.train(\n",
        "  xgb_params, dtrain, \n",
        "  num_boost_round=100,\n",
        "  verbose_eval=5, \n",
        "  evals=watchlist\n",
        "  )\n",
        "\n"
      ]
    },
    {
      "cell_type": "code",
      "execution_count": 58,
      "metadata": {},
      "outputs": [],
      "source": [
        "scores['eta=0.001'] = parse_xgb_output(output_001_)"
      ]
    },
    {
      "cell_type": "code",
      "execution_count": 59,
      "metadata": {},
      "outputs": [],
      "source": [
        "%%capture output_5_\n",
        "\n",
        "xgb_params = {\n",
        "    'eta': 0.25, \n",
        "    'max_depth': 6,\n",
        "    'min_child_weight': 1,\n",
        "\n",
        "    'objective': 'reg:squarederror',\n",
        "    'nthread': 8,\n",
        "\n",
        "    'seed': 1,\n",
        "    'verbosity': 1,\n",
        "}\n",
        "\n",
        "model = xgb.train(\n",
        "  xgb_params, dtrain, \n",
        "  num_boost_round=100,\n",
        "  verbose_eval=5, \n",
        "  evals=watchlist\n",
        "  )\n",
        "\n"
      ]
    },
    {
      "cell_type": "code",
      "execution_count": 60,
      "metadata": {},
      "outputs": [],
      "source": [
        "scores['eta=0.5'] = parse_xgb_output(output_5_)"
      ]
    },
    {
      "cell_type": "code",
      "execution_count": 61,
      "metadata": {},
      "outputs": [
        {
          "data": {
            "image/png": "[encoded data removed]",
            "text/plain": [
              "<Figure size 432x288 with 1 Axes>"
            ]
          },
          "metadata": {
            "needs_background": "light"
          },
          "output_type": "display_data"
        }
      ],
      "source": [
        "plt.plot(scores['eta=0.1'].num_iter, scores['eta=0.1'].val_auc, label='0.1')\n",
        "plt.plot(scores['eta=0.3'].num_iter, scores['eta=0.3'].val_auc, label='0.3')\n",
        "plt.plot(scores['eta=0.001'].num_iter, scores['eta=0.001'].val_auc, label='0.001')\n",
        "plt.plot(scores['eta=0.5'].num_iter, scores['eta=0.5'].val_auc, label='0.5')\n",
        "plt.legend();\n",
        "\n"
      ]
    },
    {
      "cell_type": "markdown",
      "metadata": {
        "id": "Yl6Xn6Zb76iH"
      },
      "source": [
        "- Which eta leads to the best RMSE score on the validation dataset?\n",
        "\n",
        "- Answer: `0.3`"
      ]
    },
    {
      "cell_type": "markdown",
      "metadata": {},
      "source": []
    },
    {
      "cell_type": "code",
      "execution_count": null,
      "metadata": {},
      "outputs": [],
      "source": []
    }
  ],
  "metadata": {
    "colab": {
      "provenance": []
    },
    "kernelspec": {
      "display_name": "Python 3.9.13 ('zoomcamp-ml')",
      "language": "python",
      "name": "python3"
    },
    "language_info": {
      "codemirror_mode": {
        "name": "ipython",
        "version": 3
      },
      "file_extension": ".py",
      "mimetype": "text/x-python",
      "name": "python",
      "nbconvert_exporter": "python",
      "pygments_lexer": "ipython3",
      "version": "3.9.13"
    },
    "vscode": {
      "interpreter": {
        "hash": "9568fce3544c8f68e085c097285da3efbee6d788eb563e60d75922c05200034d"
      }
    }
  },
  "nbformat": 4,
  "nbformat_minor": 0
}
