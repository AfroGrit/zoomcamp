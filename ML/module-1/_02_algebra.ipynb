{
 "cells": [
  {
   "cell_type": "code",
   "execution_count": 1,
   "metadata": {},
   "outputs": [],
   "source": [
    "import numpy as np"
   ]
  },
  {
   "cell_type": "markdown",
   "metadata": {},
   "source": [
    "vector multiplication"
   ]
  },
  {
   "cell_type": "code",
   "execution_count": 5,
   "metadata": {},
   "outputs": [],
   "source": [
    "\n",
    "def vector_vector_multiplication(u, v):\n",
    "  assert u.shape[0] == v.shape[0]\n",
    "  n = u.shape[0]\n",
    "  result = 0.0\n",
    "\n",
    "  for i in range(n):\n",
    "    result = result + u[i] * v[i]\n",
    "\n",
    "  return result "
   ]
  },
  {
   "cell_type": "markdown",
   "metadata": {},
   "source": [
    "random vectors  "
   ]
  },
  {
   "cell_type": "code",
   "execution_count": 16,
   "metadata": {},
   "outputs": [
    {
     "name": "stdout",
     "output_type": "stream",
     "text": [
      "u: (4, 1)\n",
      "v: (4, 1)\n"
     ]
    }
   ],
   "source": [
    "\n",
    "u = np.random.randint(5, size=(4, 1))\n",
    "v = np.random.randint(5, size=(4, 1))\n",
    "print(f'u: {u.shape}\\nv: {v.shape}')"
   ]
  },
  {
   "cell_type": "code",
   "execution_count": 17,
   "metadata": {},
   "outputs": [
    {
     "data": {
      "text/plain": [
       "array([16.])"
      ]
     },
     "execution_count": 17,
     "metadata": {},
     "output_type": "execute_result"
    }
   ],
   "source": [
    "vector_vector_multiplication(u, v)"
   ]
  },
  {
   "cell_type": "code",
   "execution_count": null,
   "metadata": {},
   "outputs": [],
   "source": []
  },
  {
   "cell_type": "markdown",
   "metadata": {},
   "source": [
    "random matrices"
   ]
  },
  {
   "cell_type": "code",
   "execution_count": 25,
   "metadata": {},
   "outputs": [
    {
     "name": "stdout",
     "output_type": "stream",
     "text": [
      "u: (3, 4)\n",
      "v: (4, 1)\n",
      "[[1]\n",
      " [1]\n",
      " [3]\n",
      " [3]]\n"
     ]
    }
   ],
   "source": []
  },
  {
   "cell_type": "markdown",
   "metadata": {},
   "source": [
    "matrix-vector multiplication"
   ]
  },
  {
   "cell_type": "code",
   "execution_count": 26,
   "metadata": {},
   "outputs": [],
   "source": [
    "def matrix_vector_multiplication(U, v):\n",
    "  assert U.shape[1] == v.shape[0]\n",
    "  # num_rows = U.shape[0]\n",
    "  results = np.zeros(U.shape[0])\n",
    "  for i in range(U.shape[0]):\n",
    "    results[i] = vector_vector_multiplication(U[i], v)\n",
    "  return results\n"
   ]
  },
  {
   "cell_type": "code",
   "execution_count": 32,
   "metadata": {},
   "outputs": [
    {
     "name": "stdout",
     "output_type": "stream",
     "text": [
      "[26. 11. 14.]\n",
      "[[26]\n",
      " [11]\n",
      " [14]]\n"
     ]
    }
   ],
   "source": [
    "print (f'{matrix_vector_multiplication(U, v)}\\n{U.dot(v)}')"
   ]
  },
  {
   "cell_type": "code",
   "execution_count": 28,
   "metadata": {},
   "outputs": [
    {
     "data": {
      "text/plain": [
       "array([[26],\n",
       "       [11],\n",
       "       [14]])"
      ]
     },
     "execution_count": 28,
     "metadata": {},
     "output_type": "execute_result"
    }
   ],
   "source": [
    "U.dot(v)"
   ]
  },
  {
   "cell_type": "markdown",
   "metadata": {},
   "source": [
    "matrix multiplication"
   ]
  },
  {
   "cell_type": "code",
   "execution_count": 38,
   "metadata": {},
   "outputs": [],
   "source": [
    "def matrix_multiplication(U, V):\n",
    "  assert U.shape[1] == V.shape[0]\n",
    "\n",
    "  rows, cols = U.shape[0], V.shape[1]\n",
    "  results = np.zeros((rows, cols))\n",
    "\n",
    "  for i in range(U.shape[0]):\n",
    "    V_i = V[:,i]\n",
    "    results[:,i] = vector_vector_multiplication(U, V_i)\n",
    "  return results\n"
   ]
  },
  {
   "cell_type": "code",
   "execution_count": 43,
   "metadata": {},
   "outputs": [
    {
     "name": "stdout",
     "output_type": "stream",
     "text": [
      "u: (3, 4)\n",
      "v: (3, 3)\n"
     ]
    }
   ],
   "source": [
    "U = np.random.randint(5, size=(3, 4))\n",
    "V = np.random.randint(5, size=(4, 3))\n",
    "print(f'u: {u.shape}\\nv: {V.shape}')"
   ]
  },
  {
   "cell_type": "code",
   "execution_count": 45,
   "metadata": {},
   "outputs": [
    {
     "ename": "AssertionError",
     "evalue": "",
     "output_type": "error",
     "traceback": [
      "\u001b[0;31m---------------------------------------------------------------------------\u001b[0m",
      "\u001b[0;31mAssertionError\u001b[0m                            Traceback (most recent call last)",
      "\u001b[1;32m/Users/afrogrit/zoomcamp/ML/module-1/_02_algebra.ipynb Cell 17\u001b[0m in \u001b[0;36m<cell line: 1>\u001b[0;34m()\u001b[0m\n\u001b[0;32m----> <a href='vscode-notebook-cell:/Users/afrogrit/zoomcamp/ML/module-1/_02_algebra.ipynb#X22sZmlsZQ%3D%3D?line=0'>1</a>\u001b[0m matrix_multiplication(U, V)\n",
      "\u001b[1;32m/Users/afrogrit/zoomcamp/ML/module-1/_02_algebra.ipynb Cell 17\u001b[0m in \u001b[0;36mmatrix_multiplication\u001b[0;34m(U, V)\u001b[0m\n\u001b[1;32m      <a href='vscode-notebook-cell:/Users/afrogrit/zoomcamp/ML/module-1/_02_algebra.ipynb#X22sZmlsZQ%3D%3D?line=0'>1</a>\u001b[0m \u001b[39mdef\u001b[39;00m \u001b[39mmatrix_multiplication\u001b[39m(U, V):\n\u001b[0;32m----> <a href='vscode-notebook-cell:/Users/afrogrit/zoomcamp/ML/module-1/_02_algebra.ipynb#X22sZmlsZQ%3D%3D?line=1'>2</a>\u001b[0m   \u001b[39massert\u001b[39;00m U\u001b[39m.\u001b[39mshape[\u001b[39m1\u001b[39m] \u001b[39m==\u001b[39m V\u001b[39m.\u001b[39mshape[\u001b[39m0\u001b[39m]\n\u001b[1;32m      <a href='vscode-notebook-cell:/Users/afrogrit/zoomcamp/ML/module-1/_02_algebra.ipynb#X22sZmlsZQ%3D%3D?line=3'>4</a>\u001b[0m   rows, cols \u001b[39m=\u001b[39m U\u001b[39m.\u001b[39mshape[\u001b[39m0\u001b[39m], V\u001b[39m.\u001b[39mshape[\u001b[39m1\u001b[39m]\n\u001b[1;32m      <a href='vscode-notebook-cell:/Users/afrogrit/zoomcamp/ML/module-1/_02_algebra.ipynb#X22sZmlsZQ%3D%3D?line=4'>5</a>\u001b[0m   results \u001b[39m=\u001b[39m np\u001b[39m.\u001b[39mzeros((rows, cols))\n",
      "\u001b[0;31mAssertionError\u001b[0m: "
     ]
    }
   ],
   "source": [
    "matrix_multiplication(U, V)"
   ]
  },
  {
   "cell_type": "code",
   "execution_count": 44,
   "metadata": {},
   "outputs": [
    {
     "ename": "ValueError",
     "evalue": "shapes (3,4) and (3,3) not aligned: 4 (dim 1) != 3 (dim 0)",
     "output_type": "error",
     "traceback": [
      "\u001b[0;31m---------------------------------------------------------------------------\u001b[0m",
      "\u001b[0;31mValueError\u001b[0m                                Traceback (most recent call last)",
      "\u001b[1;32m/Users/afrogrit/zoomcamp/ML/module-1/_02_algebra.ipynb Cell 18\u001b[0m in \u001b[0;36m<cell line: 1>\u001b[0;34m()\u001b[0m\n\u001b[0;32m----> <a href='vscode-notebook-cell:/Users/afrogrit/zoomcamp/ML/module-1/_02_algebra.ipynb#X23sZmlsZQ%3D%3D?line=0'>1</a>\u001b[0m U\u001b[39m.\u001b[39;49mdot(V)\n",
      "\u001b[0;31mValueError\u001b[0m: shapes (3,4) and (3,3) not aligned: 4 (dim 1) != 3 (dim 0)"
     ]
    }
   ],
   "source": [
    "U.dot(V)"
   ]
  },
  {
   "cell_type": "code",
   "execution_count": null,
   "metadata": {},
   "outputs": [],
   "source": []
  }
 ],
 "metadata": {
  "kernelspec": {
   "display_name": "Python 3.9.13 ('zoomcamp-ml')",
   "language": "python",
   "name": "python3"
  },
  "language_info": {
   "codemirror_mode": {
    "name": "ipython",
    "version": 3
   },
   "file_extension": ".py",
   "mimetype": "text/x-python",
   "name": "python",
   "nbconvert_exporter": "python",
   "pygments_lexer": "ipython3",
   "version": "3.9.13"
  },
  "orig_nbformat": 4,
  "vscode": {
   "interpreter": {
    "hash": "9568fce3544c8f68e085c097285da3efbee6d788eb563e60d75922c05200034d"
   }
  }
 },
 "nbformat": 4,
 "nbformat_minor": 2
}
