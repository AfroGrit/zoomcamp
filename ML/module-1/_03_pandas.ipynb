{
 "cells": [
  {
   "cell_type": "code",
   "execution_count": 1,
   "metadata": {},
   "outputs": [],
   "source": [
    "import numpy as np\n",
    "import pandas as pd"
   ]
  },
  {
   "cell_type": "code",
   "execution_count": 2,
   "metadata": {},
   "outputs": [],
   "source": [
    "data = [\n",
    "    ['Nissan', 'Stanza', 1991, 138, 4, 'MANUAL', 'sedan', 2000],\n",
    "    ['Hyundai', 'Sonata', 2017, None, 4, 'AUTOMATIC', 'Sedan', 27150],\n",
    "    ['Lotus', 'Elise', 2010, 218, 4, 'MANUAL', 'convertible', 54990],\n",
    "    ['GMC', 'Acadia',  2017, 194, 4, 'AUTOMATIC', '4dr SUV', 34450],\n",
    "    ['Nissan', 'Frontier', 2017, 261, 6, 'MANUAL', 'Pickup', 32340],\n",
    "]\n",
    "\n",
    "columns = [\n",
    "    'Make', 'Model', 'Year', 'Engine HP', 'Engine Cylinders',\n",
    "    'Transmission Type', 'Vehicle_Style', 'MSRP'\n",
    "]"
   ]
  },
  {
   "cell_type": "code",
   "execution_count": 3,
   "metadata": {},
   "outputs": [
    {
     "name": "stdout",
     "output_type": "stream",
     "text": [
      "      Make     Model  Year  Engine HP  Engine Cylinders Transmission Type  \\\n",
      "0   Nissan    Stanza  1991      138.0                 4            MANUAL   \n",
      "1  Hyundai    Sonata  2017        NaN                 4         AUTOMATIC   \n",
      "2    Lotus     Elise  2010      218.0                 4            MANUAL   \n",
      "3      GMC    Acadia  2017      194.0                 4         AUTOMATIC   \n",
      "4   Nissan  Frontier  2017      261.0                 6            MANUAL   \n",
      "\n",
      "  Vehicle_Style   MSRP  \n",
      "0         sedan   2000  \n",
      "1         Sedan  27150  \n",
      "2   convertible  54990  \n",
      "3       4dr SUV  34450  \n",
      "4        Pickup  32340  \n"
     ]
    }
   ],
   "source": [
    "df = pd.DataFrame(data, columns=columns)\n",
    "print(df)"
   ]
  },
  {
   "cell_type": "markdown",
   "metadata": {},
   "source": []
  },
  {
   "cell_type": "code",
   "execution_count": null,
   "metadata": {},
   "outputs": [],
   "source": []
  }
 ],
 "metadata": {
  "kernelspec": {
   "display_name": "Python 3.9.13 ('zoomcamp-ml')",
   "language": "python",
   "name": "python3"
  },
  "language_info": {
   "codemirror_mode": {
    "name": "ipython",
    "version": 3
   },
   "file_extension": ".py",
   "mimetype": "text/x-python",
   "name": "python",
   "nbconvert_exporter": "python",
   "pygments_lexer": "ipython3",
   "version": "3.9.13"
  },
  "orig_nbformat": 4,
  "vscode": {
   "interpreter": {
    "hash": "9568fce3544c8f68e085c097285da3efbee6d788eb563e60d75922c05200034d"
   }
  }
 },
 "nbformat": 4,
 "nbformat_minor": 2
}
