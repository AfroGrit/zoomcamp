{
  "nbformat": 4,
  "nbformat_minor": 0,
  "metadata": {
    "colab": {
      "provenance": [],
      "authorship_tag": "ABX9TyPr7mDSzK4uNecPDHO4+j1x",
      "include_colab_link": true
    },
    "kernelspec": {
      "name": "python3",
      "display_name": "Python 3"
    },
    "language_info": {
      "name": "python"
    },
    "accelerator": "GPU",
    "gpuClass": "standard"
  },
  "cells": [
    {
      "cell_type": "markdown",
      "metadata": {
        "id": "view-in-github",
        "colab_type": "text"
      },
      "source": [
        "<a href=\"https://colab.research.google.com/github/AfroGrit/zoomcamp/blob/module-8/hwk_08.ipynb\" target=\"_parent\"><img src=\"https://colab.research.google.com/assets/colab-badge.svg\" alt=\"Open In Colab\"/></a>"
      ]
    },
    {
      "cell_type": "code",
      "execution_count": 1,
      "metadata": {
        "id": "5sxmqSqWMg0B"
      },
      "outputs": [],
      "source": [
        "# ! wget https://github.com/alexeygrigorev/dino-or-dragon/releases/download/data/dino-dragon.zip\n",
        "# ! unzip dino-dragon.zip"
      ]
    },
    {
      "cell_type": "code",
      "source": [
        "from google.colab import drive\n",
        "drive.mount('/content/drive')"
      ],
      "metadata": {
        "colab": {
          "base_uri": "https://localhost:8080/"
        },
        "id": "B5wOnra9MlT8",
        "outputId": "3f12fd7b-0d56-430f-e2df-7be33058f941"
      },
      "execution_count": 2,
      "outputs": [
        {
          "output_type": "stream",
          "name": "stdout",
          "text": [
            "Mounted at /content/drive\n"
          ]
        }
      ]
    },
    {
      "cell_type": "code",
      "source": [
        "# ! ls /content/drive/MyDrive/dino-dragon\n",
        "# # !ls "
      ],
      "metadata": {
        "id": "dyCGi-4iM_AS"
      },
      "execution_count": 3,
      "outputs": []
    },
    {
      "cell_type": "code",
      "source": [
        "# ! mv train /content/drive/MyDrive/dino-dragon\n",
        "# ! mv test /content/drive/MyDrive/dino-dragon"
      ],
      "metadata": {
        "id": "IuIgeCOoNV4v"
      },
      "execution_count": 4,
      "outputs": []
    },
    {
      "cell_type": "code",
      "source": [
        "\n",
        "import numpy as np\n",
        "import matplotlib.pyplot as plt\n",
        "\n",
        "%matplotlib inline\n",
        "\n",
        "import tensorflow as tf\n",
        "from tensorflow import keras\n",
        "\n",
        "\n",
        "\n",
        "from tensorflow.keras import layers\n",
        "from tensorflow.keras import models\n",
        "from tensorflow.keras import optimizers\n",
        "\n",
        "from tensorflow.keras.preprocessing.image import ImageDataGenerator\n",
        "from tensorflow.keras.preprocessing.image import load_img"
      ],
      "metadata": {
        "id": "rKryka1aN0gJ"
      },
      "execution_count": 5,
      "outputs": []
    },
    {
      "cell_type": "code",
      "source": [
        "path = '/content/drive/MyDrive/dino-dragon/train/dino'\n",
        "dino_name = '008809ec-c4a2-478e-a4c0-ea297f27a4dd.jpg'\n",
        "fullname = f'{path}/{dino_name}'\n",
        "img = load_img(fullname, target_size=(299, 299))\n",
        "\n",
        "\n",
        "# /content/drive/MyDrive/dino-dragon/train/dino/008809ec-c4a2-478e-a4c0-ea297f27a4dd.jpg"
      ],
      "metadata": {
        "id": "cVpSMJ75OIey"
      },
      "execution_count": 6,
      "outputs": []
    },
    {
      "cell_type": "code",
      "source": [
        "# Convolutional Neural Network (CNN)\n",
        "model = models.Sequential()\n",
        "\n",
        "model.add( \n",
        "    layers.Conv2D(\n",
        "        32, (3, 3),               # Use 32 filters\n",
        "        activation='relu',        # Use 'relu' as activation\n",
        "        input_shape=(150, 150, 3) # The shape for input should be (150, 150, 3)\n",
        "    )\n",
        ")\n",
        "# Reduce the size of the feature map with max pooling\n",
        "model.add(layers.MaxPooling2D((2, 2)))\n",
        "# Turn the multi-dimensional result into vectors using a Flatten layer\n",
        "model.add(layers.Flatten())\n",
        "# Next, add a Dense layer with 64 neurons and 'relu' activation\n",
        "model.add(layers.Dense(64, activation='relu'))\n",
        "# Finally, create the Dense layer with 1 neuron - this will be the output\n",
        "model.add(layers.Dense(1, activation='sigmoid')) # activation=sigmoid"
      ],
      "metadata": {
        "id": "-zBBdrNTQkt1"
      },
      "execution_count": 7,
      "outputs": []
    },
    {
      "cell_type": "markdown",
      "source": [
        "Question 1: Best loss function"
      ],
      "metadata": {
        "id": "LN3BHU02S9ZU"
      }
    },
    {
      "cell_type": "code",
      "source": [
        "# As optimizer use SGD with the following parameters: SGD(lr=0.002, momentum=0.8)\n",
        "\n",
        "model.compile(loss='binary_crossentropy',\\\n",
        "             optimizer=optimizers.SGD(learning_rate=0.002, momentum=0.8),\\\n",
        "             metrics=['acc'])"
      ],
      "metadata": {
        "id": "SVV3nlZISOR2"
      },
      "execution_count": 8,
      "outputs": []
    },
    {
      "cell_type": "markdown",
      "source": [
        "Question 2: Total number of parameters"
      ],
      "metadata": {
        "id": "yY30rSjJTAFd"
      }
    },
    {
      "cell_type": "code",
      "source": [
        "model.summary()"
      ],
      "metadata": {
        "colab": {
          "base_uri": "https://localhost:8080/"
        },
        "id": "96AW6yPgSY5y",
        "outputId": "0efbf6e0-c3c2-4f11-cba4-3d1deb758cd6"
      },
      "execution_count": 9,
      "outputs": [
        {
          "output_type": "stream",
          "name": "stdout",
          "text": [
            "Model: \"sequential\"\n",
            "_________________________________________________________________\n",
            " Layer (type)                Output Shape              Param #   \n",
            "=================================================================\n",
            " conv2d (Conv2D)             (None, 148, 148, 32)      896       \n",
            "                                                                 \n",
            " max_pooling2d (MaxPooling2D  (None, 74, 74, 32)       0         \n",
            " )                                                               \n",
            "                                                                 \n",
            " flatten (Flatten)           (None, 175232)            0         \n",
            "                                                                 \n",
            " dense (Dense)               (None, 64)                11214912  \n",
            "                                                                 \n",
            " dense_1 (Dense)             (None, 1)                 65        \n",
            "                                                                 \n",
            "=================================================================\n",
            "Total params: 11,215,873\n",
            "Trainable params: 11,215,873\n",
            "Non-trainable params: 0\n",
            "_________________________________________________________________\n"
          ]
        }
      ]
    },
    {
      "cell_type": "markdown",
      "source": [
        "Generators and Training"
      ],
      "metadata": {
        "id": "glPbUBFcTunE"
      }
    },
    {
      "cell_type": "code",
      "source": [
        "train_dir = '/content/drive/MyDrive/dino-dragon/train/'\n",
        "test_dir = '/content/drive/MyDrive/dino-dragon/test/'"
      ],
      "metadata": {
        "id": "t5GxoNcJTqHq"
      },
      "execution_count": 10,
      "outputs": []
    },
    {
      "cell_type": "code",
      "source": [
        "train_datagen = ImageDataGenerator(rescale=1./255)\n",
        "test_datagen = ImageDataGenerator(rescale=1./255)"
      ],
      "metadata": {
        "id": "PCHYB9GgS6Tu"
      },
      "execution_count": 11,
      "outputs": []
    },
    {
      "cell_type": "code",
      "source": [
        "train_generator = train_datagen.flow_from_directory(train_dir,\n",
        "                                                    target_size=(150, 150),\n",
        "                                                    batch_size=20,\n",
        "                                                    class_mode='binary',\n",
        "                                                    shuffle=True)"
      ],
      "metadata": {
        "colab": {
          "base_uri": "https://localhost:8080/"
        },
        "id": "hpwmEe8JTbC9",
        "outputId": "74f3e8bf-66ed-4fbe-a3a1-759ef2299aa8"
      },
      "execution_count": 12,
      "outputs": [
        {
          "output_type": "stream",
          "name": "stdout",
          "text": [
            "Found 1594 images belonging to 2 classes.\n"
          ]
        }
      ]
    },
    {
      "cell_type": "code",
      "source": [
        "test_generator = test_datagen.flow_from_directory(test_dir,\n",
        "                                                    target_size=(150, 150),\n",
        "                                                    batch_size=20,\n",
        "                                                    class_mode='binary',\n",
        "                                                   shuffle=True)"
      ],
      "metadata": {
        "colab": {
          "base_uri": "https://localhost:8080/"
        },
        "id": "_9ZDfep8TehV",
        "outputId": "0756be72-232b-4f12-a732-02241aed9b93"
      },
      "execution_count": 13,
      "outputs": [
        {
          "output_type": "stream",
          "name": "stdout",
          "text": [
            "Found 394 images belonging to 2 classes.\n"
          ]
        }
      ]
    },
    {
      "cell_type": "markdown",
      "source": [
        "Model fitting and Accuracy/Loss Evaluation"
      ],
      "metadata": {
        "id": "GGgcsoyXUPJ0"
      }
    },
    {
      "cell_type": "code",
      "source": [
        "\n",
        "history = model.fit(\n",
        "    train_generator,\n",
        "    epochs=10,\n",
        "    validation_data=test_generator\n",
        ")\n",
        "\n"
      ],
      "metadata": {
        "colab": {
          "base_uri": "https://localhost:8080/"
        },
        "id": "6N2kfTxSTxsA",
        "outputId": "8e580046-43c1-4074-a06e-670458c9486e"
      },
      "execution_count": 14,
      "outputs": [
        {
          "output_type": "stream",
          "name": "stdout",
          "text": [
            "Epoch 1/10\n",
            "80/80 [==============================] - 534s 7s/step - loss: 0.7089 - acc: 0.5659 - val_loss: 0.6270 - val_acc: 0.7970\n",
            "Epoch 2/10\n",
            "80/80 [==============================] - 13s 160ms/step - loss: 0.5723 - acc: 0.7409 - val_loss: 0.4961 - val_acc: 0.8249\n",
            "Epoch 3/10\n",
            "80/80 [==============================] - 12s 145ms/step - loss: 0.4571 - acc: 0.8036 - val_loss: 0.4719 - val_acc: 0.7665\n",
            "Epoch 4/10\n",
            "80/80 [==============================] - 11s 143ms/step - loss: 0.4098 - acc: 0.8287 - val_loss: 0.3783 - val_acc: 0.8477\n",
            "Epoch 5/10\n",
            "80/80 [==============================] - 13s 157ms/step - loss: 0.3366 - acc: 0.8720 - val_loss: 0.3442 - val_acc: 0.8553\n",
            "Epoch 6/10\n",
            "80/80 [==============================] - 12s 146ms/step - loss: 0.3059 - acc: 0.8745 - val_loss: 0.3386 - val_acc: 0.8553\n",
            "Epoch 7/10\n",
            "80/80 [==============================] - 13s 159ms/step - loss: 0.2864 - acc: 0.8877 - val_loss: 0.3076 - val_acc: 0.8706\n",
            "Epoch 8/10\n",
            "80/80 [==============================] - 13s 160ms/step - loss: 0.2446 - acc: 0.9084 - val_loss: 0.3202 - val_acc: 0.8579\n",
            "Epoch 9/10\n",
            "80/80 [==============================] - 12s 145ms/step - loss: 0.2317 - acc: 0.9147 - val_loss: 0.2862 - val_acc: 0.8832\n",
            "Epoch 10/10\n",
            "80/80 [==============================] - 12s 144ms/step - loss: 0.2047 - acc: 0.9279 - val_loss: 0.2973 - val_acc: 0.8807\n"
          ]
        }
      ]
    },
    {
      "cell_type": "markdown",
      "source": [
        "Question 3: \n",
        "What is the median of training accuracy for all the epochs for this model?"
      ],
      "metadata": {
        "id": "s41DPbbnXphV"
      }
    },
    {
      "cell_type": "code",
      "source": [
        "np.median(history.history['acc'])"
      ],
      "metadata": {
        "colab": {
          "base_uri": "https://localhost:8080/"
        },
        "id": "oD63jZwJUyeY",
        "outputId": "5cefe417-3c42-440e-91f6-ff359c64dc74"
      },
      "execution_count": 15,
      "outputs": [
        {
          "output_type": "execute_result",
          "data": {
            "text/plain": [
              "0.8732747733592987"
            ]
          },
          "metadata": {},
          "execution_count": 15
        }
      ]
    },
    {
      "cell_type": "markdown",
      "source": [
        "Question 4:\n",
        "What is the standard deviation of training loss for all the epochs for this model?"
      ],
      "metadata": {
        "id": "Oeh0ejHaXshD"
      }
    },
    {
      "cell_type": "code",
      "source": [
        "np.std(history.history['loss'])"
      ],
      "metadata": {
        "colab": {
          "base_uri": "https://localhost:8080/"
        },
        "id": "SycKEj4_XwA3",
        "outputId": "445a07b4-7d2a-434e-f029-9fa76617edda"
      },
      "execution_count": 16,
      "outputs": [
        {
          "output_type": "execute_result",
          "data": {
            "text/plain": [
              "0.1545972976024327"
            ]
          },
          "metadata": {},
          "execution_count": 16
        }
      ]
    },
    {
      "cell_type": "markdown",
      "source": [
        "Data Augmentation\n",
        "```\n",
        "rotation_range=40,\n",
        "width_shift_range=0.2,\n",
        "height_shift_range=0.2,\n",
        "shear_range=0.2,\n",
        "zoom_range=0.2,\n",
        "horizontal_flip=True,\n",
        "fill_mode='nearest'\n",
        "\n",
        "```\n",
        "\n",
        "\n"
      ],
      "metadata": {
        "id": "-CNcwqVdYKtD"
      }
    },
    {
      "cell_type": "code",
      "source": [
        "train_datagen_augmented = ImageDataGenerator(\n",
        "    rescale=1./255,\n",
        "    rotation_range=40,\n",
        "    width_shift_range=0.2,\n",
        "    height_shift_range=0.2,\n",
        "    shear_range=0.2,\n",
        "    zoom_range=0.2,\n",
        "    horizontal_flip=True,\n",
        "    fill_mode='nearest')\n",
        "\n",
        "\n",
        "# train_datagen = ImageDataGenerator(rescale=1./255)\n",
        "# test_datagen = ImageDataGenerator(rescale=1./255)"
      ],
      "metadata": {
        "id": "tD1MeS1VX4Wg"
      },
      "execution_count": 18,
      "outputs": []
    },
    {
      "cell_type": "code",
      "source": [
        "train_generator_augmented = train_datagen_augmented.flow_from_directory(train_dir,\n",
        "                                                    target_size=(150, 150),\n",
        "                                                    batch_size=20,\n",
        "                                                    class_mode='binary',\n",
        "                                                    shuffle=True)\n",
        "\n",
        "test_generator_augmented = train_datagen_augmented.flow_from_directory(test_dir,\n",
        "                                                    target_size=(150, 150),\n",
        "                                                    batch_size=20,\n",
        "                                                    class_mode='binary',\n",
        "                                                    shuffle=True)"
      ],
      "metadata": {
        "colab": {
          "base_uri": "https://localhost:8080/"
        },
        "id": "DmlynNxzZxqt",
        "outputId": "010b0a4e-44c4-49d1-bade-065b8c0fd511"
      },
      "execution_count": 19,
      "outputs": [
        {
          "output_type": "stream",
          "name": "stdout",
          "text": [
            "Found 1594 images belonging to 2 classes.\n",
            "Found 394 images belonging to 2 classes.\n"
          ]
        }
      ]
    },
    {
      "cell_type": "code",
      "source": [
        "\n",
        "history_augmented = model.fit(\n",
        "    train_generator_augmented,\n",
        "    epochs=10,\n",
        "    validation_data=test_generator_augmented\n",
        ")\n",
        "\n"
      ],
      "metadata": {
        "colab": {
          "base_uri": "https://localhost:8080/"
        },
        "id": "ovuekrgLYddc",
        "outputId": "4bd841ab-7c7c-4ca2-9211-da47ea2bf619"
      },
      "execution_count": 22,
      "outputs": [
        {
          "output_type": "stream",
          "name": "stdout",
          "text": [
            "Epoch 1/10\n",
            "80/80 [==============================] - 23s 284ms/step - loss: 0.3359 - acc: 0.8438 - val_loss: 0.4602 - val_acc: 0.8020\n",
            "Epoch 2/10\n",
            "80/80 [==============================] - 20s 256ms/step - loss: 0.3605 - acc: 0.8507 - val_loss: 0.3737 - val_acc: 0.8706\n",
            "Epoch 3/10\n",
            "80/80 [==============================] - 21s 267ms/step - loss: 0.3338 - acc: 0.8595 - val_loss: 0.3198 - val_acc: 0.8680\n",
            "Epoch 4/10\n",
            "80/80 [==============================] - 20s 253ms/step - loss: 0.3228 - acc: 0.8576 - val_loss: 0.3537 - val_acc: 0.8452\n",
            "Epoch 5/10\n",
            "80/80 [==============================] - 22s 282ms/step - loss: 0.3289 - acc: 0.8708 - val_loss: 0.3316 - val_acc: 0.8579\n",
            "Epoch 6/10\n",
            "80/80 [==============================] - 20s 252ms/step - loss: 0.3402 - acc: 0.8513 - val_loss: 0.3620 - val_acc: 0.8299\n",
            "Epoch 7/10\n",
            "80/80 [==============================] - 22s 271ms/step - loss: 0.3106 - acc: 0.8770 - val_loss: 0.3346 - val_acc: 0.8629\n",
            "Epoch 8/10\n",
            "80/80 [==============================] - 22s 271ms/step - loss: 0.3372 - acc: 0.8526 - val_loss: 0.2925 - val_acc: 0.8782\n",
            "Epoch 9/10\n",
            "80/80 [==============================] - 20s 252ms/step - loss: 0.3161 - acc: 0.8639 - val_loss: 0.3538 - val_acc: 0.8528\n",
            "Epoch 10/10\n",
            "80/80 [==============================] - 21s 269ms/step - loss: 0.3027 - acc: 0.8777 - val_loss: 0.3189 - val_acc: 0.8680\n"
          ]
        }
      ]
    },
    {
      "cell_type": "code",
      "source": [
        "np.mean(history_augmented.history['val_loss'])"
      ],
      "metadata": {
        "colab": {
          "base_uri": "https://localhost:8080/"
        },
        "id": "EfHBdUHWZjX8",
        "outputId": "856fad41-4b10-4514-b64f-a0971c093d0e"
      },
      "execution_count": 23,
      "outputs": [
        {
          "output_type": "execute_result",
          "data": {
            "text/plain": [
              "0.35005858838558196"
            ]
          },
          "metadata": {},
          "execution_count": 23
        }
      ]
    },
    {
      "cell_type": "code",
      "source": [
        "np.mean( history_augmented.history['val_loss'][5:] )"
      ],
      "metadata": {
        "colab": {
          "base_uri": "https://localhost:8080/"
        },
        "id": "RuzR8A6eawYM",
        "outputId": "65a8b80c-ce69-4e6c-c6e0-f98b87084e1d"
      },
      "execution_count": 30,
      "outputs": [
        {
          "output_type": "execute_result",
          "data": {
            "text/plain": [
              "0.3323437452316284"
            ]
          },
          "metadata": {},
          "execution_count": 30
        }
      ]
    },
    {
      "cell_type": "code",
      "source": [],
      "metadata": {
        "id": "W4U1c1drceXR"
      },
      "execution_count": null,
      "outputs": []
    }
  ]
}